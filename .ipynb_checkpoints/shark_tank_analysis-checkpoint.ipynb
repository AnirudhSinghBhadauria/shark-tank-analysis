{
 "cells": [
  {
   "cell_type": "code",
   "execution_count": 9,
   "id": "ae773e45-caa5-4285-98aa-002073556e21",
   "metadata": {},
   "outputs": [],
   "source": [
    "import pandas as pd\n",
    "import plotly.express as px\n",
    "import plotly.graph_objects as go\n",
    "from plotly.subplots import make_subplots"
   ]
  },
  {
   "cell_type": "code",
   "execution_count": 10,
   "id": "125b4436-38bb-487b-8341-32f19b1227da",
   "metadata": {},
   "outputs": [],
   "source": [
    "clean_file_path = \"C:/users/anirudh.bhadauria/data-analysis/shark-tank-analysis/data/shark_tank_clean.csv\""
   ]
  },
  {
   "cell_type": "code",
   "execution_count": 11,
   "id": "1786b251-cd57-491e-8fb1-1a9e4c5b0634",
   "metadata": {},
   "outputs": [
    {
     "ename": "FileNotFoundError",
     "evalue": "[Errno 2] No such file or directory: 'C:/Users/aniru/data-analysis/shark-tank-analysis/data/shark_tank_clean.csv'",
     "output_type": "error",
     "traceback": [
      "\u001b[1;31m---------------------------------------------------------------------------\u001b[0m",
      "\u001b[1;31mFileNotFoundError\u001b[0m                         Traceback (most recent call last)",
      "Cell \u001b[1;32mIn[11], line 1\u001b[0m\n\u001b[1;32m----> 1\u001b[0m tank_df \u001b[38;5;241m=\u001b[39m \u001b[43mpd\u001b[49m\u001b[38;5;241;43m.\u001b[39;49m\u001b[43mread_csv\u001b[49m\u001b[43m(\u001b[49m\u001b[43mclean_file_path\u001b[49m\u001b[43m,\u001b[49m\u001b[43m \u001b[49m\u001b[43mparse_dates\u001b[49m\u001b[43m \u001b[49m\u001b[38;5;241;43m=\u001b[39;49m\u001b[43m \u001b[49m\u001b[38;5;28;43;01mTrue\u001b[39;49;00m\u001b[43m)\u001b[49m\n",
      "File \u001b[1;32m~\\AppData\\Local\\Programs\\Python\\Python312\\Lib\\site-packages\\pandas\\io\\parsers\\readers.py:1026\u001b[0m, in \u001b[0;36mread_csv\u001b[1;34m(filepath_or_buffer, sep, delimiter, header, names, index_col, usecols, dtype, engine, converters, true_values, false_values, skipinitialspace, skiprows, skipfooter, nrows, na_values, keep_default_na, na_filter, verbose, skip_blank_lines, parse_dates, infer_datetime_format, keep_date_col, date_parser, date_format, dayfirst, cache_dates, iterator, chunksize, compression, thousands, decimal, lineterminator, quotechar, quoting, doublequote, escapechar, comment, encoding, encoding_errors, dialect, on_bad_lines, delim_whitespace, low_memory, memory_map, float_precision, storage_options, dtype_backend)\u001b[0m\n\u001b[0;32m   1013\u001b[0m kwds_defaults \u001b[38;5;241m=\u001b[39m _refine_defaults_read(\n\u001b[0;32m   1014\u001b[0m     dialect,\n\u001b[0;32m   1015\u001b[0m     delimiter,\n\u001b[1;32m   (...)\u001b[0m\n\u001b[0;32m   1022\u001b[0m     dtype_backend\u001b[38;5;241m=\u001b[39mdtype_backend,\n\u001b[0;32m   1023\u001b[0m )\n\u001b[0;32m   1024\u001b[0m kwds\u001b[38;5;241m.\u001b[39mupdate(kwds_defaults)\n\u001b[1;32m-> 1026\u001b[0m \u001b[38;5;28;01mreturn\u001b[39;00m \u001b[43m_read\u001b[49m\u001b[43m(\u001b[49m\u001b[43mfilepath_or_buffer\u001b[49m\u001b[43m,\u001b[49m\u001b[43m \u001b[49m\u001b[43mkwds\u001b[49m\u001b[43m)\u001b[49m\n",
      "File \u001b[1;32m~\\AppData\\Local\\Programs\\Python\\Python312\\Lib\\site-packages\\pandas\\io\\parsers\\readers.py:620\u001b[0m, in \u001b[0;36m_read\u001b[1;34m(filepath_or_buffer, kwds)\u001b[0m\n\u001b[0;32m    617\u001b[0m _validate_names(kwds\u001b[38;5;241m.\u001b[39mget(\u001b[38;5;124m\"\u001b[39m\u001b[38;5;124mnames\u001b[39m\u001b[38;5;124m\"\u001b[39m, \u001b[38;5;28;01mNone\u001b[39;00m))\n\u001b[0;32m    619\u001b[0m \u001b[38;5;66;03m# Create the parser.\u001b[39;00m\n\u001b[1;32m--> 620\u001b[0m parser \u001b[38;5;241m=\u001b[39m \u001b[43mTextFileReader\u001b[49m\u001b[43m(\u001b[49m\u001b[43mfilepath_or_buffer\u001b[49m\u001b[43m,\u001b[49m\u001b[43m \u001b[49m\u001b[38;5;241;43m*\u001b[39;49m\u001b[38;5;241;43m*\u001b[39;49m\u001b[43mkwds\u001b[49m\u001b[43m)\u001b[49m\n\u001b[0;32m    622\u001b[0m \u001b[38;5;28;01mif\u001b[39;00m chunksize \u001b[38;5;129;01mor\u001b[39;00m iterator:\n\u001b[0;32m    623\u001b[0m     \u001b[38;5;28;01mreturn\u001b[39;00m parser\n",
      "File \u001b[1;32m~\\AppData\\Local\\Programs\\Python\\Python312\\Lib\\site-packages\\pandas\\io\\parsers\\readers.py:1620\u001b[0m, in \u001b[0;36mTextFileReader.__init__\u001b[1;34m(self, f, engine, **kwds)\u001b[0m\n\u001b[0;32m   1617\u001b[0m     \u001b[38;5;28mself\u001b[39m\u001b[38;5;241m.\u001b[39moptions[\u001b[38;5;124m\"\u001b[39m\u001b[38;5;124mhas_index_names\u001b[39m\u001b[38;5;124m\"\u001b[39m] \u001b[38;5;241m=\u001b[39m kwds[\u001b[38;5;124m\"\u001b[39m\u001b[38;5;124mhas_index_names\u001b[39m\u001b[38;5;124m\"\u001b[39m]\n\u001b[0;32m   1619\u001b[0m \u001b[38;5;28mself\u001b[39m\u001b[38;5;241m.\u001b[39mhandles: IOHandles \u001b[38;5;241m|\u001b[39m \u001b[38;5;28;01mNone\u001b[39;00m \u001b[38;5;241m=\u001b[39m \u001b[38;5;28;01mNone\u001b[39;00m\n\u001b[1;32m-> 1620\u001b[0m \u001b[38;5;28mself\u001b[39m\u001b[38;5;241m.\u001b[39m_engine \u001b[38;5;241m=\u001b[39m \u001b[38;5;28;43mself\u001b[39;49m\u001b[38;5;241;43m.\u001b[39;49m\u001b[43m_make_engine\u001b[49m\u001b[43m(\u001b[49m\u001b[43mf\u001b[49m\u001b[43m,\u001b[49m\u001b[43m \u001b[49m\u001b[38;5;28;43mself\u001b[39;49m\u001b[38;5;241;43m.\u001b[39;49m\u001b[43mengine\u001b[49m\u001b[43m)\u001b[49m\n",
      "File \u001b[1;32m~\\AppData\\Local\\Programs\\Python\\Python312\\Lib\\site-packages\\pandas\\io\\parsers\\readers.py:1880\u001b[0m, in \u001b[0;36mTextFileReader._make_engine\u001b[1;34m(self, f, engine)\u001b[0m\n\u001b[0;32m   1878\u001b[0m     \u001b[38;5;28;01mif\u001b[39;00m \u001b[38;5;124m\"\u001b[39m\u001b[38;5;124mb\u001b[39m\u001b[38;5;124m\"\u001b[39m \u001b[38;5;129;01mnot\u001b[39;00m \u001b[38;5;129;01min\u001b[39;00m mode:\n\u001b[0;32m   1879\u001b[0m         mode \u001b[38;5;241m+\u001b[39m\u001b[38;5;241m=\u001b[39m \u001b[38;5;124m\"\u001b[39m\u001b[38;5;124mb\u001b[39m\u001b[38;5;124m\"\u001b[39m\n\u001b[1;32m-> 1880\u001b[0m \u001b[38;5;28mself\u001b[39m\u001b[38;5;241m.\u001b[39mhandles \u001b[38;5;241m=\u001b[39m \u001b[43mget_handle\u001b[49m\u001b[43m(\u001b[49m\n\u001b[0;32m   1881\u001b[0m \u001b[43m    \u001b[49m\u001b[43mf\u001b[49m\u001b[43m,\u001b[49m\n\u001b[0;32m   1882\u001b[0m \u001b[43m    \u001b[49m\u001b[43mmode\u001b[49m\u001b[43m,\u001b[49m\n\u001b[0;32m   1883\u001b[0m \u001b[43m    \u001b[49m\u001b[43mencoding\u001b[49m\u001b[38;5;241;43m=\u001b[39;49m\u001b[38;5;28;43mself\u001b[39;49m\u001b[38;5;241;43m.\u001b[39;49m\u001b[43moptions\u001b[49m\u001b[38;5;241;43m.\u001b[39;49m\u001b[43mget\u001b[49m\u001b[43m(\u001b[49m\u001b[38;5;124;43m\"\u001b[39;49m\u001b[38;5;124;43mencoding\u001b[39;49m\u001b[38;5;124;43m\"\u001b[39;49m\u001b[43m,\u001b[49m\u001b[43m \u001b[49m\u001b[38;5;28;43;01mNone\u001b[39;49;00m\u001b[43m)\u001b[49m\u001b[43m,\u001b[49m\n\u001b[0;32m   1884\u001b[0m \u001b[43m    \u001b[49m\u001b[43mcompression\u001b[49m\u001b[38;5;241;43m=\u001b[39;49m\u001b[38;5;28;43mself\u001b[39;49m\u001b[38;5;241;43m.\u001b[39;49m\u001b[43moptions\u001b[49m\u001b[38;5;241;43m.\u001b[39;49m\u001b[43mget\u001b[49m\u001b[43m(\u001b[49m\u001b[38;5;124;43m\"\u001b[39;49m\u001b[38;5;124;43mcompression\u001b[39;49m\u001b[38;5;124;43m\"\u001b[39;49m\u001b[43m,\u001b[49m\u001b[43m \u001b[49m\u001b[38;5;28;43;01mNone\u001b[39;49;00m\u001b[43m)\u001b[49m\u001b[43m,\u001b[49m\n\u001b[0;32m   1885\u001b[0m \u001b[43m    \u001b[49m\u001b[43mmemory_map\u001b[49m\u001b[38;5;241;43m=\u001b[39;49m\u001b[38;5;28;43mself\u001b[39;49m\u001b[38;5;241;43m.\u001b[39;49m\u001b[43moptions\u001b[49m\u001b[38;5;241;43m.\u001b[39;49m\u001b[43mget\u001b[49m\u001b[43m(\u001b[49m\u001b[38;5;124;43m\"\u001b[39;49m\u001b[38;5;124;43mmemory_map\u001b[39;49m\u001b[38;5;124;43m\"\u001b[39;49m\u001b[43m,\u001b[49m\u001b[43m \u001b[49m\u001b[38;5;28;43;01mFalse\u001b[39;49;00m\u001b[43m)\u001b[49m\u001b[43m,\u001b[49m\n\u001b[0;32m   1886\u001b[0m \u001b[43m    \u001b[49m\u001b[43mis_text\u001b[49m\u001b[38;5;241;43m=\u001b[39;49m\u001b[43mis_text\u001b[49m\u001b[43m,\u001b[49m\n\u001b[0;32m   1887\u001b[0m \u001b[43m    \u001b[49m\u001b[43merrors\u001b[49m\u001b[38;5;241;43m=\u001b[39;49m\u001b[38;5;28;43mself\u001b[39;49m\u001b[38;5;241;43m.\u001b[39;49m\u001b[43moptions\u001b[49m\u001b[38;5;241;43m.\u001b[39;49m\u001b[43mget\u001b[49m\u001b[43m(\u001b[49m\u001b[38;5;124;43m\"\u001b[39;49m\u001b[38;5;124;43mencoding_errors\u001b[39;49m\u001b[38;5;124;43m\"\u001b[39;49m\u001b[43m,\u001b[49m\u001b[43m \u001b[49m\u001b[38;5;124;43m\"\u001b[39;49m\u001b[38;5;124;43mstrict\u001b[39;49m\u001b[38;5;124;43m\"\u001b[39;49m\u001b[43m)\u001b[49m\u001b[43m,\u001b[49m\n\u001b[0;32m   1888\u001b[0m \u001b[43m    \u001b[49m\u001b[43mstorage_options\u001b[49m\u001b[38;5;241;43m=\u001b[39;49m\u001b[38;5;28;43mself\u001b[39;49m\u001b[38;5;241;43m.\u001b[39;49m\u001b[43moptions\u001b[49m\u001b[38;5;241;43m.\u001b[39;49m\u001b[43mget\u001b[49m\u001b[43m(\u001b[49m\u001b[38;5;124;43m\"\u001b[39;49m\u001b[38;5;124;43mstorage_options\u001b[39;49m\u001b[38;5;124;43m\"\u001b[39;49m\u001b[43m,\u001b[49m\u001b[43m \u001b[49m\u001b[38;5;28;43;01mNone\u001b[39;49;00m\u001b[43m)\u001b[49m\u001b[43m,\u001b[49m\n\u001b[0;32m   1889\u001b[0m \u001b[43m\u001b[49m\u001b[43m)\u001b[49m\n\u001b[0;32m   1890\u001b[0m \u001b[38;5;28;01massert\u001b[39;00m \u001b[38;5;28mself\u001b[39m\u001b[38;5;241m.\u001b[39mhandles \u001b[38;5;129;01mis\u001b[39;00m \u001b[38;5;129;01mnot\u001b[39;00m \u001b[38;5;28;01mNone\u001b[39;00m\n\u001b[0;32m   1891\u001b[0m f \u001b[38;5;241m=\u001b[39m \u001b[38;5;28mself\u001b[39m\u001b[38;5;241m.\u001b[39mhandles\u001b[38;5;241m.\u001b[39mhandle\n",
      "File \u001b[1;32m~\\AppData\\Local\\Programs\\Python\\Python312\\Lib\\site-packages\\pandas\\io\\common.py:873\u001b[0m, in \u001b[0;36mget_handle\u001b[1;34m(path_or_buf, mode, encoding, compression, memory_map, is_text, errors, storage_options)\u001b[0m\n\u001b[0;32m    868\u001b[0m \u001b[38;5;28;01melif\u001b[39;00m \u001b[38;5;28misinstance\u001b[39m(handle, \u001b[38;5;28mstr\u001b[39m):\n\u001b[0;32m    869\u001b[0m     \u001b[38;5;66;03m# Check whether the filename is to be opened in binary mode.\u001b[39;00m\n\u001b[0;32m    870\u001b[0m     \u001b[38;5;66;03m# Binary mode does not support 'encoding' and 'newline'.\u001b[39;00m\n\u001b[0;32m    871\u001b[0m     \u001b[38;5;28;01mif\u001b[39;00m ioargs\u001b[38;5;241m.\u001b[39mencoding \u001b[38;5;129;01mand\u001b[39;00m \u001b[38;5;124m\"\u001b[39m\u001b[38;5;124mb\u001b[39m\u001b[38;5;124m\"\u001b[39m \u001b[38;5;129;01mnot\u001b[39;00m \u001b[38;5;129;01min\u001b[39;00m ioargs\u001b[38;5;241m.\u001b[39mmode:\n\u001b[0;32m    872\u001b[0m         \u001b[38;5;66;03m# Encoding\u001b[39;00m\n\u001b[1;32m--> 873\u001b[0m         handle \u001b[38;5;241m=\u001b[39m \u001b[38;5;28;43mopen\u001b[39;49m\u001b[43m(\u001b[49m\n\u001b[0;32m    874\u001b[0m \u001b[43m            \u001b[49m\u001b[43mhandle\u001b[49m\u001b[43m,\u001b[49m\n\u001b[0;32m    875\u001b[0m \u001b[43m            \u001b[49m\u001b[43mioargs\u001b[49m\u001b[38;5;241;43m.\u001b[39;49m\u001b[43mmode\u001b[49m\u001b[43m,\u001b[49m\n\u001b[0;32m    876\u001b[0m \u001b[43m            \u001b[49m\u001b[43mencoding\u001b[49m\u001b[38;5;241;43m=\u001b[39;49m\u001b[43mioargs\u001b[49m\u001b[38;5;241;43m.\u001b[39;49m\u001b[43mencoding\u001b[49m\u001b[43m,\u001b[49m\n\u001b[0;32m    877\u001b[0m \u001b[43m            \u001b[49m\u001b[43merrors\u001b[49m\u001b[38;5;241;43m=\u001b[39;49m\u001b[43merrors\u001b[49m\u001b[43m,\u001b[49m\n\u001b[0;32m    878\u001b[0m \u001b[43m            \u001b[49m\u001b[43mnewline\u001b[49m\u001b[38;5;241;43m=\u001b[39;49m\u001b[38;5;124;43m\"\u001b[39;49m\u001b[38;5;124;43m\"\u001b[39;49m\u001b[43m,\u001b[49m\n\u001b[0;32m    879\u001b[0m \u001b[43m        \u001b[49m\u001b[43m)\u001b[49m\n\u001b[0;32m    880\u001b[0m     \u001b[38;5;28;01melse\u001b[39;00m:\n\u001b[0;32m    881\u001b[0m         \u001b[38;5;66;03m# Binary mode\u001b[39;00m\n\u001b[0;32m    882\u001b[0m         handle \u001b[38;5;241m=\u001b[39m \u001b[38;5;28mopen\u001b[39m(handle, ioargs\u001b[38;5;241m.\u001b[39mmode)\n",
      "\u001b[1;31mFileNotFoundError\u001b[0m: [Errno 2] No such file or directory: 'C:/Users/aniru/data-analysis/shark-tank-analysis/data/shark_tank_clean.csv'"
     ]
    }
   ],
   "source": [
    "tank_df = pd.read_csv(clean_file_path, parse_dates = True)"
   ]
  },
  {
   "cell_type": "markdown",
   "id": "2f108c24-f78e-40a6-bf8e-fd0aa2a86e01",
   "metadata": {},
   "source": [
    "## InsightsBlockingIOError"
   ]
  },
  {
   "cell_type": "markdown",
   "id": "a161fb08-3b3b-4f21-b756-4df6985fff39",
   "metadata": {
    "jp-MarkdownHeadingCollapsed": true
   },
   "source": [
    "#### What is the total number of episodes (aired) and entrepreneur that came in Total and in different seasons?"
   ]
  },
  {
   "cell_type": "code",
   "execution_count": null,
   "id": "a3e98c15-f038-41f8-9232-f600ffbcde6f",
   "metadata": {
    "jupyter": {
     "source_hidden": true
    }
   },
   "outputs": [],
   "source": [
    "# General statistics\n",
    "\n",
    "def total_entrepreneurs_season(season_number):\n",
    "    return tank_df['presenter_count'].loc[\n",
    "        tank_df['season_number'] == season_number\n",
    "    ].sum()\n",
    "    \n",
    "total_entrepreneurs = tank_df['presenter_count'].sum()\n",
    "total_episodes = tank_df.loc[\n",
    "    tank_df['episode_number'] != 0\n",
    "]\n",
    "\n",
    "print(f'Total number of aired episodes: {total_episodes.shape[0]}')\n",
    "print(f\"Total number of entrepreneurs that appeared in Sharktank so far: {total_entrepreneurs}\")\n",
    "print(f'Entrepreneur in Season 1: {total_entrepreneurs_season(1)}')\n",
    "print(f'Entrepreneur in Season 2: {total_entrepreneurs_season(2)}')\n",
    "print(f'Entrepreneur in Season 3: {total_entrepreneurs_season(3)}')"
   ]
  },
  {
   "cell_type": "code",
   "execution_count": null,
   "id": "f9b0aaea-9bc4-4034-9f7c-fb63ef3e912c",
   "metadata": {
    "jupyter": {
     "source_hidden": true
    }
   },
   "outputs": [],
   "source": [
    "# Total startups in each season\n",
    "\n",
    "tank_df[['season_number', 'startup_name']].groupby('season_number').count()"
   ]
  },
  {
   "cell_type": "code",
   "execution_count": null,
   "id": "a8b96c93-2f13-46f7-8bc4-5610fe130bc2",
   "metadata": {
    "jupyter": {
     "source_hidden": true
    }
   },
   "outputs": [],
   "source": [
    "# Plot for number of startups and entreprenuers \n",
    "\n",
    "startups_season_one = tank_df[['season_number', 'startup_name']].groupby('season_number').count().values[0, 0]\n",
    "startups_season_two = tank_df[['season_number', 'startup_name']].groupby('season_number').count().values[1, 0]\n",
    "startups_season_three = tank_df[['season_number', 'startup_name']].groupby('season_number').count().values[2, 0]\n",
    "\n",
    "labels_entre = [\"Entrepreneurs Season 1\", \"Entrepreneurs Season 2\", \"Entrepreneurs Season 3\"]\n",
    "values_entre = [\n",
    "    total_entrepreneurs_season(1),\n",
    "    total_entrepreneurs_season(2),\n",
    "    total_entrepreneurs_season(3)\n",
    "]\n",
    "\n",
    "labels_startup = ['Startups in season 1', 'Startups in season 2', 'Startups in season 3']\n",
    "values_startup = [startups_season_one, startups_season_two, startups_season_three]\n",
    "\n",
    "fig = make_subplots(\n",
    "    rows=1, cols=2,\n",
    "    specs=[[{\"type\": \"pie\"}, {\"type\": \"pie\"}]]\n",
    ")\n",
    "\n",
    "fig.add_trace(\n",
    "    go.Pie(labels=labels_entre, values=values_entre, hole=.45, textinfo='value'),\n",
    "    row=1, col=1\n",
    ")\n",
    "\n",
    "fig.add_trace(\n",
    "    go.Pie(labels=labels_startup, values=values_startup, hole=.45, textinfo='value'),\n",
    "    row=1, col=2\n",
    ")\n",
    "\n",
    "fig.update_layout(\n",
    "    font=dict(size=16),\n",
    "    width=1000,\n",
    "    height=450,\n",
    "    margin=dict(l=40, r=40, t=30, b=10),\n",
    "    paper_bgcolor=\"white\",\n",
    "    plot_bgcolor=\"white\",\n",
    "    showlegend=True,\n",
    "    legend=dict(orientation=\"v\", yanchor=\"bottom\", y=0.6, xanchor=\"right\", x=1.5),\n",
    "    annotations=[\n",
    "        dict(\n",
    "            text=\"Total Entrepreneurs per Season\",\n",
    "            x=0,\n",
    "            y=1,\n",
    "            xref=\"paper\",\n",
    "            yref=\"paper\",\n",
    "            showarrow=False\n",
    "        ),\n",
    "        dict(\n",
    "            text=\"Total Startups per Season\",\n",
    "            x=0.95,\n",
    "            y=1,\n",
    "            xref=\"paper\",\n",
    "            yref=\"paper\",\n",
    "            showarrow=False\n",
    "        )\n",
    "    ]\n",
    ")\n",
    "\n",
    "fig.show()"
   ]
  },
  {
   "cell_type": "markdown",
   "id": "f47d560d-dc29-43d3-ae54-5b9264a619ab",
   "metadata": {},
   "source": [
    "#### Total Number of offers recieved and Total number of deals in all the seasons, and in different seasons seperately?"
   ]
  },
  {
   "cell_type": "code",
   "execution_count": null,
   "id": "5b28dbb7-3c36-4c00-a3e7-2ff5e6c7808b",
   "metadata": {
    "jupyter": {
     "source_hidden": true
    }
   },
   "outputs": [],
   "source": [
    "# Percentage of offers\n",
    "def percentage_offers(season_number):\n",
    "    total_offers_received = tank_df['received_offer'].loc[\n",
    "        tank_df['season_number'] == season_number\n",
    "    ].sum()\n",
    "    \n",
    "    total_startups = tank_df['startup_name'].loc[\n",
    "        tank_df['season_number'] == season_number\n",
    "    ].shape[0]\n",
    "\n",
    "    return ((total_offers_received / total_startups) * 100).round(2)"
   ]
  },
  {
   "cell_type": "code",
   "execution_count": null,
   "id": "c7b65801-51c2-4f38-8ad3-794d7102955e",
   "metadata": {
    "jupyter": {
     "source_hidden": true
    }
   },
   "outputs": [],
   "source": [
    "# General Statistics\n",
    "\n",
    "total_offers_received = tank_df['received_offer'].sum()\n",
    "total_startups = tank_df['startup_name'].shape[0]\n",
    "\n",
    "offers = ((total_offers_received / total_startups) * 100).round(2)\n",
    "\n",
    "print(f\"Total Number of offers received: {total_offers_received}\")\n",
    "print(f\"Total Number of pitches: {total_startups}\")\n",
    "\n",
    "print(f\"Percentage of Startups getting offer: {offers}%\")\n",
    "print()\n",
    "print(f\"Percentage of Startups getting offer in season 1: {percentage_offers(1)}%\")\n",
    "print(f\"Percentage of Startups getting offer in season 2: {percentage_offers(2)}%\")\n",
    "print(f\"Percentage of Startups getting offer in season 3: {percentage_offers(3)}%\")"
   ]
  },
  {
   "cell_type": "markdown",
   "id": "56d79424-b49d-4080-9260-1185bc2c0dc3",
   "metadata": {},
   "source": [
    "#### Categorize Startups by Industry and Plot Offers Received\n"
   ]
  },
  {
   "cell_type": "code",
   "execution_count": null,
   "id": "b3f81585",
   "metadata": {
    "jupyter": {
     "source_hidden": true
    }
   },
   "outputs": [],
   "source": [
    "# Total number of startups from different industries\n",
    "\n",
    "startup_industry = tank_df[['industry', 'startup_name']].groupby('industry').count().rename(\n",
    "    columns = {\n",
    "        \"startup_name\": \"Startups\"\n",
    "    }\n",
    ")\n",
    "\n",
    "startup_received_offer = tank_df[['industry', 'startup_name']].loc[\n",
    "    tank_df['received_offer'] == 1\n",
    "].groupby('industry').count().rename(columns = {\n",
    "    \"startup_name\": \"Got Offer\"\n",
    "})\n",
    "\n",
    "startup_deal = tank_df[['industry', 'startup_name']].loc[\n",
    "    tank_df['deal_amount'] != 0\n",
    "].groupby('industry').count().rename(columns = {\n",
    "    \"startup_name\": \"Deals\"\n",
    "})\n",
    "\n",
    "startup_offer = pd.merge(startup_industry, startup_received_offer, on=\"industry\", how='left')\n",
    "startup_deals = pd.merge(startup_offer, startup_deal, on=\"industry\", how=\"left\")\n",
    "\n",
    "startup_deals['Got Offer (%)'] = ((startup_deals['Got Offer'] / startup_deals['Startups']) * 100).round(2)\n",
    "startup_deals['Offers converted (%)'] = ((startup_deals['Deals'] / startup_deals['Got Offer']) * 100).round(2)\n",
    "\n",
    "startup_deals"
   ]
  },
  {
   "cell_type": "code",
   "execution_count": null,
   "id": "53da7b6b-bf20-4bf8-89c3-9fddbf64f048",
   "metadata": {
    "jupyter": {
     "source_hidden": true
    }
   },
   "outputs": [],
   "source": [
    "# Plot for industry, startups, offers and deals for all seasons\n",
    "\n",
    "industry = startup_deals.index\n",
    "startups = startup_deals.values[:, 0]\n",
    "offers = startup_deals.values[:, 1]\n",
    "deals = startup_deals.values[:, 2]\n",
    "\n",
    "fig = go.Figure()\n",
    "fig.add_trace(go.Bar(\n",
    "    x=industry,\n",
    "    y=startups,\n",
    "    name='Startups',\n",
    "    marker_color='#5e548e'\n",
    "))\n",
    "\n",
    "fig.add_trace(go.Bar(\n",
    "    x=industry,\n",
    "    y=offers,\n",
    "    name='Total offers',\n",
    "    marker_color='#9f86c0'\n",
    "))\n",
    "\n",
    "fig.add_trace(go.Bar(\n",
    "    x=industry,\n",
    "    y=deals,\n",
    "    name='Total deals',\n",
    "    marker_color='#be95c4'\n",
    "))\n",
    "\n",
    "fig.update_layout(\n",
    "    barmode='group', \n",
    "    xaxis_tickangle=-45, \n",
    "    title=\"Industry, startups, offers and deals for all seasons\"\n",
    ")\n",
    "\n",
    "fig.show()"
   ]
  },
  {
   "cell_type": "code",
   "execution_count": null,
   "id": "f0c80da6-8f85-4c3d-a0f8-1ef2124e47af",
   "metadata": {},
   "outputs": [],
   "source": [
    "# Top 5 Industries that got offer\n",
    "\n",
    "startup_deals.sort_values('Got Offer', ascending=False).iloc[:5, :]"
   ]
  },
  {
   "cell_type": "code",
   "execution_count": null,
   "id": "132cea9e-5026-4502-bc6c-0fc516c4f050",
   "metadata": {
    "jupyter": {
     "source_hidden": true
    }
   },
   "outputs": [],
   "source": [
    "# Total number of startups from different industries for a particular season\n",
    "\n",
    "def startup_offer_converted_by_season(season):\n",
    "    season_startup_industry = tank_df.loc[\n",
    "        tank_df['season_number'] == season\n",
    "    ][['industry', 'startup_name']].groupby('industry').count().rename(\n",
    "        columns = {\n",
    "            \"startup_name\": \"Startups\"\n",
    "        }\n",
    "    )\n",
    "    \n",
    "    season_startup_received_offer = tank_df.loc[\n",
    "        tank_df['season_number'] == season\n",
    "    ][['industry', 'startup_name']].loc[\n",
    "        tank_df['received_offer'] == 1\n",
    "    ].groupby('industry').count().rename(columns = {\n",
    "        \"startup_name\": \"Got Offer\"\n",
    "    })\n",
    "    \n",
    "    season_startup_deal = tank_df.loc[\n",
    "        tank_df['season_number'] == season\n",
    "    ][['industry', 'startup_name']].loc[\n",
    "        tank_df['deal_amount'] != 0\n",
    "    ].groupby('industry').count().rename(columns = {\n",
    "        \"startup_name\": \"Deals\"\n",
    "    })\n",
    "    \n",
    "    season_startup_offer = pd.merge(\n",
    "        season_startup_industry, \n",
    "        season_startup_received_offer, \n",
    "        on=\"industry\", how='left'\n",
    "    )\n",
    "    season_startup_deals = pd.merge(\n",
    "        season_startup_offer, \n",
    "        season_startup_deal, \n",
    "        on=\"industry\", how=\"left\"\n",
    "    )\n",
    "    \n",
    "    season_startup_deals['Got Offer (%)'] = (\n",
    "        (season_startup_deals['Got Offer'] / season_startup_deals['Startups']) * 100\n",
    "    ).round(2)\n",
    "    season_startup_deals['Offers converted (%)'] = (\n",
    "        (season_startup_deals['Deals'] / season_startup_deals['Got Offer']) * 100\n",
    "    ).round(2)\n",
    "    \n",
    "    season_startup_deals.fillna(0, inplace=True)\n",
    "    return season_startup_deals"
   ]
  },
  {
   "cell_type": "code",
   "execution_count": null,
   "id": "4bf43456-5eaa-48d1-b9ae-9995d1ac6453",
   "metadata": {
    "jupyter": {
     "source_hidden": true
    }
   },
   "outputs": [],
   "source": [
    "# Plot for total number of startups from different industries for a particular season \n",
    "\n",
    "def plot_startup_offer(season_number):\n",
    "    startup_data = startup_offer_converted_by_season(season_number)\n",
    "    \n",
    "    industry = startup_data.index\n",
    "    startups = startup_data.values[:, 0]\n",
    "    offers = startup_data.values[:, 1]\n",
    "    deals = startup_data.values[:, 2]\n",
    "    \n",
    "    fig = go.Figure()\n",
    "    fig.add_trace(go.Bar(\n",
    "        x=industry,\n",
    "        y=startups,\n",
    "        name='Startups',\n",
    "        marker_color='#5e548e'\n",
    "    ))\n",
    "    \n",
    "    fig.add_trace(go.Bar(\n",
    "        x=industry,\n",
    "        y=offers,\n",
    "        name='Total offers',\n",
    "        marker_color='#9f86c0'\n",
    "    ))\n",
    "    \n",
    "    fig.add_trace(go.Bar(\n",
    "        x=industry,\n",
    "        y=deals,\n",
    "        name='Total deals',\n",
    "        marker_color='#be95c4'\n",
    "    ))\n",
    "    \n",
    "    fig.update_layout(\n",
    "        barmode='group', \n",
    "        xaxis_tickangle=-45, \n",
    "        title=f\"Industry, startups, offers and deals for season {season_number}\",\n",
    "        height=10,\n",
    "        margin=dict(l=40, r=40, t=60, b=40) \n",
    "    )\n",
    "    \n",
    "    fig.show()\n",
    "\n",
    "plot_startup_offer(1)\n",
    "plot_startup_offer(2)\n",
    "plot_startup_offer(3)"
   ]
  },
  {
   "cell_type": "code",
   "execution_count": null,
   "id": "672be89c-7af7-4c7e-868d-072a1c320195",
   "metadata": {},
   "outputs": [],
   "source": [
    "startup_deals.keys()"
   ]
  },
  {
   "cell_type": "markdown",
   "id": "4d4ff4e5-86ea-4d60-8cfc-d317551e3862",
   "metadata": {},
   "source": [
    "#### What is the average deal size for startups that appear on Shark Tank India, and how has this changed over time?"
   ]
  },
  {
   "cell_type": "code",
   "execution_count": null,
   "id": "d5b416ff",
   "metadata": {},
   "outputs": [],
   "source": []
  },
  {
   "cell_type": "markdown",
   "id": "08e573d2-ae7b-45a4-abac-7d300a69fef4",
   "metadata": {},
   "source": [
    "#### What is the average deal size for startups that appear on Shark Tank India, and how has this changed over time?"
   ]
  },
  {
   "cell_type": "code",
   "execution_count": null,
   "id": "29b71125-704d-4369-b57d-7ff0ad1668bc",
   "metadata": {},
   "outputs": [],
   "source": []
  }
 ],
 "metadata": {
  "kernelspec": {
   "display_name": "Python 3 (ipykernel)",
   "language": "python",
   "name": "python3"
  },
  "language_info": {
   "codemirror_mode": {
    "name": "ipython",
    "version": 3
   },
   "file_extension": ".py",
   "mimetype": "text/x-python",
   "name": "python",
   "nbconvert_exporter": "python",
   "pygments_lexer": "ipython3",
   "version": "3.12.3"
  }
 },
 "nbformat": 4,
 "nbformat_minor": 5
}
