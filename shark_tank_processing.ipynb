{
 "cells": [
  {
   "cell_type": "markdown",
   "id": "8044fdc5-5004-4ba4-a164-7b9e6d6d9d1b",
   "metadata": {},
   "source": [
    "# Analysis of 'Shark Tank India'\r\n",
    "\r\n",
    "Shark Tank India is a popular reality television show that has captured the attention of audiences across the countr . The show provides a unique platform for budding entrepreneurs to showcase their innovative business ideas to a panel of successful investors, known as \"Sharks\".\r\n",
    "\r\n",
    "## Format of the Show\r\n",
    "\r\n",
    "The format of Shark Tank India involves CEOs and founders presenting their business ideas to the panel of investors. The entrepreneurs typically seek funding and strategic partnerships to help grow their businesses.\r\n",
    "\r\n",
    "During the pitch, the Sharks have the opportunity to ask questions, provide feedback, and negotiate deals with the entrepreneurs. The goal for the entrepreneurs is to secure funding from one or more of the Sharks, while the Sharks aim to invest in promising businesses that have the potential to generate significant returns.\r\n",
    "\r\n",
    "Overall, Shark Tank India provides an exciting and educational look into the world of entrepreneurship and venture capital, while also offering valuable insights into the strategies and mindset of successful busines leaders.\r\n",
    ".\""
   ]
  },
  {
   "cell_type": "code",
   "execution_count": 85,
   "id": "de4a1a44-3376-4e05-863a-cb6b9aa46cf9",
   "metadata": {
    "editable": true,
    "slideshow": {
     "slide_type": ""
    },
    "tags": []
   },
   "outputs": [],
   "source": [
    "import os, warnings\n",
    "import pandas as pd\n",
    "from datetime import datetime \n",
    "\n",
    "warnings.simplefilter(\n",
    "    action='ignore', \n",
    "    category=FutureWarning\n",
    ")"
   ]
  },
  {
   "cell_type": "markdown",
   "id": "8221955e-dac5-463b-931e-e1c06e161dc1",
   "metadata": {},
   "source": [
    "## Loading Raw CSV File\r\n",
    "\r\n",
    "To load a raw CSV file in PythonI usedse the `pandas` library, which provides a convenient `read_csv()` functiodf.head())\r\n"
   ]
  },
  {
   "cell_type": "code",
   "execution_count": 86,
   "id": "f798a236-3546-4474-a051-5be946725e59",
   "metadata": {},
   "outputs": [],
   "source": [
    "raw_file_path = \"C:/Users/anirudh.bhadauria/data-analytics/shark-tank-analysis/data/shark-tank-india.csv\"\n",
    "clean_file_path = \"C:/Users/anirudh.bhadauria/data-analytics/shark-tank-analysis/data/shark_tank_clean.csv\""
   ]
  },
  {
   "cell_type": "code",
   "execution_count": 87,
   "id": "f7cfaf3f-df5d-4178-acad-3708272c4613",
   "metadata": {
    "editable": true,
    "slideshow": {
     "slide_type": ""
    },
    "tags": []
   },
   "outputs": [],
   "source": [
    "tank_df = pd.read_csv(raw_file_path, parse_dates = True)"
   ]
  },
  {
   "cell_type": "markdown",
   "id": "a7af777a-25c5-480b-8d4a-68b38d8cbf29",
   "metadata": {
    "editable": true,
    "jp-MarkdownHeadingCollapsed": true,
    "slideshow": {
     "slide_type": ""
    },
    "tags": []
   },
   "source": [
    "## Preprocessing Data for Data Analysis\n",
    "\n",
    "Data preprocessing is an essential step in any data analysis project. It involves cleaning, transforming, and preparing the raw data so that it can be used effectively in subsequent analysis steps. Here are some common data preprocessing tasks for data analysis:\n",
    "\n",
    "1. **Handling missing values**: Threre are a lot of missing values in this dataset that can cause problems. Removing rows or columns with missing data\n",
    "2. **Dropping duplicates**: Duplicate values can lead to biased results in data analysis. It's important to identify and remove duplicates from the dataset.\n",
    "3. **Creating new indicator columns**: Indicator columns for identifying values of some other feild.\n",
    "4. **Capping outliers**: Outliers can skew the results of data analysis. Capping outliers involves setting a threshold value and replacing any values above or below that threshold with the threshold value.\n",
    "5. **Formatting columns**: Some columns may need to be formatted before they can be used effectively in data analysis.\n",
    "6. **Dropping and renaming columns**: BlockingIOErrorDropping and renaming columns can help simplify the dataset and make it easier to work with. work with.d` library: new data."
   ]
  },
  {
   "cell_type": "code",
   "execution_count": 88,
   "id": "9713d85a-e5b7-453e-b220-48a05c90f806",
   "metadata": {
    "jupyter": {
     "source_hidden": true
    }
   },
   "outputs": [],
   "source": [
    "# Dropping duplicates\n",
    "\n",
    "tank_df = tank_df.drop_duplicates()"
   ]
  },
  {
   "cell_type": "code",
   "execution_count": 89,
   "id": "1a731f0f-ba63-4309-865f-f2a1208e6ce1",
   "metadata": {
    "jupyter": {
     "source_hidden": true
    }
   },
   "outputs": [],
   "source": [
    "# Dropping columns that we don't need!\n",
    "\n",
    "tank_df = tank_df.drop(\n",
    "    columns=[\n",
    "        \"Season Start\", \"Season End\", \"Episode Title\",\n",
    "        \"Anchor\", \"Company Website\", \"EBITDA\", \n",
    "        \"Advisory Shares Equity\", \"Deal Has Conditions\",\n",
    "        \"Royalty Deal\"\n",
    "    ]\n",
    ")"
   ]
  },
  {
   "cell_type": "code",
   "execution_count": 90,
   "id": "f82124ef-84f4-41a4-af86-4397b4bd1277",
   "metadata": {
    "jupyter": {
     "source_hidden": true
    }
   },
   "outputs": [],
   "source": [
    "# Renaming column names\n",
    "\n",
    "tank_df = tank_df.rename(\n",
    "    columns = {\n",
    "        \"SKUs\": \"sku\",\n",
    "        \"Industry\": \"industry\",\n",
    "        \"Cash Burn\": \"cash_burn\",\n",
    "        \"Has Patents\": \"patents\",\n",
    "        \"Net Margin\": \"net_margin\",\n",
    "        \"Started in\": \"year_founded\",\n",
    "        \"Original Air Date\": \"air_date\",\n",
    "        \"Pitch Number\": \"pitch_number\",\n",
    "        \"Startup Name\": \"startup_name\",\n",
    "        \"Gross Margin\": \"gross_margin\",\n",
    "        \"Bootstrapped\": \"finance_type\",\n",
    "        \"Total Deal Debt\": \"deal_debt\",\n",
    "        \"Pitchers City\": \"pitcher_city\",\n",
    "        \"Season Number\": \"season_number\",\n",
    "        \"Monthly Sales\": \"monthly_sales\",\n",
    "        \"Debt Interest\": \"debt_interest\",\n",
    "        \"Pitchers State\": \"pitcher_state\",\n",
    "        \"Deal Valuation\": \"deal_valuation\",\n",
    "        \"Episode Number\": \"episode_number\",\n",
    "        \"Male Presenters\": \"male_presenter\",\n",
    "        \"Yearly Revenue\": \"yearly_revenue\",\n",
    "        \"Received Offer\": \"received_offer\",\n",
    "        \"Accepted Offer\": \"accepted_offer\",\n",
    "        \"Total Deal Amount\": \"deal_amount\",\n",
    "        \"Total Deal Equity\": \"deal_equity\",\n",
    "        \"Couple Presenters\": \"couple_presenter\",\n",
    "        \"Female Presenters\": \"female_presenters\",\n",
    "        \"Number of Presenters\": \"presenter_count\",\n",
    "        \"Pitchers Average Age\": \"pitchers_avg_age\",\n",
    "        \"Number of Sharks in Deal\": \"sharks_in_deal\",\n",
    "        \"Original Ask Amount\": \"original_ask_amount\",\n",
    "        \"Transgender Presenters\": \"trans_presenters\",\n",
    "        \"Valuation Requested\": \"valueation_requested\",\n",
    "        \"Business Description\": \"busniess_description\",\n",
    "        \"Original Offered Equity\": \"original_offered_equity\",\n",
    "\n",
    "        \"Namita Present\": \"namita_present\",\n",
    "        \"Namita Debt Amount\": \"namita_debt_amount\",\n",
    "        \"Namita Investment Amount\": \"namita_investment_amount\",\n",
    "        \"Namita Investment Equity\": \"namita_investment_equtiy\",\n",
    "\n",
    "        \"Vineeta Present\": \"vineeta_present\",\n",
    "        \"Vineeta Debt Amount\": \"vineeta_debt_amount\",\n",
    "        \"Vineeta Investment Amount\": \"vineeta_investment_amount\",\n",
    "        \"Vineeta Investment Equity\": \"vineeta_investment_equtiy\",\n",
    "\n",
    "        \"Anupam Present\": \"anupam_present\",\n",
    "        \"Anupam Debt Amount\": \"anupam_debt_amount\",\n",
    "        \"Anupam Investment Amount\": \"anupam_investment_amount\",\n",
    "        \"Anupam Investment Equity\": \"anupam_investment_equtiy\",\n",
    "\n",
    "        \"Aman Present\": \"aman_present\",\n",
    "        \"Aman Debt Amount\": \"aman_debt_amount\",\n",
    "        \"Aman Investment Amount\": \"aman_investment_amount\",\n",
    "        \"Aman Investment Equity\": \"aman_investment_equtiy\",\n",
    "\n",
    "        \"Peyush Present\": \"peyush_present\",\n",
    "        \"Peyush Debt Amount\": \"peyush_debt_amount\",\n",
    "        \"Peyush Investment Amount\": \"peyush_investment_amount\",\n",
    "        \"Peyush Investment Equity\": \"peyush_investment_equtiy\",\n",
    "\n",
    "        \"Amit Present\": \"amit_present\",\n",
    "        \"Amit Debt Amount\": \"amit_debt_amount\",\n",
    "        \"Amit Investment Amount\": \"amit_investment_amount\",\n",
    "        \"Amit Investment Equity\": \"amit_investment_equtiy\",\n",
    "\n",
    "        \"Ashneer Present\": \"ashneer_present\",\n",
    "        \"Ashneer Debt Amount\": \"ashneer_debt_amount\",\n",
    "        \"Ashneer Investment Amount\": \"ashneer_investment_amount\",\n",
    "        \"Ashneer Investment Equity\": \"ashneer_investment_equtiy\",\n",
    "\n",
    "        \"Guest Present\": \"guest_present\",\n",
    "        \"All Guest Names\": \"all_guest_names\",\n",
    "        \"Invested Guest Name\": \"invested_guest_name\",\n",
    "        \"Guest Debt Amount\": \"guest_debt_amount\",\n",
    "        \"Guest Investment Amount\": \"guest_investment_amount\",\n",
    "        \"Guest Investment Equity\": \"guest_investment_equtiy\",\n",
    "    }\n",
    ")"
   ]
  },
  {
   "cell_type": "code",
   "execution_count": 91,
   "id": "6c0fe521-b67b-4cb5-80ce-21c2126ac93f",
   "metadata": {
    "jupyter": {
     "source_hidden": true
    }
   },
   "outputs": [],
   "source": [
    "# Removing outliers for 'year founded'\n",
    "\n",
    "tank_df['year_founded'] = tank_df['year_founded'].clip(\n",
    "    upper = tank_df['year_founded'].quantile(0.98)\n",
    ")"
   ]
  },
  {
   "cell_type": "code",
   "execution_count": 92,
   "id": "3c92b777-4026-4049-a573-5b632c2a64e7",
   "metadata": {
    "jupyter": {
     "source_hidden": true
    }
   },
   "outputs": [],
   "source": [
    "# Episode number '0' are unseen, unaired \n",
    "\n",
    "def process_date(date):\n",
    "    return datetime.strptime(date, \"%d-%b-%y\")\n",
    "\n",
    "# Filling unaired date with a dummy date - '01-Jan-20'\n",
    "tank_df.loc[\n",
    "    tank_df['air_date'].isna(), 'air_date'\n",
    "] = \"01-Jan-20\"\n",
    "\n",
    "# Formatting air dates to datetime object\n",
    "tank_df.loc[\n",
    "    (~tank_df['air_date'].isna()), 'air_date'\n",
    "] = tank_df.loc[\n",
    "    (~tank_df['air_date'].isna()), 'air_date'\n",
    "].apply(lambda date: process_date(date))"
   ]
  },
  {
   "cell_type": "code",
   "execution_count": 93,
   "id": "b36d57d6-db27-4ac0-aa76-13e069c75013",
   "metadata": {
    "jupyter": {
     "source_hidden": true
    }
   },
   "outputs": [],
   "source": [
    "# Formatting 'industry'\n",
    "\n",
    "tank_df['industry'] = tank_df['industry'].replace(\n",
    "    {\n",
    "        \"Vehicles/Electrical Vehicles\": \"Automobile\",\n",
    "        \"Beauty/Fashion\": \"Fashion\",\n",
    "        \"Technology/Software\": \"Technology\",\n",
    "        \"Liquor/Beverages\": \"Beverages\",\n",
    "        \"Furnishing/Household\": \"Household\",\n",
    "        \"Medical/Health\": \"Healthcare\",\n",
    "        \"Animal/Pets\": \"Pet\"\n",
    "    }\n",
    ")"
   ]
  },
  {
   "cell_type": "code",
   "execution_count": 94,
   "id": "f83b0275-0472-40d6-bf73-c329b3730498",
   "metadata": {
    "jupyter": {
     "source_hidden": true
    }
   },
   "outputs": [],
   "source": [
    "# Filling out missing 'founded year'\n",
    "\n",
    "tank_df['year_founded'] = tank_df['year_founded'].fillna(\n",
    "    tank_df['year_founded'].mean().round()\n",
    ")"
   ]
  },
  {
   "cell_type": "code",
   "execution_count": 95,
   "id": "34d65881-e599-4800-88b5-ce34c32808fe",
   "metadata": {
    "jupyter": {
     "source_hidden": true
    }
   },
   "outputs": [],
   "source": [
    "# Filling out 'presenter count'\n",
    "\n",
    "tank_df['male_presenter'] = tank_df['male_presenter'].fillna(0)\n",
    "tank_df['female_presenters'] = tank_df['female_presenters'].fillna(0)\n",
    "tank_df['trans_presenters'] = tank_df['trans_presenters'].fillna(0)\n",
    "tank_df['couple_presenter'] = tank_df['couple_presenter'].fillna(0)"
   ]
  },
  {
   "cell_type": "code",
   "execution_count": 96,
   "id": "391439e5-9c01-4461-9b99-ae6e21dd51e5",
   "metadata": {
    "jupyter": {
     "source_hidden": true
    }
   },
   "outputs": [],
   "source": [
    "# Creating a column for identifying pitchers from 'multiple cities'\n",
    "# Creating a column for identifying multiple guests\n",
    "# Creating a column for identifying multiple guests investments\n",
    "\n",
    "tank_df['all_guest_names'] = tank_df['all_guest_names'].fillna(\"\")\n",
    "tank_df['invested_guest_name'] = tank_df['invested_guest_name'].fillna(\"\")\n",
    "\n",
    "tank_df['multiple_pitcher_cities'] = tank_df['pitcher_city'].str.contains(\",\").apply(\n",
    "        lambda multiple_city: 1 if multiple_city else 0\n",
    ")\n",
    "tank_df['multiple_guests'] = tank_df['all_guest_names'].str.contains(\",\").apply(\n",
    "        lambda guest: 1 if guest else 0\n",
    ")\n",
    "tank_df['multiple_guest_investments'] = tank_df['invested_guest_name'].str.contains(\",\").apply(\n",
    "        lambda guest_invested: 1 if guest_invested else 0\n",
    ")"
   ]
  },
  {
   "cell_type": "code",
   "execution_count": 97,
   "id": "fcaf7a15-3aae-4a45-9c1e-f23820ab3441",
   "metadata": {
    "jupyter": {
     "source_hidden": true
    }
   },
   "outputs": [],
   "source": [
    "# Filling Yearly, Monthly revenue, Gross margin, Net margin with '0'\n",
    "# Maybe these pitchers came with an 'idea' only and not any POC\n",
    " \n",
    "tank_df['yearly_revenue'] = tank_df['yearly_revenue'].fillna(0)\n",
    "tank_df['monthly_sales'] = tank_df['monthly_sales'].fillna(0)\n",
    "tank_df['net_margin'] = tank_df['net_margin'].fillna(0)\n",
    "tank_df['gross_margin'] = tank_df['gross_margin'].fillna(0)"
   ]
  },
  {
   "cell_type": "code",
   "execution_count": 98,
   "id": "1a1b1a9b-7454-4db1-81cb-de38eef86c4b",
   "metadata": {
    "jupyter": {
     "source_hidden": true
    }
   },
   "outputs": [],
   "source": [
    "# Filling out 'cash burn', 'patents', 0 or 1\n",
    "\n",
    "tank_df['cash_burn'] = tank_df['cash_burn'].replace({\"yes\": 1})\n",
    "tank_df['cash_burn'] = tank_df['cash_burn'].fillna(0)\n",
    "\n",
    "tank_df['patents'] = tank_df['patents'].replace({\"yes\": 1})\n",
    "tank_df['patents'] = tank_df['patents'].fillna(0)"
   ]
  },
  {
   "cell_type": "code",
   "execution_count": 99,
   "id": "b6e39449-04d8-41e9-88cc-3bfa98084651",
   "metadata": {
    "jupyter": {
     "source_hidden": true
    }
   },
   "outputs": [],
   "source": [
    "# Filling out SKUs\n",
    "\n",
    "tank_df['sku'] = tank_df['sku'].fillna(0)"
   ]
  },
  {
   "cell_type": "code",
   "execution_count": 100,
   "id": "dca0760a-75ee-4385-bd53-969f36256602",
   "metadata": {
    "jupyter": {
     "source_hidden": true
    }
   },
   "outputs": [],
   "source": [
    "# Tokenized the finance_type column\n",
    "# 1- Bootstrapped\n",
    "# 2- Funded\n",
    "# 3- Other (Maybe Non profit org. or crowd funded)\n",
    "\n",
    "tank_df['finance_type'] = tank_df['finance_type'].replace(\n",
    "    {\n",
    "        \"funded\": 2,\n",
    "        \"yes\": 1\n",
    "    }\n",
    ")\n",
    "tank_df['finance_type'] = tank_df['finance_type'].fillna(3)"
   ]
  },
  {
   "cell_type": "code",
   "execution_count": 101,
   "id": "b16f56bc-7612-475a-a947-53d79fc62ada",
   "metadata": {
    "jupyter": {
     "source_hidden": true
    }
   },
   "outputs": [],
   "source": [
    "# Filling '0' in neccesary feilds!\n",
    "\n",
    "tank_df['accepted_offer'] = tank_df['accepted_offer'].fillna(0)\n",
    "tank_df['deal_amount'] = tank_df['deal_amount'].fillna(0)\n",
    "tank_df['deal_equity'] = tank_df['deal_equity'].fillna(0)\n",
    "tank_df['deal_debt'] = tank_df['deal_debt'].fillna(0)\n",
    "tank_df['debt_interest'] = tank_df['debt_interest'].fillna(0)\n",
    "tank_df['deal_valuation'] = tank_df['deal_valuation'].fillna(0)\n",
    "\n",
    "tank_df['sharks_in_deal'] = tank_df['sharks_in_deal'].fillna(0)"
   ]
  },
  {
   "cell_type": "code",
   "execution_count": 102,
   "id": "86306db8-ba8e-4e7b-ac01-1a2e73149349",
   "metadata": {
    "jupyter": {
     "source_hidden": true
    }
   },
   "outputs": [],
   "source": [
    "# Filling out Shark fields!\n",
    "\n",
    "tank_df['namita_present'] = tank_df['namita_present'].fillna(0)\n",
    "tank_df['namita_investment_amount'] = tank_df['namita_investment_amount'].fillna(0)\n",
    "tank_df['namita_investment_equtiy'] = tank_df['namita_investment_equtiy'].fillna(0)\n",
    "tank_df['namita_debt_amount'] = tank_df['namita_debt_amount'].fillna(0)\n",
    "\n",
    "tank_df['vineeta_present'] = tank_df['vineeta_present'].fillna(0)\n",
    "tank_df['vineeta_investment_amount'] = tank_df['vineeta_investment_amount'].fillna(0)\n",
    "tank_df['vineeta_investment_equtiy'] = tank_df['vineeta_investment_equtiy'].fillna(0)\n",
    "tank_df['vineeta_debt_amount'] = tank_df['vineeta_debt_amount'].fillna(0)\n",
    "\n",
    "tank_df['anupam_present'] = tank_df['anupam_present'].fillna(0)\n",
    "tank_df['anupam_investment_amount'] = tank_df['anupam_investment_amount'].fillna(0)\n",
    "tank_df['anupam_investment_equtiy'] = tank_df['anupam_investment_equtiy'].fillna(0)\n",
    "tank_df['anupam_debt_amount'] = tank_df['anupam_debt_amount'].fillna(0)\n",
    "\n",
    "tank_df['aman_present'] = tank_df['aman_present'].fillna(0)\n",
    "tank_df['aman_investment_amount'] = tank_df['aman_investment_amount'].fillna(0)\n",
    "tank_df['aman_investment_equtiy'] = tank_df['aman_investment_equtiy'].fillna(0)\n",
    "tank_df['aman_debt_amount'] = tank_df['aman_debt_amount'].fillna(0)\n",
    "\n",
    "tank_df['peyush_present'] = tank_df['peyush_present'].fillna(0)\n",
    "tank_df['peyush_investment_amount'] = tank_df['peyush_investment_amount'].fillna(0)\n",
    "tank_df['peyush_investment_equtiy'] = tank_df['peyush_investment_equtiy'].fillna(0)\n",
    "tank_df['peyush_debt_amount'] = tank_df['peyush_debt_amount'].fillna(0)\n",
    "\n",
    "tank_df['amit_present'] = tank_df['amit_present'].fillna(0)\n",
    "tank_df['amit_investment_amount'] = tank_df['amit_investment_amount'].fillna(0)\n",
    "tank_df['amit_investment_equtiy'] = tank_df['amit_investment_equtiy'].fillna(0)\n",
    "tank_df['amit_debt_amount'] = tank_df['amit_debt_amount'].fillna(0)\n",
    "\n",
    "tank_df['ashneer_present'] = tank_df['ashneer_present'].fillna(0)\n",
    "tank_df['ashneer_investment_amount'] = tank_df['ashneer_investment_amount'].fillna(0)\n",
    "tank_df['ashneer_investment_equtiy'] = tank_df['ashneer_investment_equtiy'].fillna(0)\n",
    "tank_df['ashneer_debt_amount'] = tank_df['ashneer_debt_amount'].fillna(0)\n",
    "\n",
    "tank_df['guest_present'] = tank_df['guest_present'].fillna(0)\n",
    "tank_df['guest_investment_amount'] = tank_df['guest_investment_amount'].fillna(0)\n",
    "tank_df['guest_investment_equtiy'] = tank_df['guest_investment_equtiy'].fillna(0)\n",
    "tank_df['guest_debt_amount'] = tank_df['guest_debt_amount'].fillna(0)\n"
   ]
  },
  {
   "cell_type": "code",
   "execution_count": 103,
   "id": "9ea89cef-fb5b-4483-95b0-bcf882552565",
   "metadata": {},
   "outputs": [
    {
     "data": {
      "text/html": [
       "<div>\n",
       "<style scoped>\n",
       "    .dataframe tbody tr th:only-of-type {\n",
       "        vertical-align: middle;\n",
       "    }\n",
       "\n",
       "    .dataframe tbody tr th {\n",
       "        vertical-align: top;\n",
       "    }\n",
       "\n",
       "    .dataframe thead th {\n",
       "        text-align: right;\n",
       "    }\n",
       "</style>\n",
       "<table border=\"1\" class=\"dataframe\">\n",
       "  <thead>\n",
       "    <tr style=\"text-align: right;\">\n",
       "      <th></th>\n",
       "      <th>season_number</th>\n",
       "      <th>startup_name</th>\n",
       "      <th>episode_number</th>\n",
       "      <th>pitch_number</th>\n",
       "      <th>air_date</th>\n",
       "      <th>industry</th>\n",
       "      <th>busniess_description</th>\n",
       "      <th>year_founded</th>\n",
       "      <th>presenter_count</th>\n",
       "      <th>male_presenter</th>\n",
       "      <th>...</th>\n",
       "      <th>vineeta_present</th>\n",
       "      <th>anupam_present</th>\n",
       "      <th>aman_present</th>\n",
       "      <th>peyush_present</th>\n",
       "      <th>amit_present</th>\n",
       "      <th>ashneer_present</th>\n",
       "      <th>guest_present</th>\n",
       "      <th>multiple_pitcher_cities</th>\n",
       "      <th>multiple_guests</th>\n",
       "      <th>multiple_guest_investments</th>\n",
       "    </tr>\n",
       "  </thead>\n",
       "  <tbody>\n",
       "    <tr>\n",
       "      <th>0</th>\n",
       "      <td>1</td>\n",
       "      <td>BluePineFoods</td>\n",
       "      <td>1</td>\n",
       "      <td>1</td>\n",
       "      <td>2021-12-20 00:00:00</td>\n",
       "      <td>Food</td>\n",
       "      <td>Frozen Momos</td>\n",
       "      <td>2016.0</td>\n",
       "      <td>3</td>\n",
       "      <td>2.0</td>\n",
       "      <td>...</td>\n",
       "      <td>1.0</td>\n",
       "      <td>1.0</td>\n",
       "      <td>1.0</td>\n",
       "      <td>0.0</td>\n",
       "      <td>0.0</td>\n",
       "      <td>1.0</td>\n",
       "      <td>0.0</td>\n",
       "      <td>0</td>\n",
       "      <td>0</td>\n",
       "      <td>0</td>\n",
       "    </tr>\n",
       "    <tr>\n",
       "      <th>1</th>\n",
       "      <td>1</td>\n",
       "      <td>BoozScooters</td>\n",
       "      <td>1</td>\n",
       "      <td>2</td>\n",
       "      <td>2021-12-20 00:00:00</td>\n",
       "      <td>Automobile</td>\n",
       "      <td>Renting e-bike for mobility in private spaces</td>\n",
       "      <td>2017.0</td>\n",
       "      <td>1</td>\n",
       "      <td>1.0</td>\n",
       "      <td>...</td>\n",
       "      <td>1.0</td>\n",
       "      <td>1.0</td>\n",
       "      <td>1.0</td>\n",
       "      <td>0.0</td>\n",
       "      <td>0.0</td>\n",
       "      <td>1.0</td>\n",
       "      <td>0.0</td>\n",
       "      <td>0</td>\n",
       "      <td>0</td>\n",
       "      <td>0</td>\n",
       "    </tr>\n",
       "  </tbody>\n",
       "</table>\n",
       "<p>2 rows × 72 columns</p>\n",
       "</div>"
      ],
      "text/plain": [
       "   season_number   startup_name  episode_number  pitch_number  \\\n",
       "0              1  BluePineFoods               1             1   \n",
       "1              1   BoozScooters               1             2   \n",
       "\n",
       "              air_date    industry  \\\n",
       "0  2021-12-20 00:00:00        Food   \n",
       "1  2021-12-20 00:00:00  Automobile   \n",
       "\n",
       "                            busniess_description  year_founded  \\\n",
       "0                                   Frozen Momos        2016.0   \n",
       "1  Renting e-bike for mobility in private spaces        2017.0   \n",
       "\n",
       "   presenter_count  male_presenter  ...  vineeta_present  anupam_present  \\\n",
       "0                3             2.0  ...              1.0             1.0   \n",
       "1                1             1.0  ...              1.0             1.0   \n",
       "\n",
       "   aman_present peyush_present amit_present ashneer_present  guest_present  \\\n",
       "0           1.0            0.0          0.0             1.0            0.0   \n",
       "1           1.0            0.0          0.0             1.0            0.0   \n",
       "\n",
       "   multiple_pitcher_cities  multiple_guests  multiple_guest_investments  \n",
       "0                        0                0                           0  \n",
       "1                        0                0                           0  \n",
       "\n",
       "[2 rows x 72 columns]"
      ]
     },
     "execution_count": 103,
     "metadata": {},
     "output_type": "execute_result"
    }
   ],
   "source": [
    "tank_df.head(2)"
   ]
  },
  {
   "cell_type": "markdown",
   "id": "09040275-7af8-4da2-bd1a-29739a22b2e6",
   "metadata": {
    "jp-MarkdownHeadingCollapsed": true
   },
   "source": [
    "## Exporting clean CSV file\n",
    "\n",
    "After preprocessing the data, it's important to export the cleaned data as a new CSV file. This ensures that the original raw data remains unchanged, and provides a clean dataset for analysis.\n"
   ]
  },
  {
   "cell_type": "code",
   "execution_count": 104,
   "id": "189fa15b-5bea-4cc8-8c0f-74a2e2cb6eaa",
   "metadata": {},
   "outputs": [],
   "source": [
    "if os.path.exists(clean_file_path):\n",
    "  os.remove(clean_file_path)\n",
    "    \n",
    "tank_df.to_csv(clean_file_path, header=True, index=False)"
   ]
  }
 ],
 "metadata": {
  "kernelspec": {
   "display_name": "Python 3 (ipykernel)",
   "language": "python",
   "name": "python3"
  },
  "language_info": {
   "codemirror_mode": {
    "name": "ipython",
    "version": 3
   },
   "file_extension": ".py",
   "mimetype": "text/x-python",
   "name": "python",
   "nbconvert_exporter": "python",
   "pygments_lexer": "ipython3",
   "version": "3.12.3"
  }
 },
 "nbformat": 4,
 "nbformat_minor": 5
}
