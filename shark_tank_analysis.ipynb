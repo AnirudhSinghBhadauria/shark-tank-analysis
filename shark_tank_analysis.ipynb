{
 "cells": [
  {
   "cell_type": "markdown",
   "id": "2f108c24-f78e-40a6-bf8e-fd0aa2a86e01",
   "metadata": {},
   "source": [
    "# **Interesting insights about 'Shark Tank India' season 1, 2, 3**\n",
    "\n",
    "1. *Changes and Developments Over Three Seasons*\n",
    "2. *Common reasons for getting offer*\n",
    "3. *Strategies Used by Sharks*\n",
    "4. *Trends in Business Ideas*<br><br>and many more ..."
   ]
  },
  {
   "cell_type": "code",
   "execution_count": 24,
   "id": "ae773e45-caa5-4285-98aa-002073556e21",
   "metadata": {
    "jupyter": {
     "source_hidden": true
    }
   },
   "outputs": [],
   "source": [
    "# Importing required libraries\n",
    "\n",
    "import numpy as np\n",
    "import pandas as pd\n",
    "import plotly.express as px\n",
    "import plotly.subplots as sp\n",
    "import plotly.graph_objects as go\n",
    "from plotly.subplots import make_subplots"
   ]
  },
  {
   "cell_type": "code",
   "execution_count": 25,
   "id": "125b4436-38bb-487b-8341-32f19b1227da",
   "metadata": {
    "jupyter": {
     "source_hidden": true
    }
   },
   "outputs": [],
   "source": [
    "# clean_file_path = \"C:/Users/anirudh.bhadauria/data-analytics/shark-tank-analysis/data/shark_tank_clean.csv\"\n",
    "clean_file_path = \"data/shark_tank_clean.csv\""
   ]
  },
  {
   "cell_type": "code",
   "execution_count": 26,
   "id": "1786b251-cd57-491e-8fb1-1a9e4c5b0634",
   "metadata": {},
   "outputs": [],
   "source": [
    "# Loading the raw csv file\n",
    "tank_df = pd.read_csv(clean_file_path, parse_dates = True)"
   ]
  },
  {
   "cell_type": "markdown",
   "id": "a161fb08-3b3b-4f21-b756-4df6985fff39",
   "metadata": {},
   "source": [
    "#### What is the total number of episodes (aired) and entrepreneur that came in total and each season seperately?\n"
   ]
  },
  {
   "cell_type": "code",
   "execution_count": 27,
   "id": "a3e98c15-f038-41f8-9232-f600ffbcde6f",
   "metadata": {
    "jupyter": {
     "source_hidden": true
    }
   },
   "outputs": [
    {
     "name": "stdout",
     "output_type": "stream",
     "text": [
      "Total number of aired episodes: 447\n",
      "Total number of entrepreneurs that appeared in Sharktank so far: 966\n"
     ]
    }
   ],
   "source": [
    "# General statistics\n",
    "\n",
    "def total_entrepreneurs_season(season_number):\n",
    "    return tank_df['presenter_count'].loc[\n",
    "        tank_df['season_number'] == season_number\n",
    "    ].sum()\n",
    "    \n",
    "total_entrepreneurs = tank_df['presenter_count'].sum()\n",
    "total_episodes = tank_df.loc[\n",
    "    tank_df['episode_number'] != 0\n",
    "]\n",
    "\n",
    "print(f'Total number of aired episodes: {total_episodes.shape[0]}')\n",
    "print(f\"Total number of entrepreneurs that appeared in Sharktank so far: {total_entrepreneurs}\")"
   ]
  },
  {
   "cell_type": "code",
   "execution_count": 28,
   "id": "a8b96c93-2f13-46f7-8bc4-5610fe130bc2",
   "metadata": {
    "jupyter": {
     "source_hidden": true
    }
   },
   "outputs": [
    {
     "data": {
      "application/vnd.plotly.v1+json": {
       "config": {
        "plotlyServerURL": "https://plot.ly"
       },
       "data": [
        {
         "domain": {
          "x": [
           0,
           0.45
          ],
          "y": [
           0,
           1
          ]
         },
         "hole": 0.45,
         "labels": [
          "Entrepreneurs Season 1",
          "Entrepreneurs Season 2",
          "Entrepreneurs Season 3"
         ],
         "textinfo": "value",
         "type": "pie",
         "values": [
          314,
          353,
          299
         ]
        },
        {
         "domain": {
          "x": [
           0.55,
           1
          ],
          "y": [
           0,
           1
          ]
         },
         "hole": 0.45,
         "labels": [
          "Startups in season 1",
          "Startups in season 2",
          "Startups in season 3"
         ],
         "textinfo": "value",
         "type": "pie",
         "values": [
          152,
          169,
          157
         ]
        }
       ],
       "layout": {
        "annotations": [
         {
          "showarrow": false,
          "text": "Total Entrepreneurs per Season",
          "x": 0,
          "xref": "paper",
          "y": 1,
          "yref": "paper"
         },
         {
          "showarrow": false,
          "text": "Total Startups per Season",
          "x": 0.95,
          "xref": "paper",
          "y": 1,
          "yref": "paper"
         }
        ],
        "font": {
         "size": 16
        },
        "height": 450,
        "legend": {
         "orientation": "v",
         "x": 1.5,
         "xanchor": "right",
         "y": 0.6,
         "yanchor": "bottom"
        },
        "margin": {
         "b": 10,
         "l": 40,
         "r": 40,
         "t": 30
        },
        "paper_bgcolor": "white",
        "plot_bgcolor": "white",
        "showlegend": true,
        "template": {
         "data": {
          "bar": [
           {
            "error_x": {
             "color": "#2a3f5f"
            },
            "error_y": {
             "color": "#2a3f5f"
            },
            "marker": {
             "line": {
              "color": "#E5ECF6",
              "width": 0.5
             },
             "pattern": {
              "fillmode": "overlay",
              "size": 10,
              "solidity": 0.2
             }
            },
            "type": "bar"
           }
          ],
          "barpolar": [
           {
            "marker": {
             "line": {
              "color": "#E5ECF6",
              "width": 0.5
             },
             "pattern": {
              "fillmode": "overlay",
              "size": 10,
              "solidity": 0.2
             }
            },
            "type": "barpolar"
           }
          ],
          "carpet": [
           {
            "aaxis": {
             "endlinecolor": "#2a3f5f",
             "gridcolor": "white",
             "linecolor": "white",
             "minorgridcolor": "white",
             "startlinecolor": "#2a3f5f"
            },
            "baxis": {
             "endlinecolor": "#2a3f5f",
             "gridcolor": "white",
             "linecolor": "white",
             "minorgridcolor": "white",
             "startlinecolor": "#2a3f5f"
            },
            "type": "carpet"
           }
          ],
          "choropleth": [
           {
            "colorbar": {
             "outlinewidth": 0,
             "ticks": ""
            },
            "type": "choropleth"
           }
          ],
          "contour": [
           {
            "colorbar": {
             "outlinewidth": 0,
             "ticks": ""
            },
            "colorscale": [
             [
              0,
              "#0d0887"
             ],
             [
              0.1111111111111111,
              "#46039f"
             ],
             [
              0.2222222222222222,
              "#7201a8"
             ],
             [
              0.3333333333333333,
              "#9c179e"
             ],
             [
              0.4444444444444444,
              "#bd3786"
             ],
             [
              0.5555555555555556,
              "#d8576b"
             ],
             [
              0.6666666666666666,
              "#ed7953"
             ],
             [
              0.7777777777777778,
              "#fb9f3a"
             ],
             [
              0.8888888888888888,
              "#fdca26"
             ],
             [
              1,
              "#f0f921"
             ]
            ],
            "type": "contour"
           }
          ],
          "contourcarpet": [
           {
            "colorbar": {
             "outlinewidth": 0,
             "ticks": ""
            },
            "type": "contourcarpet"
           }
          ],
          "heatmap": [
           {
            "colorbar": {
             "outlinewidth": 0,
             "ticks": ""
            },
            "colorscale": [
             [
              0,
              "#0d0887"
             ],
             [
              0.1111111111111111,
              "#46039f"
             ],
             [
              0.2222222222222222,
              "#7201a8"
             ],
             [
              0.3333333333333333,
              "#9c179e"
             ],
             [
              0.4444444444444444,
              "#bd3786"
             ],
             [
              0.5555555555555556,
              "#d8576b"
             ],
             [
              0.6666666666666666,
              "#ed7953"
             ],
             [
              0.7777777777777778,
              "#fb9f3a"
             ],
             [
              0.8888888888888888,
              "#fdca26"
             ],
             [
              1,
              "#f0f921"
             ]
            ],
            "type": "heatmap"
           }
          ],
          "heatmapgl": [
           {
            "colorbar": {
             "outlinewidth": 0,
             "ticks": ""
            },
            "colorscale": [
             [
              0,
              "#0d0887"
             ],
             [
              0.1111111111111111,
              "#46039f"
             ],
             [
              0.2222222222222222,
              "#7201a8"
             ],
             [
              0.3333333333333333,
              "#9c179e"
             ],
             [
              0.4444444444444444,
              "#bd3786"
             ],
             [
              0.5555555555555556,
              "#d8576b"
             ],
             [
              0.6666666666666666,
              "#ed7953"
             ],
             [
              0.7777777777777778,
              "#fb9f3a"
             ],
             [
              0.8888888888888888,
              "#fdca26"
             ],
             [
              1,
              "#f0f921"
             ]
            ],
            "type": "heatmapgl"
           }
          ],
          "histogram": [
           {
            "marker": {
             "pattern": {
              "fillmode": "overlay",
              "size": 10,
              "solidity": 0.2
             }
            },
            "type": "histogram"
           }
          ],
          "histogram2d": [
           {
            "colorbar": {
             "outlinewidth": 0,
             "ticks": ""
            },
            "colorscale": [
             [
              0,
              "#0d0887"
             ],
             [
              0.1111111111111111,
              "#46039f"
             ],
             [
              0.2222222222222222,
              "#7201a8"
             ],
             [
              0.3333333333333333,
              "#9c179e"
             ],
             [
              0.4444444444444444,
              "#bd3786"
             ],
             [
              0.5555555555555556,
              "#d8576b"
             ],
             [
              0.6666666666666666,
              "#ed7953"
             ],
             [
              0.7777777777777778,
              "#fb9f3a"
             ],
             [
              0.8888888888888888,
              "#fdca26"
             ],
             [
              1,
              "#f0f921"
             ]
            ],
            "type": "histogram2d"
           }
          ],
          "histogram2dcontour": [
           {
            "colorbar": {
             "outlinewidth": 0,
             "ticks": ""
            },
            "colorscale": [
             [
              0,
              "#0d0887"
             ],
             [
              0.1111111111111111,
              "#46039f"
             ],
             [
              0.2222222222222222,
              "#7201a8"
             ],
             [
              0.3333333333333333,
              "#9c179e"
             ],
             [
              0.4444444444444444,
              "#bd3786"
             ],
             [
              0.5555555555555556,
              "#d8576b"
             ],
             [
              0.6666666666666666,
              "#ed7953"
             ],
             [
              0.7777777777777778,
              "#fb9f3a"
             ],
             [
              0.8888888888888888,
              "#fdca26"
             ],
             [
              1,
              "#f0f921"
             ]
            ],
            "type": "histogram2dcontour"
           }
          ],
          "mesh3d": [
           {
            "colorbar": {
             "outlinewidth": 0,
             "ticks": ""
            },
            "type": "mesh3d"
           }
          ],
          "parcoords": [
           {
            "line": {
             "colorbar": {
              "outlinewidth": 0,
              "ticks": ""
             }
            },
            "type": "parcoords"
           }
          ],
          "pie": [
           {
            "automargin": true,
            "type": "pie"
           }
          ],
          "scatter": [
           {
            "fillpattern": {
             "fillmode": "overlay",
             "size": 10,
             "solidity": 0.2
            },
            "type": "scatter"
           }
          ],
          "scatter3d": [
           {
            "line": {
             "colorbar": {
              "outlinewidth": 0,
              "ticks": ""
             }
            },
            "marker": {
             "colorbar": {
              "outlinewidth": 0,
              "ticks": ""
             }
            },
            "type": "scatter3d"
           }
          ],
          "scattercarpet": [
           {
            "marker": {
             "colorbar": {
              "outlinewidth": 0,
              "ticks": ""
             }
            },
            "type": "scattercarpet"
           }
          ],
          "scattergeo": [
           {
            "marker": {
             "colorbar": {
              "outlinewidth": 0,
              "ticks": ""
             }
            },
            "type": "scattergeo"
           }
          ],
          "scattergl": [
           {
            "marker": {
             "colorbar": {
              "outlinewidth": 0,
              "ticks": ""
             }
            },
            "type": "scattergl"
           }
          ],
          "scattermapbox": [
           {
            "marker": {
             "colorbar": {
              "outlinewidth": 0,
              "ticks": ""
             }
            },
            "type": "scattermapbox"
           }
          ],
          "scatterpolar": [
           {
            "marker": {
             "colorbar": {
              "outlinewidth": 0,
              "ticks": ""
             }
            },
            "type": "scatterpolar"
           }
          ],
          "scatterpolargl": [
           {
            "marker": {
             "colorbar": {
              "outlinewidth": 0,
              "ticks": ""
             }
            },
            "type": "scatterpolargl"
           }
          ],
          "scatterternary": [
           {
            "marker": {
             "colorbar": {
              "outlinewidth": 0,
              "ticks": ""
             }
            },
            "type": "scatterternary"
           }
          ],
          "surface": [
           {
            "colorbar": {
             "outlinewidth": 0,
             "ticks": ""
            },
            "colorscale": [
             [
              0,
              "#0d0887"
             ],
             [
              0.1111111111111111,
              "#46039f"
             ],
             [
              0.2222222222222222,
              "#7201a8"
             ],
             [
              0.3333333333333333,
              "#9c179e"
             ],
             [
              0.4444444444444444,
              "#bd3786"
             ],
             [
              0.5555555555555556,
              "#d8576b"
             ],
             [
              0.6666666666666666,
              "#ed7953"
             ],
             [
              0.7777777777777778,
              "#fb9f3a"
             ],
             [
              0.8888888888888888,
              "#fdca26"
             ],
             [
              1,
              "#f0f921"
             ]
            ],
            "type": "surface"
           }
          ],
          "table": [
           {
            "cells": {
             "fill": {
              "color": "#EBF0F8"
             },
             "line": {
              "color": "white"
             }
            },
            "header": {
             "fill": {
              "color": "#C8D4E3"
             },
             "line": {
              "color": "white"
             }
            },
            "type": "table"
           }
          ]
         },
         "layout": {
          "annotationdefaults": {
           "arrowcolor": "#2a3f5f",
           "arrowhead": 0,
           "arrowwidth": 1
          },
          "autotypenumbers": "strict",
          "coloraxis": {
           "colorbar": {
            "outlinewidth": 0,
            "ticks": ""
           }
          },
          "colorscale": {
           "diverging": [
            [
             0,
             "#8e0152"
            ],
            [
             0.1,
             "#c51b7d"
            ],
            [
             0.2,
             "#de77ae"
            ],
            [
             0.3,
             "#f1b6da"
            ],
            [
             0.4,
             "#fde0ef"
            ],
            [
             0.5,
             "#f7f7f7"
            ],
            [
             0.6,
             "#e6f5d0"
            ],
            [
             0.7,
             "#b8e186"
            ],
            [
             0.8,
             "#7fbc41"
            ],
            [
             0.9,
             "#4d9221"
            ],
            [
             1,
             "#276419"
            ]
           ],
           "sequential": [
            [
             0,
             "#0d0887"
            ],
            [
             0.1111111111111111,
             "#46039f"
            ],
            [
             0.2222222222222222,
             "#7201a8"
            ],
            [
             0.3333333333333333,
             "#9c179e"
            ],
            [
             0.4444444444444444,
             "#bd3786"
            ],
            [
             0.5555555555555556,
             "#d8576b"
            ],
            [
             0.6666666666666666,
             "#ed7953"
            ],
            [
             0.7777777777777778,
             "#fb9f3a"
            ],
            [
             0.8888888888888888,
             "#fdca26"
            ],
            [
             1,
             "#f0f921"
            ]
           ],
           "sequentialminus": [
            [
             0,
             "#0d0887"
            ],
            [
             0.1111111111111111,
             "#46039f"
            ],
            [
             0.2222222222222222,
             "#7201a8"
            ],
            [
             0.3333333333333333,
             "#9c179e"
            ],
            [
             0.4444444444444444,
             "#bd3786"
            ],
            [
             0.5555555555555556,
             "#d8576b"
            ],
            [
             0.6666666666666666,
             "#ed7953"
            ],
            [
             0.7777777777777778,
             "#fb9f3a"
            ],
            [
             0.8888888888888888,
             "#fdca26"
            ],
            [
             1,
             "#f0f921"
            ]
           ]
          },
          "colorway": [
           "#636efa",
           "#EF553B",
           "#00cc96",
           "#ab63fa",
           "#FFA15A",
           "#19d3f3",
           "#FF6692",
           "#B6E880",
           "#FF97FF",
           "#FECB52"
          ],
          "font": {
           "color": "#2a3f5f"
          },
          "geo": {
           "bgcolor": "white",
           "lakecolor": "white",
           "landcolor": "#E5ECF6",
           "showlakes": true,
           "showland": true,
           "subunitcolor": "white"
          },
          "hoverlabel": {
           "align": "left"
          },
          "hovermode": "closest",
          "mapbox": {
           "style": "light"
          },
          "paper_bgcolor": "white",
          "plot_bgcolor": "#E5ECF6",
          "polar": {
           "angularaxis": {
            "gridcolor": "white",
            "linecolor": "white",
            "ticks": ""
           },
           "bgcolor": "#E5ECF6",
           "radialaxis": {
            "gridcolor": "white",
            "linecolor": "white",
            "ticks": ""
           }
          },
          "scene": {
           "xaxis": {
            "backgroundcolor": "#E5ECF6",
            "gridcolor": "white",
            "gridwidth": 2,
            "linecolor": "white",
            "showbackground": true,
            "ticks": "",
            "zerolinecolor": "white"
           },
           "yaxis": {
            "backgroundcolor": "#E5ECF6",
            "gridcolor": "white",
            "gridwidth": 2,
            "linecolor": "white",
            "showbackground": true,
            "ticks": "",
            "zerolinecolor": "white"
           },
           "zaxis": {
            "backgroundcolor": "#E5ECF6",
            "gridcolor": "white",
            "gridwidth": 2,
            "linecolor": "white",
            "showbackground": true,
            "ticks": "",
            "zerolinecolor": "white"
           }
          },
          "shapedefaults": {
           "line": {
            "color": "#2a3f5f"
           }
          },
          "ternary": {
           "aaxis": {
            "gridcolor": "white",
            "linecolor": "white",
            "ticks": ""
           },
           "baxis": {
            "gridcolor": "white",
            "linecolor": "white",
            "ticks": ""
           },
           "bgcolor": "#E5ECF6",
           "caxis": {
            "gridcolor": "white",
            "linecolor": "white",
            "ticks": ""
           }
          },
          "title": {
           "x": 0.05
          },
          "xaxis": {
           "automargin": true,
           "gridcolor": "white",
           "linecolor": "white",
           "ticks": "",
           "title": {
            "standoff": 15
           },
           "zerolinecolor": "white",
           "zerolinewidth": 2
          },
          "yaxis": {
           "automargin": true,
           "gridcolor": "white",
           "linecolor": "white",
           "ticks": "",
           "title": {
            "standoff": 15
           },
           "zerolinecolor": "white",
           "zerolinewidth": 2
          }
         }
        },
        "width": 1000
       }
      },
      "text/html": [
       "<div>                            <div id=\"7350ff1e-e40e-4f9b-8692-ba9924dfff29\" class=\"plotly-graph-div\" style=\"height:450px; width:1000px;\"></div>            <script type=\"text/javascript\">                require([\"plotly\"], function(Plotly) {                    window.PLOTLYENV=window.PLOTLYENV || {};                                    if (document.getElementById(\"7350ff1e-e40e-4f9b-8692-ba9924dfff29\")) {                    Plotly.newPlot(                        \"7350ff1e-e40e-4f9b-8692-ba9924dfff29\",                        [{\"hole\":0.45,\"labels\":[\"Entrepreneurs Season 1\",\"Entrepreneurs Season 2\",\"Entrepreneurs Season 3\"],\"textinfo\":\"value\",\"values\":[314,353,299],\"type\":\"pie\",\"domain\":{\"x\":[0.0,0.45],\"y\":[0.0,1.0]}},{\"hole\":0.45,\"labels\":[\"Startups in season 1\",\"Startups in season 2\",\"Startups in season 3\"],\"textinfo\":\"value\",\"values\":[152,169,157],\"type\":\"pie\",\"domain\":{\"x\":[0.55,1.0],\"y\":[0.0,1.0]}}],                        {\"template\":{\"data\":{\"histogram2dcontour\":[{\"type\":\"histogram2dcontour\",\"colorbar\":{\"outlinewidth\":0,\"ticks\":\"\"},\"colorscale\":[[0.0,\"#0d0887\"],[0.1111111111111111,\"#46039f\"],[0.2222222222222222,\"#7201a8\"],[0.3333333333333333,\"#9c179e\"],[0.4444444444444444,\"#bd3786\"],[0.5555555555555556,\"#d8576b\"],[0.6666666666666666,\"#ed7953\"],[0.7777777777777778,\"#fb9f3a\"],[0.8888888888888888,\"#fdca26\"],[1.0,\"#f0f921\"]]}],\"choropleth\":[{\"type\":\"choropleth\",\"colorbar\":{\"outlinewidth\":0,\"ticks\":\"\"}}],\"histogram2d\":[{\"type\":\"histogram2d\",\"colorbar\":{\"outlinewidth\":0,\"ticks\":\"\"},\"colorscale\":[[0.0,\"#0d0887\"],[0.1111111111111111,\"#46039f\"],[0.2222222222222222,\"#7201a8\"],[0.3333333333333333,\"#9c179e\"],[0.4444444444444444,\"#bd3786\"],[0.5555555555555556,\"#d8576b\"],[0.6666666666666666,\"#ed7953\"],[0.7777777777777778,\"#fb9f3a\"],[0.8888888888888888,\"#fdca26\"],[1.0,\"#f0f921\"]]}],\"heatmap\":[{\"type\":\"heatmap\",\"colorbar\":{\"outlinewidth\":0,\"ticks\":\"\"},\"colorscale\":[[0.0,\"#0d0887\"],[0.1111111111111111,\"#46039f\"],[0.2222222222222222,\"#7201a8\"],[0.3333333333333333,\"#9c179e\"],[0.4444444444444444,\"#bd3786\"],[0.5555555555555556,\"#d8576b\"],[0.6666666666666666,\"#ed7953\"],[0.7777777777777778,\"#fb9f3a\"],[0.8888888888888888,\"#fdca26\"],[1.0,\"#f0f921\"]]}],\"heatmapgl\":[{\"type\":\"heatmapgl\",\"colorbar\":{\"outlinewidth\":0,\"ticks\":\"\"},\"colorscale\":[[0.0,\"#0d0887\"],[0.1111111111111111,\"#46039f\"],[0.2222222222222222,\"#7201a8\"],[0.3333333333333333,\"#9c179e\"],[0.4444444444444444,\"#bd3786\"],[0.5555555555555556,\"#d8576b\"],[0.6666666666666666,\"#ed7953\"],[0.7777777777777778,\"#fb9f3a\"],[0.8888888888888888,\"#fdca26\"],[1.0,\"#f0f921\"]]}],\"contourcarpet\":[{\"type\":\"contourcarpet\",\"colorbar\":{\"outlinewidth\":0,\"ticks\":\"\"}}],\"contour\":[{\"type\":\"contour\",\"colorbar\":{\"outlinewidth\":0,\"ticks\":\"\"},\"colorscale\":[[0.0,\"#0d0887\"],[0.1111111111111111,\"#46039f\"],[0.2222222222222222,\"#7201a8\"],[0.3333333333333333,\"#9c179e\"],[0.4444444444444444,\"#bd3786\"],[0.5555555555555556,\"#d8576b\"],[0.6666666666666666,\"#ed7953\"],[0.7777777777777778,\"#fb9f3a\"],[0.8888888888888888,\"#fdca26\"],[1.0,\"#f0f921\"]]}],\"surface\":[{\"type\":\"surface\",\"colorbar\":{\"outlinewidth\":0,\"ticks\":\"\"},\"colorscale\":[[0.0,\"#0d0887\"],[0.1111111111111111,\"#46039f\"],[0.2222222222222222,\"#7201a8\"],[0.3333333333333333,\"#9c179e\"],[0.4444444444444444,\"#bd3786\"],[0.5555555555555556,\"#d8576b\"],[0.6666666666666666,\"#ed7953\"],[0.7777777777777778,\"#fb9f3a\"],[0.8888888888888888,\"#fdca26\"],[1.0,\"#f0f921\"]]}],\"mesh3d\":[{\"type\":\"mesh3d\",\"colorbar\":{\"outlinewidth\":0,\"ticks\":\"\"}}],\"scatter\":[{\"fillpattern\":{\"fillmode\":\"overlay\",\"size\":10,\"solidity\":0.2},\"type\":\"scatter\"}],\"parcoords\":[{\"type\":\"parcoords\",\"line\":{\"colorbar\":{\"outlinewidth\":0,\"ticks\":\"\"}}}],\"scatterpolargl\":[{\"type\":\"scatterpolargl\",\"marker\":{\"colorbar\":{\"outlinewidth\":0,\"ticks\":\"\"}}}],\"bar\":[{\"error_x\":{\"color\":\"#2a3f5f\"},\"error_y\":{\"color\":\"#2a3f5f\"},\"marker\":{\"line\":{\"color\":\"#E5ECF6\",\"width\":0.5},\"pattern\":{\"fillmode\":\"overlay\",\"size\":10,\"solidity\":0.2}},\"type\":\"bar\"}],\"scattergeo\":[{\"type\":\"scattergeo\",\"marker\":{\"colorbar\":{\"outlinewidth\":0,\"ticks\":\"\"}}}],\"scatterpolar\":[{\"type\":\"scatterpolar\",\"marker\":{\"colorbar\":{\"outlinewidth\":0,\"ticks\":\"\"}}}],\"histogram\":[{\"marker\":{\"pattern\":{\"fillmode\":\"overlay\",\"size\":10,\"solidity\":0.2}},\"type\":\"histogram\"}],\"scattergl\":[{\"type\":\"scattergl\",\"marker\":{\"colorbar\":{\"outlinewidth\":0,\"ticks\":\"\"}}}],\"scatter3d\":[{\"type\":\"scatter3d\",\"line\":{\"colorbar\":{\"outlinewidth\":0,\"ticks\":\"\"}},\"marker\":{\"colorbar\":{\"outlinewidth\":0,\"ticks\":\"\"}}}],\"scattermapbox\":[{\"type\":\"scattermapbox\",\"marker\":{\"colorbar\":{\"outlinewidth\":0,\"ticks\":\"\"}}}],\"scatterternary\":[{\"type\":\"scatterternary\",\"marker\":{\"colorbar\":{\"outlinewidth\":0,\"ticks\":\"\"}}}],\"scattercarpet\":[{\"type\":\"scattercarpet\",\"marker\":{\"colorbar\":{\"outlinewidth\":0,\"ticks\":\"\"}}}],\"carpet\":[{\"aaxis\":{\"endlinecolor\":\"#2a3f5f\",\"gridcolor\":\"white\",\"linecolor\":\"white\",\"minorgridcolor\":\"white\",\"startlinecolor\":\"#2a3f5f\"},\"baxis\":{\"endlinecolor\":\"#2a3f5f\",\"gridcolor\":\"white\",\"linecolor\":\"white\",\"minorgridcolor\":\"white\",\"startlinecolor\":\"#2a3f5f\"},\"type\":\"carpet\"}],\"table\":[{\"cells\":{\"fill\":{\"color\":\"#EBF0F8\"},\"line\":{\"color\":\"white\"}},\"header\":{\"fill\":{\"color\":\"#C8D4E3\"},\"line\":{\"color\":\"white\"}},\"type\":\"table\"}],\"barpolar\":[{\"marker\":{\"line\":{\"color\":\"#E5ECF6\",\"width\":0.5},\"pattern\":{\"fillmode\":\"overlay\",\"size\":10,\"solidity\":0.2}},\"type\":\"barpolar\"}],\"pie\":[{\"automargin\":true,\"type\":\"pie\"}]},\"layout\":{\"autotypenumbers\":\"strict\",\"colorway\":[\"#636efa\",\"#EF553B\",\"#00cc96\",\"#ab63fa\",\"#FFA15A\",\"#19d3f3\",\"#FF6692\",\"#B6E880\",\"#FF97FF\",\"#FECB52\"],\"font\":{\"color\":\"#2a3f5f\"},\"hovermode\":\"closest\",\"hoverlabel\":{\"align\":\"left\"},\"paper_bgcolor\":\"white\",\"plot_bgcolor\":\"#E5ECF6\",\"polar\":{\"bgcolor\":\"#E5ECF6\",\"angularaxis\":{\"gridcolor\":\"white\",\"linecolor\":\"white\",\"ticks\":\"\"},\"radialaxis\":{\"gridcolor\":\"white\",\"linecolor\":\"white\",\"ticks\":\"\"}},\"ternary\":{\"bgcolor\":\"#E5ECF6\",\"aaxis\":{\"gridcolor\":\"white\",\"linecolor\":\"white\",\"ticks\":\"\"},\"baxis\":{\"gridcolor\":\"white\",\"linecolor\":\"white\",\"ticks\":\"\"},\"caxis\":{\"gridcolor\":\"white\",\"linecolor\":\"white\",\"ticks\":\"\"}},\"coloraxis\":{\"colorbar\":{\"outlinewidth\":0,\"ticks\":\"\"}},\"colorscale\":{\"sequential\":[[0.0,\"#0d0887\"],[0.1111111111111111,\"#46039f\"],[0.2222222222222222,\"#7201a8\"],[0.3333333333333333,\"#9c179e\"],[0.4444444444444444,\"#bd3786\"],[0.5555555555555556,\"#d8576b\"],[0.6666666666666666,\"#ed7953\"],[0.7777777777777778,\"#fb9f3a\"],[0.8888888888888888,\"#fdca26\"],[1.0,\"#f0f921\"]],\"sequentialminus\":[[0.0,\"#0d0887\"],[0.1111111111111111,\"#46039f\"],[0.2222222222222222,\"#7201a8\"],[0.3333333333333333,\"#9c179e\"],[0.4444444444444444,\"#bd3786\"],[0.5555555555555556,\"#d8576b\"],[0.6666666666666666,\"#ed7953\"],[0.7777777777777778,\"#fb9f3a\"],[0.8888888888888888,\"#fdca26\"],[1.0,\"#f0f921\"]],\"diverging\":[[0,\"#8e0152\"],[0.1,\"#c51b7d\"],[0.2,\"#de77ae\"],[0.3,\"#f1b6da\"],[0.4,\"#fde0ef\"],[0.5,\"#f7f7f7\"],[0.6,\"#e6f5d0\"],[0.7,\"#b8e186\"],[0.8,\"#7fbc41\"],[0.9,\"#4d9221\"],[1,\"#276419\"]]},\"xaxis\":{\"gridcolor\":\"white\",\"linecolor\":\"white\",\"ticks\":\"\",\"title\":{\"standoff\":15},\"zerolinecolor\":\"white\",\"automargin\":true,\"zerolinewidth\":2},\"yaxis\":{\"gridcolor\":\"white\",\"linecolor\":\"white\",\"ticks\":\"\",\"title\":{\"standoff\":15},\"zerolinecolor\":\"white\",\"automargin\":true,\"zerolinewidth\":2},\"scene\":{\"xaxis\":{\"backgroundcolor\":\"#E5ECF6\",\"gridcolor\":\"white\",\"linecolor\":\"white\",\"showbackground\":true,\"ticks\":\"\",\"zerolinecolor\":\"white\",\"gridwidth\":2},\"yaxis\":{\"backgroundcolor\":\"#E5ECF6\",\"gridcolor\":\"white\",\"linecolor\":\"white\",\"showbackground\":true,\"ticks\":\"\",\"zerolinecolor\":\"white\",\"gridwidth\":2},\"zaxis\":{\"backgroundcolor\":\"#E5ECF6\",\"gridcolor\":\"white\",\"linecolor\":\"white\",\"showbackground\":true,\"ticks\":\"\",\"zerolinecolor\":\"white\",\"gridwidth\":2}},\"shapedefaults\":{\"line\":{\"color\":\"#2a3f5f\"}},\"annotationdefaults\":{\"arrowcolor\":\"#2a3f5f\",\"arrowhead\":0,\"arrowwidth\":1},\"geo\":{\"bgcolor\":\"white\",\"landcolor\":\"#E5ECF6\",\"subunitcolor\":\"white\",\"showland\":true,\"showlakes\":true,\"lakecolor\":\"white\"},\"title\":{\"x\":0.05},\"mapbox\":{\"style\":\"light\"}}},\"font\":{\"size\":16},\"margin\":{\"l\":40,\"r\":40,\"t\":30,\"b\":10},\"legend\":{\"orientation\":\"v\",\"yanchor\":\"bottom\",\"y\":0.6,\"xanchor\":\"right\",\"x\":1.5},\"width\":1000,\"height\":450,\"paper_bgcolor\":\"white\",\"plot_bgcolor\":\"white\",\"showlegend\":true,\"annotations\":[{\"showarrow\":false,\"text\":\"Total Entrepreneurs per Season\",\"x\":0,\"xref\":\"paper\",\"y\":1,\"yref\":\"paper\"},{\"showarrow\":false,\"text\":\"Total Startups per Season\",\"x\":0.95,\"xref\":\"paper\",\"y\":1,\"yref\":\"paper\"}]},                        {\"responsive\": true}                    ).then(function(){\n",
       "                            \n",
       "var gd = document.getElementById('7350ff1e-e40e-4f9b-8692-ba9924dfff29');\n",
       "var x = new MutationObserver(function (mutations, observer) {{\n",
       "        var display = window.getComputedStyle(gd).display;\n",
       "        if (!display || display === 'none') {{\n",
       "            console.log([gd, 'removed!']);\n",
       "            Plotly.purge(gd);\n",
       "            observer.disconnect();\n",
       "        }}\n",
       "}});\n",
       "\n",
       "// Listen for the removal of the full notebook cells\n",
       "var notebookContainer = gd.closest('#notebook-container');\n",
       "if (notebookContainer) {{\n",
       "    x.observe(notebookContainer, {childList: true});\n",
       "}}\n",
       "\n",
       "// Listen for the clearing of the current output cell\n",
       "var outputEl = gd.closest('.output');\n",
       "if (outputEl) {{\n",
       "    x.observe(outputEl, {childList: true});\n",
       "}}\n",
       "\n",
       "                        })                };                });            </script>        </div>"
      ]
     },
     "metadata": {},
     "output_type": "display_data"
    }
   ],
   "source": [
    "# Plot for number of startups and entreprenuers \n",
    "\n",
    "startups_season_one = tank_df[['season_number', 'startup_name']].groupby('season_number').count().values[0, 0]\n",
    "startups_season_two = tank_df[['season_number', 'startup_name']].groupby('season_number').count().values[1, 0]\n",
    "startups_season_three = tank_df[['season_number', 'startup_name']].groupby('season_number').count().values[2, 0]\n",
    "\n",
    "labels_entre = [\"Entrepreneurs Season 1\", \"Entrepreneurs Season 2\", \"Entrepreneurs Season 3\"]\n",
    "values_entre = [\n",
    "    total_entrepreneurs_season(1),\n",
    "    total_entrepreneurs_season(2),\n",
    "    total_entrepreneurs_season(3)\n",
    "]\n",
    "\n",
    "labels_startup = ['Startups in season 1', 'Startups in season 2', 'Startups in season 3']\n",
    "values_startup = [startups_season_one, startups_season_two, startups_season_three]\n",
    "\n",
    "fig = make_subplots(\n",
    "    rows=1, cols=2,\n",
    "    specs=[[{\"type\": \"pie\"}, {\"type\": \"pie\"}]]\n",
    ")\n",
    "\n",
    "fig.add_trace(\n",
    "    go.Pie(labels=labels_entre, values=values_entre, hole=.45, textinfo='value'),\n",
    "    row=1, col=1\n",
    ")\n",
    "\n",
    "fig.add_trace(\n",
    "    go.Pie(labels=labels_startup, values=values_startup, hole=.45, textinfo='value'),\n",
    "    row=1, col=2\n",
    ")\n",
    "\n",
    "fig.update_layout(\n",
    "    font=dict(size=16),\n",
    "    width=1000,\n",
    "    height=450,\n",
    "    margin=dict(l=40, r=40, t=30, b=10),\n",
    "    paper_bgcolor=\"white\",\n",
    "    plot_bgcolor=\"white\",\n",
    "    showlegend=True,\n",
    "    legend=dict(orientation=\"v\", yanchor=\"bottom\", y=0.6, xanchor=\"right\", x=1.5),\n",
    "    annotations=[\n",
    "        dict(\n",
    "            text=\"Total Entrepreneurs per Season\",\n",
    "            x=0,\n",
    "            y=1,\n",
    "            xref=\"paper\",\n",
    "            yref=\"paper\",\n",
    "            showarrow=False\n",
    "        ),\n",
    "        dict(\n",
    "            text=\"Total Startups per Season\",\n",
    "            x=0.95,\n",
    "            y=1,\n",
    "            xref=\"paper\",\n",
    "            yref=\"paper\",\n",
    "            showarrow=False\n",
    "        )\n",
    "    ]\n",
    ")\n",
    "\n",
    "fig.show()"
   ]
  },
  {
   "cell_type": "markdown",
   "id": "f47d560d-dc29-43d3-ae54-5b9264a619ab",
   "metadata": {},
   "source": [
    "#### Compute the percentage of startups getting offers?"
   ]
  },
  {
   "cell_type": "code",
   "execution_count": 29,
   "id": "c7b65801-51c2-4f38-8ad3-794d7102955e",
   "metadata": {},
   "outputs": [
    {
     "name": "stdout",
     "output_type": "stream",
     "text": [
      "Total Number of offers received: 321\n",
      "Total Number of pitches: 478\n",
      "\n",
      "Percentage of Startups getting offer: 67.15%\n",
      "\n",
      "Percentage of Startups getting offer in season 1: 63.16%\n",
      "Percentage of Startups getting offer in season 2: 71.6%\n",
      "Percentage of Startups getting offer in season 3: 66.24%\n"
     ]
    }
   ],
   "source": [
    "# Percentage of offers \n",
    "def percentage_offers(season_number):\n",
    "    total_offers_received = tank_df['received_offer'].loc[\n",
    "        tank_df['season_number'] == season_number\n",
    "    ].sum()\n",
    "    \n",
    "    total_startups = tank_df['startup_name'].loc[\n",
    "        tank_df['season_number'] == season_number\n",
    "    ].shape[0]\n",
    "\n",
    "    return ((total_offers_received / total_startups) * 100).round(2)\n",
    "\n",
    "total_offers_received = tank_df['received_offer'].sum()\n",
    "total_startups = tank_df['startup_name'].shape[0]\n",
    "\n",
    "offers = ((total_offers_received / total_startups) * 100).round(2)\n",
    "\n",
    "print(f\"Total Number of offers received: {total_offers_received}\")\n",
    "print(f\"Total Number of pitches: {total_startups}\")\n",
    "print()\n",
    "print(f\"Percentage of Startups getting offer: {offers}%\")\n",
    "print()\n",
    "print(f\"Percentage of Startups getting offer in season 1: {percentage_offers(1)}%\")\n",
    "print(f\"Percentage of Startups getting offer in season 2: {percentage_offers(2)}%\")\n",
    "print(f\"Percentage of Startups getting offer in season 3: {percentage_offers(3)}%\")"
   ]
  },
  {
   "cell_type": "markdown",
   "id": "e19b76ef-6456-440d-a310-1e4e2cbb0846",
   "metadata": {
    "jp-MarkdownHeadingCollapsed": true
   },
   "source": [
    "#### Top five Industries that got offers in all Shark tank India seasons"
   ]
  },
  {
   "cell_type": "code",
   "execution_count": 30,
   "id": "f0c80da6-8f85-4c3d-a0f8-1ef2124e47af",
   "metadata": {
    "jupyter": {
     "source_hidden": true
    }
   },
   "outputs": [
    {
     "ename": "NameError",
     "evalue": "name 'startup_deals' is not defined",
     "output_type": "error",
     "traceback": [
      "\u001b[1;31m---------------------------------------------------------------------------\u001b[0m",
      "\u001b[1;31mNameError\u001b[0m                                 Traceback (most recent call last)",
      "Cell \u001b[1;32mIn[30], line 1\u001b[0m\n\u001b[1;32m----> 1\u001b[0m \u001b[43mstartup_deals\u001b[49m[\u001b[38;5;124m'\u001b[39m\u001b[38;5;124mTotal startups\u001b[39m\u001b[38;5;124m'\u001b[39m] \u001b[38;5;241m=\u001b[39m tank_df[[\u001b[38;5;124m'\u001b[39m\u001b[38;5;124mindustry\u001b[39m\u001b[38;5;124m'\u001b[39m, \u001b[38;5;124m'\u001b[39m\u001b[38;5;124mstartup_name\u001b[39m\u001b[38;5;124m'\u001b[39m]]\u001b[38;5;241m.\u001b[39mgroupby(\u001b[38;5;124m'\u001b[39m\u001b[38;5;124mindustry\u001b[39m\u001b[38;5;124m'\u001b[39m)\u001b[38;5;241m.\u001b[39mcount()\u001b[38;5;241m.\u001b[39mrename(\n\u001b[0;32m      2\u001b[0m     columns \u001b[38;5;241m=\u001b[39m {\n\u001b[0;32m      3\u001b[0m         \u001b[38;5;124m\"\u001b[39m\u001b[38;5;124mstartup_name\u001b[39m\u001b[38;5;124m\"\u001b[39m: \u001b[38;5;124m\"\u001b[39m\u001b[38;5;124mTotal startups\u001b[39m\u001b[38;5;124m\"\u001b[39m\n\u001b[0;32m      4\u001b[0m     }\n\u001b[0;32m      5\u001b[0m )\n\u001b[0;32m      7\u001b[0m startup_deals[\u001b[38;5;124m'\u001b[39m\u001b[38;5;124mGot Offer\u001b[39m\u001b[38;5;124m'\u001b[39m] \u001b[38;5;241m=\u001b[39m tank_df\u001b[38;5;241m.\u001b[39mloc[\n\u001b[0;32m      8\u001b[0m     tank_df[\u001b[38;5;124m'\u001b[39m\u001b[38;5;124mreceived_offer\u001b[39m\u001b[38;5;124m'\u001b[39m] \u001b[38;5;241m==\u001b[39m \u001b[38;5;241m1\u001b[39m,\n\u001b[0;32m      9\u001b[0m     [\u001b[38;5;124m'\u001b[39m\u001b[38;5;124mindustry\u001b[39m\u001b[38;5;124m'\u001b[39m, \u001b[38;5;124m'\u001b[39m\u001b[38;5;124mstartup_name\u001b[39m\u001b[38;5;124m'\u001b[39m]\n\u001b[1;32m   (...)\u001b[0m\n\u001b[0;32m     13\u001b[0m     }\n\u001b[0;32m     14\u001b[0m )\n\u001b[0;32m     16\u001b[0m startup_deals[\u001b[38;5;124m'\u001b[39m\u001b[38;5;124mGot Offer (\u001b[39m\u001b[38;5;124m%\u001b[39m\u001b[38;5;124m)\u001b[39m\u001b[38;5;124m'\u001b[39m] \u001b[38;5;241m=\u001b[39m ((startup_deals[\u001b[38;5;124m'\u001b[39m\u001b[38;5;124mGot Offer\u001b[39m\u001b[38;5;124m'\u001b[39m] \u001b[38;5;241m/\u001b[39m startup_deals[\u001b[38;5;124m'\u001b[39m\u001b[38;5;124mTotal startups\u001b[39m\u001b[38;5;124m'\u001b[39m]) \u001b[38;5;241m*\u001b[39m \u001b[38;5;241m100\u001b[39m)\u001b[38;5;241m.\u001b[39mround(\u001b[38;5;241m2\u001b[39m)\n",
      "\u001b[1;31mNameError\u001b[0m: name 'startup_deals' is not defined"
     ]
    }
   ],
   "source": [
    "startup_deals['Total startups'] = tank_df[['industry', 'startup_name']].groupby('industry').count().rename(\n",
    "    columns = {\n",
    "        \"startup_name\": \"Total startups\"\n",
    "    }\n",
    ")\n",
    "\n",
    "startup_deals['Got Offer'] = tank_df.loc[\n",
    "    tank_df['received_offer'] == 1,\n",
    "    ['industry', 'startup_name']\n",
    "].groupby('industry').count().rename(\n",
    "    columns = {\n",
    "        \"startup_name\": \"Got Offer\"\n",
    "    }\n",
    ")\n",
    "\n",
    "startup_deals['Got Offer (%)'] = ((startup_deals['Got Offer'] / startup_deals['Total startups']) * 100).round(2)\n",
    "startup_deals.sort_values('Got Offer', ascending=False).iloc[:5, :].sort_values('Got Offer (%)', ascending=False)"
   ]
  },
  {
   "cell_type": "code",
   "execution_count": null,
   "id": "2f020527-01ca-40ce-8962-9a0d26c7cf24",
   "metadata": {},
   "outputs": [],
   "source": [
    "# Conclusion!\n",
    "\n",
    "print(\"\"\"Conclusion: \n",
    "\n",
    "A statrup in Healthcare, Food, Technology, Fashion, Manufacturing is more likely to get an offer\"\"\")"
   ]
  },
  {
   "cell_type": "code",
   "execution_count": null,
   "id": "132cea9e-5026-4502-bc6c-0fc516c4f050",
   "metadata": {
    "jupyter": {
     "source_hidden": true
    }
   },
   "outputs": [],
   "source": [
    "# Total number of startups from different industries for a particular season\n",
    "\n",
    "def startup_offer_converted_by_season(season):\n",
    "    season_startup_industry = tank_df.loc[\n",
    "        tank_df['season_number'] == season\n",
    "    ][['industry', 'startup_name']].groupby('industry').count().rename(\n",
    "        columns = {\n",
    "            \"startup_name\": \"Startups\"\n",
    "        }\n",
    "    )\n",
    "    \n",
    "    season_startup_received_offer = tank_df.loc[\n",
    "        tank_df['season_number'] == season\n",
    "    ][['industry', 'startup_name']].loc[\n",
    "        tank_df['received_offer'] == 1\n",
    "    ].groupby('industry').count().rename(columns = {\n",
    "        \"startup_name\": \"Got Offer\"\n",
    "    })\n",
    "    \n",
    "    season_startup_deal = tank_df.loc[\n",
    "        tank_df['season_number'] == season\n",
    "    ][['industry', 'startup_name']].loc[\n",
    "        tank_df['deal_amount'] != 0\n",
    "    ].groupby('industry').count().rename(columns = {\n",
    "        \"startup_name\": \"Deals\"\n",
    "    })\n",
    "    \n",
    "    season_startup_offer = pd.merge(\n",
    "        season_startup_industry, \n",
    "        season_startup_received_offer, \n",
    "        on=\"industry\", how='left'\n",
    "    )\n",
    "    season_startup_deals = pd.merge(\n",
    "        season_startup_offer, \n",
    "        season_startup_deal, \n",
    "        on=\"industry\", how=\"left\"\n",
    "    )\n",
    "    \n",
    "    season_startup_deals['Got Offer (%)'] = (\n",
    "        (season_startup_deals['Got Offer'] / season_startup_deals['Startups']) * 100\n",
    "    ).round(2)\n",
    "    season_startup_deals['Offers converted (%)'] = (\n",
    "        (season_startup_deals['Deals'] / season_startup_deals['Got Offer']) * 100\n",
    "    ).round(2)\n",
    "    \n",
    "    season_startup_deals.fillna(0, inplace=True)\n",
    "    return season_startup_deals"
   ]
  },
  {
   "cell_type": "code",
   "execution_count": null,
   "id": "4bf43456-5eaa-48d1-b9ae-9995d1ac6453",
   "metadata": {
    "jupyter": {
     "source_hidden": true
    }
   },
   "outputs": [],
   "source": [
    "# Plot for total number of startups from different industries for a particular season \n",
    "\n",
    "def plot_startup_offer(season_number):\n",
    "    startup_data = startup_offer_converted_by_season(season_number)\n",
    "    \n",
    "    industry = startup_data.index\n",
    "    startups = startup_data.values[:, 0]\n",
    "    offers = startup_data.values[:, 1]\n",
    "    deals = startup_data.values[:, 2]\n",
    "    \n",
    "    fig = go.Figure()\n",
    "    fig.add_trace(go.Bar(\n",
    "        x=industry,\n",
    "        y=startups,\n",
    "        name='Startups',\n",
    "        marker_color='#5e548e'\n",
    "    ))\n",
    "    \n",
    "    fig.add_trace(go.Bar(\n",
    "        x=industry,\n",
    "        y=offers,\n",
    "        name='Total offers',\n",
    "        marker_color='#9f86c0'\n",
    "    ))\n",
    "    \n",
    "    fig.add_trace(go.Bar(\n",
    "        x=industry,\n",
    "        y=deals,\n",
    "        name='Total deals',\n",
    "        marker_color='#be95c4'\n",
    "    ))\n",
    "    \n",
    "    fig.update_layout(\n",
    "        barmode='group', \n",
    "        xaxis_tickangle=-45, \n",
    "        title=f\"Industry-wise Breakdown of Startup Offers and Deals for season {season_number}\",\n",
    "        height=350,\n",
    "        margin=dict(l=40, r=40, t=60, b=40),\n",
    "        plot_bgcolor='white',  \n",
    "        paper_bgcolor='white', \n",
    "        xaxis=dict(\n",
    "            showline=True,\n",
    "            linewidth=1,\n",
    "            linecolor='black',\n",
    "            autorange=True,\n",
    "            title='Industries',\n",
    "        ),\n",
    "        yaxis=dict(\n",
    "            showline=True,\n",
    "            linewidth=1,\n",
    "            linecolor='black',\n",
    "            autorange=True,\n",
    "            title='No. of startups',\n",
    "        )\n",
    "    )\n",
    "    \n",
    "fig.show()"
   ]
  },
  {
   "cell_type": "markdown",
   "id": "56d79424-b49d-4080-9260-1185bc2c0dc3",
   "metadata": {},
   "source": [
    "#### Total number of startups from different industries with offer received rate and offers conversion rate"
   ]
  },
  {
   "cell_type": "code",
   "execution_count": null,
   "id": "96ea7eef-dd1e-4e5f-9ede-a799fb4df8ba",
   "metadata": {
    "jupyter": {
     "source_hidden": true
    }
   },
   "outputs": [],
   "source": [
    "# Grouping industries\n",
    "\n",
    "startup_industry = tank_df[['industry', 'startup_name']].groupby('industry').count().rename(\n",
    "    columns = {\n",
    "        \"startup_name\": \"Number of Startups\"\n",
    "    }\n",
    ")\n",
    "\n",
    "offer_industry = tank_df[['industry', 'startup_name']].loc[\n",
    "    tank_df['received_offer'] == 1\n",
    "].groupby('industry').count().rename(\n",
    "    columns = {\n",
    "        \"startup_name\": \"Offers\"\n",
    "    }\n",
    ")\n",
    "\n",
    "deal_offer_industry = tank_df[['industry', 'startup_name']].loc[\n",
    "    tank_df['deal_amount'] > 0\n",
    "].groupby('industry').count().rename(\n",
    "    columns = {\n",
    "        \"startup_name\": \"Deals\"\n",
    "    }\n",
    ")\n",
    "\n",
    "offer_result = pd.merge(startup_industry, offer_industry, on='industry', how=\"left\")\n",
    "result = pd.merge(offer_result, deal_offer_industry, on=\"industry\", how=\"left\")\n",
    "\n",
    "result['Offers (%)'] = ((result['Offers'] / result['Number of Startups']) * 100).round(2)\n",
    "result['Offers converted (%)'] = ((result['Deals'] / result['Offers']) * 100).round(2)\n",
    "\n",
    "offers_industries = result.sort_values('Offers (%)', ascending=False)\n",
    "offers_industries"
   ]
  },
  {
   "cell_type": "code",
   "execution_count": null,
   "id": "e1944c02-1246-4d75-8450-9f70f5f4d1d8",
   "metadata": {
    "jupyter": {
     "source_hidden": true
    }
   },
   "outputs": [],
   "source": [
    "# Plotting industries, offfers, deals\n",
    "\n",
    "industries = offers_industries.index\n",
    "startups = offers_industries.iloc[:, 0].values.tolist()\n",
    "offers = offers_industries.iloc[:, 1].values.tolist()\n",
    "deals = offers_industries.iloc[:, 2].values.tolist()\n",
    "\n",
    "fig = go.Figure()\n",
    "fig.add_trace(go.Bar(\n",
    "    x=industries,\n",
    "    y=startups,\n",
    "    name='Total startups',\n",
    "    marker_color='#ef476f'\n",
    "))\n",
    "fig.add_trace(go.Bar(\n",
    "    x=industries,\n",
    "    y=offers,\n",
    "    name='Starupts that Got offer',\n",
    "    marker_color='#ffd166'\n",
    "))\n",
    "fig.add_trace(go.Bar(\n",
    "    x=industries,\n",
    "    y=deals,\n",
    "    name='Offers converted',\n",
    "    marker_color='#06d6a0'\n",
    "))\n",
    "\n",
    "fig.update_layout(\n",
    "    barmode='group',\n",
    "    xaxis_tickangle=-45,\n",
    "    plot_bgcolor='white',  \n",
    "    paper_bgcolor='white', \n",
    "    title={\n",
    "        'text': 'Industry-wise Breakdown of Startup Offers and Deals',\n",
    "        'y': 0.9,\n",
    "        'x': 0.5,\n",
    "        'xanchor': 'center',\n",
    "        'yanchor': 'top'\n",
    "    },\n",
    "    xaxis=dict(\n",
    "        title='Industries',\n",
    "        showline=True,\n",
    "        linewidth=1,\n",
    "        linecolor='black',\n",
    "        tickfont=dict(size=12),\n",
    "        autorange=True\n",
    "    ),\n",
    "    yaxis=dict(\n",
    "        title='No. of startups',\n",
    "        showline=True,\n",
    "        linewidth=1,\n",
    "        linecolor='black',\n",
    "        autorange=True\n",
    "    ),\n",
    "    legend=dict(\n",
    "        x=0.5,\n",
    "        y=1.1,\n",
    "        orientation='h'\n",
    "    )\n",
    ")\n",
    "\n",
    "fig.show()"
   ]
  },
  {
   "cell_type": "markdown",
   "id": "bfcf47ca-70e6-4f06-a127-96ad908da413",
   "metadata": {},
   "source": [
    "#### Industry wise break-down of startups, offers and deals for a particular season"
   ]
  },
  {
   "cell_type": "code",
   "execution_count": null,
   "id": "fe9840d0-e85f-46a3-9468-b19cdcb7e6b7",
   "metadata": {},
   "outputs": [],
   "source": [
    "# Here 1, 2, 3 are the seasons\n",
    "\n",
    "plot_startup_offer(1)\n",
    "# plot_startup_offer(2)\n",
    "# plot_startup_offer(3)"
   ]
  },
  {
   "cell_type": "markdown",
   "id": "dad0c36a-09de-41d7-a0da-b65417b6aaf5",
   "metadata": {},
   "source": [
    "#### What is the average Yearly revenue and Monthly revenue of startups that got offer?"
   ]
  },
  {
   "cell_type": "code",
   "execution_count": 31,
   "id": "672be89c-7af7-4c7e-868d-072a1c320195",
   "metadata": {},
   "outputs": [
    {
     "name": "stdout",
     "output_type": "stream",
     "text": [
      "Average Yearly revenue of startups that got offer: 324.82 lakhs\n",
      "Average Montly revenue of startups that got offer: 37.26 lakhs\n"
     ]
    }
   ],
   "source": [
    "yearly_revenue = tank_df.loc[\n",
    "    tank_df['received_offer'] == 1\n",
    "]['yearly_revenue'].mean().round(2)\n",
    "\n",
    "monthly_sales = tank_df.loc[\n",
    "    tank_df['received_offer'] == 1\n",
    "]['monthly_sales'].mean().round(2)\n",
    "\n",
    "print(f'Average Yearly revenue of startups that got offer: {yearly_revenue} lakhs')\n",
    "print(f'Average Montly revenue of startups that got offer: {monthly_sales} lakhs')"
   ]
  },
  {
   "cell_type": "code",
   "execution_count": 32,
   "id": "844d2de4-6b96-4e38-a80a-c0b5a4c16332",
   "metadata": {},
   "outputs": [],
   "source": [
    "# Yearly / monthly revenue\n",
    "\n",
    "yearly_revenue = tank_df.loc[\n",
    "    tank_df['received_offer'] == 1\n",
    "]['yearly_revenue'].round(2).tolist()\n",
    "\n",
    "monthly_revenue = tank_df.loc[\n",
    "    tank_df['received_offer'] == 1\n",
    "]['monthly_sales'].round(2).tolist()"
   ]
  },
  {
   "cell_type": "code",
   "execution_count": 33,
   "id": "ff1fe75f-9797-488b-a707-65b3510858b5",
   "metadata": {},
   "outputs": [
    {
     "data": {
      "application/vnd.plotly.v1+json": {
       "config": {
        "plotlyServerURL": "https://plot.ly"
       },
       "data": [
        {
         "marker": {
          "color": "blue",
          "line": {
           "color": "black",
           "width": 1
          },
          "size": 10,
          "symbol": "circle"
         },
         "mode": "markers",
         "name": "Monthly Revenue",
         "type": "scatter",
         "x": [
          8,
          0.4,
          2,
          0,
          15,
          0,
          20,
          4,
          5,
          15,
          0.01,
          7.5,
          0,
          0,
          1,
          0,
          6,
          20.6,
          0,
          0,
          0,
          25,
          160,
          0,
          2.8,
          0,
          6,
          0.32,
          16,
          0,
          4,
          0,
          0,
          0,
          16,
          0,
          0,
          0,
          20,
          10,
          3,
          3.5,
          0,
          0,
          2,
          0,
          0,
          15,
          40,
          23,
          0.25,
          1,
          3,
          55,
          0,
          1,
          16,
          200,
          21,
          7,
          0,
          20,
          5,
          0,
          3.5,
          12,
          0,
          7.5,
          22,
          0,
          0,
          6,
          0,
          87,
          0,
          0,
          0,
          0,
          0,
          0.66,
          0,
          0,
          3,
          12,
          2,
          0,
          7,
          0,
          0,
          0,
          0,
          0,
          0,
          0,
          100,
          0,
          65,
          11,
          0,
          25,
          0,
          0,
          0,
          0,
          0,
          0,
          12,
          46,
          0,
          0,
          0,
          0,
          0,
          0,
          0,
          0,
          0,
          0,
          0,
          0,
          0,
          0,
          0,
          0,
          0,
          0,
          100,
          10,
          0,
          32,
          25,
          0,
          63,
          0,
          0,
          165,
          5,
          0,
          0,
          14,
          0,
          57,
          0,
          0,
          0,
          194,
          8.7,
          6,
          0,
          40,
          0,
          14,
          28,
          0,
          0,
          0,
          0,
          0,
          12,
          0,
          0,
          0,
          25,
          0,
          700,
          20,
          14,
          0,
          0,
          300,
          0,
          0.5,
          0,
          0,
          0,
          0,
          0,
          11,
          0,
          0,
          0,
          264,
          0,
          3,
          0,
          0,
          0,
          42,
          0,
          24,
          24,
          0,
          0,
          0,
          0,
          0,
          30,
          0,
          50,
          20,
          0,
          0,
          0,
          7.5,
          0,
          0,
          0,
          145,
          4.2,
          0,
          0,
          80,
          270,
          0,
          0,
          46,
          21,
          142,
          600,
          0,
          0,
          6,
          36,
          86,
          0,
          0,
          0,
          35,
          50,
          240,
          18,
          93,
          12,
          0,
          0,
          0,
          200,
          9,
          0,
          10,
          11,
          35,
          80,
          0,
          0,
          0,
          0,
          0,
          0,
          0,
          0,
          0,
          0,
          3,
          75,
          800,
          0,
          8,
          0,
          0,
          33,
          50,
          18,
          18,
          2,
          120,
          3500,
          33,
          0,
          65,
          0,
          0,
          0,
          0,
          0,
          210,
          0,
          63,
          100,
          0,
          60,
          0,
          3.4,
          0,
          9.73,
          0,
          0,
          5.5,
          200,
          0,
          3,
          58,
          16,
          100,
          73,
          33,
          0,
          0,
          0,
          0,
          100,
          0,
          0.3,
          70,
          29,
          0,
          0,
          0,
          0,
          10,
          0,
          0,
          76,
          9.5,
          0,
          22,
          63,
          0,
          60,
          0,
          120
         ],
         "y": [
          95,
          4,
          0,
          700,
          25,
          100,
          0,
          0,
          0,
          36,
          0,
          0,
          115,
          1300,
          260,
          0,
          0,
          60,
          0,
          0,
          0,
          300,
          0,
          0,
          130,
          120,
          0,
          0,
          250,
          0,
          500,
          0,
          180,
          300,
          0,
          1000,
          0,
          100,
          380,
          0,
          0,
          0,
          150,
          250,
          27,
          0,
          54,
          180,
          0,
          0,
          360,
          0,
          0,
          0,
          372,
          0,
          0,
          2500,
          250,
          0,
          0,
          300,
          120,
          0,
          0,
          0,
          0,
          63,
          104,
          208,
          60,
          72,
          242,
          1020,
          250,
          0,
          100,
          170,
          0,
          0,
          0,
          0,
          0,
          0,
          0,
          108,
          0,
          7200,
          100,
          500,
          0,
          0,
          0,
          0,
          0,
          1200,
          0,
          0,
          150,
          0,
          0,
          0,
          0,
          0,
          0,
          0,
          0,
          0,
          0,
          0,
          0,
          0,
          0,
          0,
          0,
          350,
          0,
          100,
          0,
          0,
          0,
          0,
          0,
          0,
          0,
          0,
          0,
          0,
          0,
          0,
          0,
          0,
          0,
          0,
          120,
          0,
          0,
          0,
          470,
          86,
          0,
          410,
          0,
          0,
          0,
          0,
          33,
          50,
          0,
          0,
          53,
          0,
          120,
          0,
          0,
          0,
          600,
          0,
          100,
          114,
          1600,
          1000,
          0,
          117,
          0,
          115,
          0,
          0,
          0,
          0,
          0,
          21,
          0,
          0,
          0,
          0,
          0,
          0,
          0,
          0,
          180,
          0,
          240,
          0,
          0,
          0,
          0,
          270,
          0,
          0,
          0,
          0,
          0,
          0,
          0,
          0,
          0,
          0,
          720,
          0,
          0,
          13,
          0,
          0,
          0,
          0,
          5100,
          0,
          0,
          0,
          0,
          670,
          0,
          0,
          0,
          1400,
          0,
          1400,
          2070,
          82,
          870,
          0,
          400,
          70,
          900,
          700,
          0,
          143,
          500,
          3000,
          600,
          282,
          150,
          0,
          0,
          0,
          170,
          0,
          0,
          59,
          113,
          400,
          450,
          520,
          90,
          0,
          200,
          1100,
          122,
          1150,
          5700,
          0,
          135,
          0,
          600,
          2050,
          0,
          84,
          5000,
          280,
          230,
          900,
          0,
          50,
          20,
          1030,
          18700,
          440,
          0,
          360,
          0,
          0,
          100,
          750,
          0,
          1400,
          210,
          290,
          400,
          0,
          0,
          225,
          0,
          0,
          120,
          0,
          0,
          16,
          3600,
          720,
          38,
          700,
          160,
          640,
          478,
          0,
          0,
          840,
          0,
          460,
          281,
          60,
          0,
          626,
          0,
          90,
          300,
          128,
          0,
          60,
          180,
          0,
          740,
          250,
          1000,
          150,
          1000,
          398,
          300,
          0,
          320
         ]
        }
       ],
       "layout": {
        "height": 360,
        "legend": {
         "orientation": "h",
         "x": 0.1,
         "y": 1.1
        },
        "paper_bgcolor": "white",
        "plot_bgcolor": "white",
        "template": {
         "data": {
          "bar": [
           {
            "error_x": {
             "color": "#2a3f5f"
            },
            "error_y": {
             "color": "#2a3f5f"
            },
            "marker": {
             "line": {
              "color": "#E5ECF6",
              "width": 0.5
             },
             "pattern": {
              "fillmode": "overlay",
              "size": 10,
              "solidity": 0.2
             }
            },
            "type": "bar"
           }
          ],
          "barpolar": [
           {
            "marker": {
             "line": {
              "color": "#E5ECF6",
              "width": 0.5
             },
             "pattern": {
              "fillmode": "overlay",
              "size": 10,
              "solidity": 0.2
             }
            },
            "type": "barpolar"
           }
          ],
          "carpet": [
           {
            "aaxis": {
             "endlinecolor": "#2a3f5f",
             "gridcolor": "white",
             "linecolor": "white",
             "minorgridcolor": "white",
             "startlinecolor": "#2a3f5f"
            },
            "baxis": {
             "endlinecolor": "#2a3f5f",
             "gridcolor": "white",
             "linecolor": "white",
             "minorgridcolor": "white",
             "startlinecolor": "#2a3f5f"
            },
            "type": "carpet"
           }
          ],
          "choropleth": [
           {
            "colorbar": {
             "outlinewidth": 0,
             "ticks": ""
            },
            "type": "choropleth"
           }
          ],
          "contour": [
           {
            "colorbar": {
             "outlinewidth": 0,
             "ticks": ""
            },
            "colorscale": [
             [
              0,
              "#0d0887"
             ],
             [
              0.1111111111111111,
              "#46039f"
             ],
             [
              0.2222222222222222,
              "#7201a8"
             ],
             [
              0.3333333333333333,
              "#9c179e"
             ],
             [
              0.4444444444444444,
              "#bd3786"
             ],
             [
              0.5555555555555556,
              "#d8576b"
             ],
             [
              0.6666666666666666,
              "#ed7953"
             ],
             [
              0.7777777777777778,
              "#fb9f3a"
             ],
             [
              0.8888888888888888,
              "#fdca26"
             ],
             [
              1,
              "#f0f921"
             ]
            ],
            "type": "contour"
           }
          ],
          "contourcarpet": [
           {
            "colorbar": {
             "outlinewidth": 0,
             "ticks": ""
            },
            "type": "contourcarpet"
           }
          ],
          "heatmap": [
           {
            "colorbar": {
             "outlinewidth": 0,
             "ticks": ""
            },
            "colorscale": [
             [
              0,
              "#0d0887"
             ],
             [
              0.1111111111111111,
              "#46039f"
             ],
             [
              0.2222222222222222,
              "#7201a8"
             ],
             [
              0.3333333333333333,
              "#9c179e"
             ],
             [
              0.4444444444444444,
              "#bd3786"
             ],
             [
              0.5555555555555556,
              "#d8576b"
             ],
             [
              0.6666666666666666,
              "#ed7953"
             ],
             [
              0.7777777777777778,
              "#fb9f3a"
             ],
             [
              0.8888888888888888,
              "#fdca26"
             ],
             [
              1,
              "#f0f921"
             ]
            ],
            "type": "heatmap"
           }
          ],
          "heatmapgl": [
           {
            "colorbar": {
             "outlinewidth": 0,
             "ticks": ""
            },
            "colorscale": [
             [
              0,
              "#0d0887"
             ],
             [
              0.1111111111111111,
              "#46039f"
             ],
             [
              0.2222222222222222,
              "#7201a8"
             ],
             [
              0.3333333333333333,
              "#9c179e"
             ],
             [
              0.4444444444444444,
              "#bd3786"
             ],
             [
              0.5555555555555556,
              "#d8576b"
             ],
             [
              0.6666666666666666,
              "#ed7953"
             ],
             [
              0.7777777777777778,
              "#fb9f3a"
             ],
             [
              0.8888888888888888,
              "#fdca26"
             ],
             [
              1,
              "#f0f921"
             ]
            ],
            "type": "heatmapgl"
           }
          ],
          "histogram": [
           {
            "marker": {
             "pattern": {
              "fillmode": "overlay",
              "size": 10,
              "solidity": 0.2
             }
            },
            "type": "histogram"
           }
          ],
          "histogram2d": [
           {
            "colorbar": {
             "outlinewidth": 0,
             "ticks": ""
            },
            "colorscale": [
             [
              0,
              "#0d0887"
             ],
             [
              0.1111111111111111,
              "#46039f"
             ],
             [
              0.2222222222222222,
              "#7201a8"
             ],
             [
              0.3333333333333333,
              "#9c179e"
             ],
             [
              0.4444444444444444,
              "#bd3786"
             ],
             [
              0.5555555555555556,
              "#d8576b"
             ],
             [
              0.6666666666666666,
              "#ed7953"
             ],
             [
              0.7777777777777778,
              "#fb9f3a"
             ],
             [
              0.8888888888888888,
              "#fdca26"
             ],
             [
              1,
              "#f0f921"
             ]
            ],
            "type": "histogram2d"
           }
          ],
          "histogram2dcontour": [
           {
            "colorbar": {
             "outlinewidth": 0,
             "ticks": ""
            },
            "colorscale": [
             [
              0,
              "#0d0887"
             ],
             [
              0.1111111111111111,
              "#46039f"
             ],
             [
              0.2222222222222222,
              "#7201a8"
             ],
             [
              0.3333333333333333,
              "#9c179e"
             ],
             [
              0.4444444444444444,
              "#bd3786"
             ],
             [
              0.5555555555555556,
              "#d8576b"
             ],
             [
              0.6666666666666666,
              "#ed7953"
             ],
             [
              0.7777777777777778,
              "#fb9f3a"
             ],
             [
              0.8888888888888888,
              "#fdca26"
             ],
             [
              1,
              "#f0f921"
             ]
            ],
            "type": "histogram2dcontour"
           }
          ],
          "mesh3d": [
           {
            "colorbar": {
             "outlinewidth": 0,
             "ticks": ""
            },
            "type": "mesh3d"
           }
          ],
          "parcoords": [
           {
            "line": {
             "colorbar": {
              "outlinewidth": 0,
              "ticks": ""
             }
            },
            "type": "parcoords"
           }
          ],
          "pie": [
           {
            "automargin": true,
            "type": "pie"
           }
          ],
          "scatter": [
           {
            "fillpattern": {
             "fillmode": "overlay",
             "size": 10,
             "solidity": 0.2
            },
            "type": "scatter"
           }
          ],
          "scatter3d": [
           {
            "line": {
             "colorbar": {
              "outlinewidth": 0,
              "ticks": ""
             }
            },
            "marker": {
             "colorbar": {
              "outlinewidth": 0,
              "ticks": ""
             }
            },
            "type": "scatter3d"
           }
          ],
          "scattercarpet": [
           {
            "marker": {
             "colorbar": {
              "outlinewidth": 0,
              "ticks": ""
             }
            },
            "type": "scattercarpet"
           }
          ],
          "scattergeo": [
           {
            "marker": {
             "colorbar": {
              "outlinewidth": 0,
              "ticks": ""
             }
            },
            "type": "scattergeo"
           }
          ],
          "scattergl": [
           {
            "marker": {
             "colorbar": {
              "outlinewidth": 0,
              "ticks": ""
             }
            },
            "type": "scattergl"
           }
          ],
          "scattermapbox": [
           {
            "marker": {
             "colorbar": {
              "outlinewidth": 0,
              "ticks": ""
             }
            },
            "type": "scattermapbox"
           }
          ],
          "scatterpolar": [
           {
            "marker": {
             "colorbar": {
              "outlinewidth": 0,
              "ticks": ""
             }
            },
            "type": "scatterpolar"
           }
          ],
          "scatterpolargl": [
           {
            "marker": {
             "colorbar": {
              "outlinewidth": 0,
              "ticks": ""
             }
            },
            "type": "scatterpolargl"
           }
          ],
          "scatterternary": [
           {
            "marker": {
             "colorbar": {
              "outlinewidth": 0,
              "ticks": ""
             }
            },
            "type": "scatterternary"
           }
          ],
          "surface": [
           {
            "colorbar": {
             "outlinewidth": 0,
             "ticks": ""
            },
            "colorscale": [
             [
              0,
              "#0d0887"
             ],
             [
              0.1111111111111111,
              "#46039f"
             ],
             [
              0.2222222222222222,
              "#7201a8"
             ],
             [
              0.3333333333333333,
              "#9c179e"
             ],
             [
              0.4444444444444444,
              "#bd3786"
             ],
             [
              0.5555555555555556,
              "#d8576b"
             ],
             [
              0.6666666666666666,
              "#ed7953"
             ],
             [
              0.7777777777777778,
              "#fb9f3a"
             ],
             [
              0.8888888888888888,
              "#fdca26"
             ],
             [
              1,
              "#f0f921"
             ]
            ],
            "type": "surface"
           }
          ],
          "table": [
           {
            "cells": {
             "fill": {
              "color": "#EBF0F8"
             },
             "line": {
              "color": "white"
             }
            },
            "header": {
             "fill": {
              "color": "#C8D4E3"
             },
             "line": {
              "color": "white"
             }
            },
            "type": "table"
           }
          ]
         },
         "layout": {
          "annotationdefaults": {
           "arrowcolor": "#2a3f5f",
           "arrowhead": 0,
           "arrowwidth": 1
          },
          "autotypenumbers": "strict",
          "coloraxis": {
           "colorbar": {
            "outlinewidth": 0,
            "ticks": ""
           }
          },
          "colorscale": {
           "diverging": [
            [
             0,
             "#8e0152"
            ],
            [
             0.1,
             "#c51b7d"
            ],
            [
             0.2,
             "#de77ae"
            ],
            [
             0.3,
             "#f1b6da"
            ],
            [
             0.4,
             "#fde0ef"
            ],
            [
             0.5,
             "#f7f7f7"
            ],
            [
             0.6,
             "#e6f5d0"
            ],
            [
             0.7,
             "#b8e186"
            ],
            [
             0.8,
             "#7fbc41"
            ],
            [
             0.9,
             "#4d9221"
            ],
            [
             1,
             "#276419"
            ]
           ],
           "sequential": [
            [
             0,
             "#0d0887"
            ],
            [
             0.1111111111111111,
             "#46039f"
            ],
            [
             0.2222222222222222,
             "#7201a8"
            ],
            [
             0.3333333333333333,
             "#9c179e"
            ],
            [
             0.4444444444444444,
             "#bd3786"
            ],
            [
             0.5555555555555556,
             "#d8576b"
            ],
            [
             0.6666666666666666,
             "#ed7953"
            ],
            [
             0.7777777777777778,
             "#fb9f3a"
            ],
            [
             0.8888888888888888,
             "#fdca26"
            ],
            [
             1,
             "#f0f921"
            ]
           ],
           "sequentialminus": [
            [
             0,
             "#0d0887"
            ],
            [
             0.1111111111111111,
             "#46039f"
            ],
            [
             0.2222222222222222,
             "#7201a8"
            ],
            [
             0.3333333333333333,
             "#9c179e"
            ],
            [
             0.4444444444444444,
             "#bd3786"
            ],
            [
             0.5555555555555556,
             "#d8576b"
            ],
            [
             0.6666666666666666,
             "#ed7953"
            ],
            [
             0.7777777777777778,
             "#fb9f3a"
            ],
            [
             0.8888888888888888,
             "#fdca26"
            ],
            [
             1,
             "#f0f921"
            ]
           ]
          },
          "colorway": [
           "#636efa",
           "#EF553B",
           "#00cc96",
           "#ab63fa",
           "#FFA15A",
           "#19d3f3",
           "#FF6692",
           "#B6E880",
           "#FF97FF",
           "#FECB52"
          ],
          "font": {
           "color": "#2a3f5f"
          },
          "geo": {
           "bgcolor": "white",
           "lakecolor": "white",
           "landcolor": "#E5ECF6",
           "showlakes": true,
           "showland": true,
           "subunitcolor": "white"
          },
          "hoverlabel": {
           "align": "left"
          },
          "hovermode": "closest",
          "mapbox": {
           "style": "light"
          },
          "paper_bgcolor": "white",
          "plot_bgcolor": "#E5ECF6",
          "polar": {
           "angularaxis": {
            "gridcolor": "white",
            "linecolor": "white",
            "ticks": ""
           },
           "bgcolor": "#E5ECF6",
           "radialaxis": {
            "gridcolor": "white",
            "linecolor": "white",
            "ticks": ""
           }
          },
          "scene": {
           "xaxis": {
            "backgroundcolor": "#E5ECF6",
            "gridcolor": "white",
            "gridwidth": 2,
            "linecolor": "white",
            "showbackground": true,
            "ticks": "",
            "zerolinecolor": "white"
           },
           "yaxis": {
            "backgroundcolor": "#E5ECF6",
            "gridcolor": "white",
            "gridwidth": 2,
            "linecolor": "white",
            "showbackground": true,
            "ticks": "",
            "zerolinecolor": "white"
           },
           "zaxis": {
            "backgroundcolor": "#E5ECF6",
            "gridcolor": "white",
            "gridwidth": 2,
            "linecolor": "white",
            "showbackground": true,
            "ticks": "",
            "zerolinecolor": "white"
           }
          },
          "shapedefaults": {
           "line": {
            "color": "#2a3f5f"
           }
          },
          "ternary": {
           "aaxis": {
            "gridcolor": "white",
            "linecolor": "white",
            "ticks": ""
           },
           "baxis": {
            "gridcolor": "white",
            "linecolor": "white",
            "ticks": ""
           },
           "bgcolor": "#E5ECF6",
           "caxis": {
            "gridcolor": "white",
            "linecolor": "white",
            "ticks": ""
           }
          },
          "title": {
           "x": 0.05
          },
          "xaxis": {
           "automargin": true,
           "gridcolor": "white",
           "linecolor": "white",
           "ticks": "",
           "title": {
            "standoff": 15
           },
           "zerolinecolor": "white",
           "zerolinewidth": 2
          },
          "yaxis": {
           "automargin": true,
           "gridcolor": "white",
           "linecolor": "white",
           "ticks": "",
           "title": {
            "standoff": 15
           },
           "zerolinecolor": "white",
           "zerolinewidth": 2
          }
         }
        },
        "title": {
         "font": {
          "size": 16
         },
         "text": "Monthly Revenue vs. Yearly Revenue of startups that got offer"
        },
        "xaxis": {
         "autorange": true,
         "linecolor": "black",
         "linewidth": 1,
         "range": [
          -226.21225983531568,
          3726.2122598353158
         ],
         "showline": true,
         "showspikes": false,
         "title": {
          "text": "Monthly Revenue (₹)"
         },
         "type": "linear"
        },
        "yaxis": {
         "autorange": true,
         "linecolor": "black",
         "linewidth": 1,
         "range": [
          -1907.5250836120401,
          20607.52508361204
         ],
         "showline": true,
         "showspikes": false,
         "title": {
          "text": "Yearly Revenue (₹)"
         },
         "type": "linear"
        }
       }
      },
      "image/png": "[encoded data removed]",
      "text/html": [
       "<div>                            <div id=\"a854b481-d557-4fd3-bc7b-5b273f283920\" class=\"plotly-graph-div\" style=\"height:525px; width:100%;\"></div>            <script type=\"text/javascript\">                require([\"plotly\"], function(Plotly) {                    window.PLOTLYENV=window.PLOTLYENV || {};                                    if (document.getElementById(\"a854b481-d557-4fd3-bc7b-5b273f283920\")) {                    Plotly.newPlot(                        \"a854b481-d557-4fd3-bc7b-5b273f283920\",                        [{\"marker\":{\"color\":\"blue\",\"line\":{\"color\":\"black\",\"width\":1},\"size\":10,\"symbol\":\"circle\"},\"mode\":\"markers\",\"name\":\"Monthly Revenue\",\"x\":[8.0,0.4,2.0,0.0,15.0,0.0,20.0,4.0,5.0,15.0,0.01,7.5,0.0,0.0,1.0,0.0,6.0,20.6,0.0,0.0,0.0,25.0,160.0,0.0,2.8,0.0,6.0,0.32,16.0,0.0,4.0,0.0,0.0,0.0,16.0,0.0,0.0,0.0,20.0,10.0,3.0,3.5,0.0,0.0,2.0,0.0,0.0,15.0,40.0,23.0,0.25,1.0,3.0,55.0,0.0,1.0,16.0,200.0,21.0,7.0,0.0,20.0,5.0,0.0,3.5,12.0,0.0,7.5,22.0,0.0,0.0,6.0,0.0,87.0,0.0,0.0,0.0,0.0,0.0,0.66,0.0,0.0,3.0,12.0,2.0,0.0,7.0,0.0,0.0,0.0,0.0,0.0,0.0,0.0,100.0,0.0,65.0,11.0,0.0,25.0,0.0,0.0,0.0,0.0,0.0,0.0,12.0,46.0,0.0,0.0,0.0,0.0,0.0,0.0,0.0,0.0,0.0,0.0,0.0,0.0,0.0,0.0,0.0,0.0,0.0,0.0,100.0,10.0,0.0,32.0,25.0,0.0,63.0,0.0,0.0,165.0,5.0,0.0,0.0,14.0,0.0,57.0,0.0,0.0,0.0,194.0,8.7,6.0,0.0,40.0,0.0,14.0,28.0,0.0,0.0,0.0,0.0,0.0,12.0,0.0,0.0,0.0,25.0,0.0,700.0,20.0,14.0,0.0,0.0,300.0,0.0,0.5,0.0,0.0,0.0,0.0,0.0,11.0,0.0,0.0,0.0,264.0,0.0,3.0,0.0,0.0,0.0,42.0,0.0,24.0,24.0,0.0,0.0,0.0,0.0,0.0,30.0,0.0,50.0,20.0,0.0,0.0,0.0,7.5,0.0,0.0,0.0,145.0,4.2,0.0,0.0,80.0,270.0,0.0,0.0,46.0,21.0,142.0,600.0,0.0,0.0,6.0,36.0,86.0,0.0,0.0,0.0,35.0,50.0,240.0,18.0,93.0,12.0,0.0,0.0,0.0,200.0,9.0,0.0,10.0,11.0,35.0,80.0,0.0,0.0,0.0,0.0,0.0,0.0,0.0,0.0,0.0,0.0,3.0,75.0,800.0,0.0,8.0,0.0,0.0,33.0,50.0,18.0,18.0,2.0,120.0,3500.0,33.0,0.0,65.0,0.0,0.0,0.0,0.0,0.0,210.0,0.0,63.0,100.0,0.0,60.0,0.0,3.4,0.0,9.73,0.0,0.0,5.5,200.0,0.0,3.0,58.0,16.0,100.0,73.0,33.0,0.0,0.0,0.0,0.0,100.0,0.0,0.3,70.0,29.0,0.0,0.0,0.0,0.0,10.0,0.0,0.0,76.0,9.5,0.0,22.0,63.0,0.0,60.0,0.0,120.0],\"y\":[95.0,4.0,0.0,700.0,25.0,100.0,0.0,0.0,0.0,36.0,0.0,0.0,115.0,1300.0,260.0,0.0,0.0,60.0,0.0,0.0,0.0,300.0,0.0,0.0,130.0,120.0,0.0,0.0,250.0,0.0,500.0,0.0,180.0,300.0,0.0,1000.0,0.0,100.0,380.0,0.0,0.0,0.0,150.0,250.0,27.0,0.0,54.0,180.0,0.0,0.0,360.0,0.0,0.0,0.0,372.0,0.0,0.0,2500.0,250.0,0.0,0.0,300.0,120.0,0.0,0.0,0.0,0.0,63.0,104.0,208.0,60.0,72.0,242.0,1020.0,250.0,0.0,100.0,170.0,0.0,0.0,0.0,0.0,0.0,0.0,0.0,108.0,0.0,7200.0,100.0,500.0,0.0,0.0,0.0,0.0,0.0,1200.0,0.0,0.0,150.0,0.0,0.0,0.0,0.0,0.0,0.0,0.0,0.0,0.0,0.0,0.0,0.0,0.0,0.0,0.0,0.0,350.0,0.0,100.0,0.0,0.0,0.0,0.0,0.0,0.0,0.0,0.0,0.0,0.0,0.0,0.0,0.0,0.0,0.0,0.0,120.0,0.0,0.0,0.0,470.0,86.0,0.0,410.0,0.0,0.0,0.0,0.0,33.0,50.0,0.0,0.0,53.0,0.0,120.0,0.0,0.0,0.0,600.0,0.0,100.0,114.0,1600.0,1000.0,0.0,117.0,0.0,115.0,0.0,0.0,0.0,0.0,0.0,21.0,0.0,0.0,0.0,0.0,0.0,0.0,0.0,0.0,180.0,0.0,240.0,0.0,0.0,0.0,0.0,270.0,0.0,0.0,0.0,0.0,0.0,0.0,0.0,0.0,0.0,0.0,720.0,0.0,0.0,13.0,0.0,0.0,0.0,0.0,5100.0,0.0,0.0,0.0,0.0,670.0,0.0,0.0,0.0,1400.0,0.0,1400.0,2070.0,82.0,870.0,0.0,400.0,70.0,900.0,700.0,0.0,143.0,500.0,3000.0,600.0,282.0,150.0,0.0,0.0,0.0,170.0,0.0,0.0,59.0,113.0,400.0,450.0,520.0,90.0,0.0,200.0,1100.0,122.0,1150.0,5700.0,0.0,135.0,0.0,600.0,2050.0,0.0,84.0,5000.0,280.0,230.0,900.0,0.0,50.0,20.0,1030.0,18700.0,440.0,0.0,360.0,0.0,0.0,100.0,750.0,0.0,1400.0,210.0,290.0,400.0,0.0,0.0,225.0,0.0,0.0,120.0,0.0,0.0,16.0,3600.0,720.0,38.0,700.0,160.0,640.0,478.0,0.0,0.0,840.0,0.0,460.0,281.0,60.0,0.0,626.0,0.0,90.0,300.0,128.0,0.0,60.0,180.0,0.0,740.0,250.0,1000.0,150.0,1000.0,398.0,300.0,0.0,320.0],\"type\":\"scatter\"}],                        {\"template\":{\"data\":{\"histogram2dcontour\":[{\"type\":\"histogram2dcontour\",\"colorbar\":{\"outlinewidth\":0,\"ticks\":\"\"},\"colorscale\":[[0.0,\"#0d0887\"],[0.1111111111111111,\"#46039f\"],[0.2222222222222222,\"#7201a8\"],[0.3333333333333333,\"#9c179e\"],[0.4444444444444444,\"#bd3786\"],[0.5555555555555556,\"#d8576b\"],[0.6666666666666666,\"#ed7953\"],[0.7777777777777778,\"#fb9f3a\"],[0.8888888888888888,\"#fdca26\"],[1.0,\"#f0f921\"]]}],\"choropleth\":[{\"type\":\"choropleth\",\"colorbar\":{\"outlinewidth\":0,\"ticks\":\"\"}}],\"histogram2d\":[{\"type\":\"histogram2d\",\"colorbar\":{\"outlinewidth\":0,\"ticks\":\"\"},\"colorscale\":[[0.0,\"#0d0887\"],[0.1111111111111111,\"#46039f\"],[0.2222222222222222,\"#7201a8\"],[0.3333333333333333,\"#9c179e\"],[0.4444444444444444,\"#bd3786\"],[0.5555555555555556,\"#d8576b\"],[0.6666666666666666,\"#ed7953\"],[0.7777777777777778,\"#fb9f3a\"],[0.8888888888888888,\"#fdca26\"],[1.0,\"#f0f921\"]]}],\"heatmap\":[{\"type\":\"heatmap\",\"colorbar\":{\"outlinewidth\":0,\"ticks\":\"\"},\"colorscale\":[[0.0,\"#0d0887\"],[0.1111111111111111,\"#46039f\"],[0.2222222222222222,\"#7201a8\"],[0.3333333333333333,\"#9c179e\"],[0.4444444444444444,\"#bd3786\"],[0.5555555555555556,\"#d8576b\"],[0.6666666666666666,\"#ed7953\"],[0.7777777777777778,\"#fb9f3a\"],[0.8888888888888888,\"#fdca26\"],[1.0,\"#f0f921\"]]}],\"heatmapgl\":[{\"type\":\"heatmapgl\",\"colorbar\":{\"outlinewidth\":0,\"ticks\":\"\"},\"colorscale\":[[0.0,\"#0d0887\"],[0.1111111111111111,\"#46039f\"],[0.2222222222222222,\"#7201a8\"],[0.3333333333333333,\"#9c179e\"],[0.4444444444444444,\"#bd3786\"],[0.5555555555555556,\"#d8576b\"],[0.6666666666666666,\"#ed7953\"],[0.7777777777777778,\"#fb9f3a\"],[0.8888888888888888,\"#fdca26\"],[1.0,\"#f0f921\"]]}],\"contourcarpet\":[{\"type\":\"contourcarpet\",\"colorbar\":{\"outlinewidth\":0,\"ticks\":\"\"}}],\"contour\":[{\"type\":\"contour\",\"colorbar\":{\"outlinewidth\":0,\"ticks\":\"\"},\"colorscale\":[[0.0,\"#0d0887\"],[0.1111111111111111,\"#46039f\"],[0.2222222222222222,\"#7201a8\"],[0.3333333333333333,\"#9c179e\"],[0.4444444444444444,\"#bd3786\"],[0.5555555555555556,\"#d8576b\"],[0.6666666666666666,\"#ed7953\"],[0.7777777777777778,\"#fb9f3a\"],[0.8888888888888888,\"#fdca26\"],[1.0,\"#f0f921\"]]}],\"surface\":[{\"type\":\"surface\",\"colorbar\":{\"outlinewidth\":0,\"ticks\":\"\"},\"colorscale\":[[0.0,\"#0d0887\"],[0.1111111111111111,\"#46039f\"],[0.2222222222222222,\"#7201a8\"],[0.3333333333333333,\"#9c179e\"],[0.4444444444444444,\"#bd3786\"],[0.5555555555555556,\"#d8576b\"],[0.6666666666666666,\"#ed7953\"],[0.7777777777777778,\"#fb9f3a\"],[0.8888888888888888,\"#fdca26\"],[1.0,\"#f0f921\"]]}],\"mesh3d\":[{\"type\":\"mesh3d\",\"colorbar\":{\"outlinewidth\":0,\"ticks\":\"\"}}],\"scatter\":[{\"fillpattern\":{\"fillmode\":\"overlay\",\"size\":10,\"solidity\":0.2},\"type\":\"scatter\"}],\"parcoords\":[{\"type\":\"parcoords\",\"line\":{\"colorbar\":{\"outlinewidth\":0,\"ticks\":\"\"}}}],\"scatterpolargl\":[{\"type\":\"scatterpolargl\",\"marker\":{\"colorbar\":{\"outlinewidth\":0,\"ticks\":\"\"}}}],\"bar\":[{\"error_x\":{\"color\":\"#2a3f5f\"},\"error_y\":{\"color\":\"#2a3f5f\"},\"marker\":{\"line\":{\"color\":\"#E5ECF6\",\"width\":0.5},\"pattern\":{\"fillmode\":\"overlay\",\"size\":10,\"solidity\":0.2}},\"type\":\"bar\"}],\"scattergeo\":[{\"type\":\"scattergeo\",\"marker\":{\"colorbar\":{\"outlinewidth\":0,\"ticks\":\"\"}}}],\"scatterpolar\":[{\"type\":\"scatterpolar\",\"marker\":{\"colorbar\":{\"outlinewidth\":0,\"ticks\":\"\"}}}],\"histogram\":[{\"marker\":{\"pattern\":{\"fillmode\":\"overlay\",\"size\":10,\"solidity\":0.2}},\"type\":\"histogram\"}],\"scattergl\":[{\"type\":\"scattergl\",\"marker\":{\"colorbar\":{\"outlinewidth\":0,\"ticks\":\"\"}}}],\"scatter3d\":[{\"type\":\"scatter3d\",\"line\":{\"colorbar\":{\"outlinewidth\":0,\"ticks\":\"\"}},\"marker\":{\"colorbar\":{\"outlinewidth\":0,\"ticks\":\"\"}}}],\"scattermapbox\":[{\"type\":\"scattermapbox\",\"marker\":{\"colorbar\":{\"outlinewidth\":0,\"ticks\":\"\"}}}],\"scatterternary\":[{\"type\":\"scatterternary\",\"marker\":{\"colorbar\":{\"outlinewidth\":0,\"ticks\":\"\"}}}],\"scattercarpet\":[{\"type\":\"scattercarpet\",\"marker\":{\"colorbar\":{\"outlinewidth\":0,\"ticks\":\"\"}}}],\"carpet\":[{\"aaxis\":{\"endlinecolor\":\"#2a3f5f\",\"gridcolor\":\"white\",\"linecolor\":\"white\",\"minorgridcolor\":\"white\",\"startlinecolor\":\"#2a3f5f\"},\"baxis\":{\"endlinecolor\":\"#2a3f5f\",\"gridcolor\":\"white\",\"linecolor\":\"white\",\"minorgridcolor\":\"white\",\"startlinecolor\":\"#2a3f5f\"},\"type\":\"carpet\"}],\"table\":[{\"cells\":{\"fill\":{\"color\":\"#EBF0F8\"},\"line\":{\"color\":\"white\"}},\"header\":{\"fill\":{\"color\":\"#C8D4E3\"},\"line\":{\"color\":\"white\"}},\"type\":\"table\"}],\"barpolar\":[{\"marker\":{\"line\":{\"color\":\"#E5ECF6\",\"width\":0.5},\"pattern\":{\"fillmode\":\"overlay\",\"size\":10,\"solidity\":0.2}},\"type\":\"barpolar\"}],\"pie\":[{\"automargin\":true,\"type\":\"pie\"}]},\"layout\":{\"autotypenumbers\":\"strict\",\"colorway\":[\"#636efa\",\"#EF553B\",\"#00cc96\",\"#ab63fa\",\"#FFA15A\",\"#19d3f3\",\"#FF6692\",\"#B6E880\",\"#FF97FF\",\"#FECB52\"],\"font\":{\"color\":\"#2a3f5f\"},\"hovermode\":\"closest\",\"hoverlabel\":{\"align\":\"left\"},\"paper_bgcolor\":\"white\",\"plot_bgcolor\":\"#E5ECF6\",\"polar\":{\"bgcolor\":\"#E5ECF6\",\"angularaxis\":{\"gridcolor\":\"white\",\"linecolor\":\"white\",\"ticks\":\"\"},\"radialaxis\":{\"gridcolor\":\"white\",\"linecolor\":\"white\",\"ticks\":\"\"}},\"ternary\":{\"bgcolor\":\"#E5ECF6\",\"aaxis\":{\"gridcolor\":\"white\",\"linecolor\":\"white\",\"ticks\":\"\"},\"baxis\":{\"gridcolor\":\"white\",\"linecolor\":\"white\",\"ticks\":\"\"},\"caxis\":{\"gridcolor\":\"white\",\"linecolor\":\"white\",\"ticks\":\"\"}},\"coloraxis\":{\"colorbar\":{\"outlinewidth\":0,\"ticks\":\"\"}},\"colorscale\":{\"sequential\":[[0.0,\"#0d0887\"],[0.1111111111111111,\"#46039f\"],[0.2222222222222222,\"#7201a8\"],[0.3333333333333333,\"#9c179e\"],[0.4444444444444444,\"#bd3786\"],[0.5555555555555556,\"#d8576b\"],[0.6666666666666666,\"#ed7953\"],[0.7777777777777778,\"#fb9f3a\"],[0.8888888888888888,\"#fdca26\"],[1.0,\"#f0f921\"]],\"sequentialminus\":[[0.0,\"#0d0887\"],[0.1111111111111111,\"#46039f\"],[0.2222222222222222,\"#7201a8\"],[0.3333333333333333,\"#9c179e\"],[0.4444444444444444,\"#bd3786\"],[0.5555555555555556,\"#d8576b\"],[0.6666666666666666,\"#ed7953\"],[0.7777777777777778,\"#fb9f3a\"],[0.8888888888888888,\"#fdca26\"],[1.0,\"#f0f921\"]],\"diverging\":[[0,\"#8e0152\"],[0.1,\"#c51b7d\"],[0.2,\"#de77ae\"],[0.3,\"#f1b6da\"],[0.4,\"#fde0ef\"],[0.5,\"#f7f7f7\"],[0.6,\"#e6f5d0\"],[0.7,\"#b8e186\"],[0.8,\"#7fbc41\"],[0.9,\"#4d9221\"],[1,\"#276419\"]]},\"xaxis\":{\"gridcolor\":\"white\",\"linecolor\":\"white\",\"ticks\":\"\",\"title\":{\"standoff\":15},\"zerolinecolor\":\"white\",\"automargin\":true,\"zerolinewidth\":2},\"yaxis\":{\"gridcolor\":\"white\",\"linecolor\":\"white\",\"ticks\":\"\",\"title\":{\"standoff\":15},\"zerolinecolor\":\"white\",\"automargin\":true,\"zerolinewidth\":2},\"scene\":{\"xaxis\":{\"backgroundcolor\":\"#E5ECF6\",\"gridcolor\":\"white\",\"linecolor\":\"white\",\"showbackground\":true,\"ticks\":\"\",\"zerolinecolor\":\"white\",\"gridwidth\":2},\"yaxis\":{\"backgroundcolor\":\"#E5ECF6\",\"gridcolor\":\"white\",\"linecolor\":\"white\",\"showbackground\":true,\"ticks\":\"\",\"zerolinecolor\":\"white\",\"gridwidth\":2},\"zaxis\":{\"backgroundcolor\":\"#E5ECF6\",\"gridcolor\":\"white\",\"linecolor\":\"white\",\"showbackground\":true,\"ticks\":\"\",\"zerolinecolor\":\"white\",\"gridwidth\":2}},\"shapedefaults\":{\"line\":{\"color\":\"#2a3f5f\"}},\"annotationdefaults\":{\"arrowcolor\":\"#2a3f5f\",\"arrowhead\":0,\"arrowwidth\":1},\"geo\":{\"bgcolor\":\"white\",\"landcolor\":\"#E5ECF6\",\"subunitcolor\":\"white\",\"showland\":true,\"showlakes\":true,\"lakecolor\":\"white\"},\"title\":{\"x\":0.05},\"mapbox\":{\"style\":\"light\"}}},\"xaxis\":{\"title\":{\"text\":\"Monthly Revenue (\\u20b9)\"},\"showline\":true,\"linewidth\":1,\"linecolor\":\"black\"},\"yaxis\":{\"title\":{\"text\":\"Yearly Revenue (\\u20b9)\"},\"showline\":true,\"linewidth\":1,\"linecolor\":\"black\"},\"legend\":{\"x\":0.1,\"y\":1.1,\"orientation\":\"h\"},\"title\":{\"text\":\"Monthly Revenue vs. Yearly Revenue of startups that got offer\",\"font\":{\"size\":16}},\"plot_bgcolor\":\"white\",\"paper_bgcolor\":\"white\"},                        {\"responsive\": true}                    ).then(function(){\n",
       "                            \n",
       "var gd = document.getElementById('a854b481-d557-4fd3-bc7b-5b273f283920');\n",
       "var x = new MutationObserver(function (mutations, observer) {{\n",
       "        var display = window.getComputedStyle(gd).display;\n",
       "        if (!display || display === 'none') {{\n",
       "            console.log([gd, 'removed!']);\n",
       "            Plotly.purge(gd);\n",
       "            observer.disconnect();\n",
       "        }}\n",
       "}});\n",
       "\n",
       "// Listen for the removal of the full notebook cells\n",
       "var notebookContainer = gd.closest('#notebook-container');\n",
       "if (notebookContainer) {{\n",
       "    x.observe(notebookContainer, {childList: true});\n",
       "}}\n",
       "\n",
       "// Listen for the clearing of the current output cell\n",
       "var outputEl = gd.closest('.output');\n",
       "if (outputEl) {{\n",
       "    x.observe(outputEl, {childList: true});\n",
       "}}\n",
       "\n",
       "                        })                };                });            </script>        </div>"
      ]
     },
     "metadata": {},
     "output_type": "display_data"
    }
   ],
   "source": [
    "# Plot monthly vs yearly revenue\n",
    "\n",
    "data = {\n",
    "    'yearly_revenue': yearly_revenue,\n",
    "    'monthly_sales': monthly_revenue\n",
    "}\n",
    "plot_df = pd.DataFrame(data)\n",
    "\n",
    "# Prepare data for plotting\n",
    "yearly_revenue = plot_df['yearly_revenue'].round(2)\n",
    "monthly_revenue = plot_df['monthly_sales'].round(2)\n",
    "\n",
    "fig = go.Figure()\n",
    "\n",
    "# Add trace for monthly revenue\n",
    "fig.add_trace(go.Scatter(\n",
    "    x=plot_df['monthly_sales'],\n",
    "    y=plot_df['yearly_revenue'],\n",
    "    mode='markers',\n",
    "    marker=dict(\n",
    "        color='blue',\n",
    "        size=10,\n",
    "        symbol='circle',\n",
    "        line=dict(width=1, color='black')\n",
    "    ),\n",
    "    name='Monthly Revenue'\n",
    "))\n",
    "\n",
    "# Update layout for better readability\n",
    "fig.update_layout(\n",
    "    title='Monthly Revenue vs. Yearly Revenue of startups that got offer',\n",
    "    xaxis_title='Monthly Revenue (₹)',\n",
    "    yaxis_title='Yearly Revenue (₹)',\n",
    "    plot_bgcolor='white',\n",
    "    paper_bgcolor='white',\n",
    "    xaxis=dict(\n",
    "        showline=True,\n",
    "        linewidth=1,\n",
    "        linecolor='black'\n",
    "    ),\n",
    "    yaxis=dict(\n",
    "        showline=True,\n",
    "        linewidth=1,\n",
    "        linecolor='black'\n",
    "    ),\n",
    "    legend=dict(\n",
    "        x=0.1,\n",
    "        y=1.1,\n",
    "        orientation='h'\n",
    "    ),\n",
    "    title_font_size=16\n",
    ")\n",
    "\n",
    "fig.show()"
   ]
  },
  {
   "cell_type": "markdown",
   "id": "dc55cd67-2e26-480d-9064-5a1999e6b3ad",
   "metadata": {},
   "source": [
    "#### What is the average yearly revenue and monthly sales for startups in different industries?"
   ]
  },
  {
   "cell_type": "code",
   "execution_count": null,
   "id": "db800f53-4600-4269-99f8-78536cb030b7",
   "metadata": {
    "jupyter": {
     "source_hidden": true
    }
   },
   "outputs": [],
   "source": [
    "monthly_yearly_result = tank_df[[\n",
    "    'industry', 'yearly_revenue', 'monthly_sales'\n",
    "]].groupby('industry').mean().round(2).rename(\n",
    "    columns = {\n",
    "        \"yearly_revenue\": \"Yearly Revenue\",\n",
    "        \"monthly_sales\": \"Monthly Sales\"\n",
    "    }\n",
    ")"
   ]
  },
  {
   "cell_type": "code",
   "execution_count": null,
   "id": "54e096a3-0d1b-4519-ba1a-af68281b44da",
   "metadata": {
    "jupyter": {
     "source_hidden": true
    }
   },
   "outputs": [],
   "source": [
    "# Plot for monthly and yearly revenue per industry \n",
    "\n",
    "data = {\n",
    "    'Industry': monthly_yearly_result.index.tolist(),\n",
    "    'yearly_revenue': monthly_yearly_result['Yearly Revenue'].tolist(),\n",
    "    'monthly_revenue': monthly_yearly_result['Monthly Sales'].tolist()\n",
    "}\n",
    "df = pd.DataFrame(data)\n",
    "\n",
    "fig = go.Figure()\n",
    "\n",
    "fig.add_trace(go.Scatter(\n",
    "    x=df['yearly_revenue'],\n",
    "    y=df['Industry'],\n",
    "    mode='markers',\n",
    "    marker=dict(\n",
    "        color='#06d6a0',\n",
    "        size=10,\n",
    "        line=dict(width=1, color='black')\n",
    "    ),\n",
    "    name='Yearly Revenue'\n",
    "))\n",
    "\n",
    "# Add trace for Metric2\n",
    "fig.add_trace(go.Scatter(\n",
    "    x=df['monthly_revenue'],\n",
    "    y=df['Industry'],\n",
    "    mode='markers',\n",
    "    marker=dict(\n",
    "        color='#ef476f',\n",
    "        size=10,\n",
    "        line=dict(width=1, color='black')\n",
    "    ),\n",
    "    name='Monthly Revenue'\n",
    "))\n",
    "\n",
    "fig.update_layout(\n",
    "    title='Comparison of Monthly and Yearly revenue across Industries',\n",
    "    plot_bgcolor='white', \n",
    "    paper_bgcolor='white',\n",
    "    xaxis=dict(\n",
    "        title='Amount in Lakhs',\n",
    "        showline=True,\n",
    "        linewidth=1,\n",
    "        linecolor='black',\n",
    "        tickfont=dict(size=12),\n",
    "        autorange=True\n",
    "    ),\n",
    "    yaxis=dict(\n",
    "        title='Industries',\n",
    "        showline=True,\n",
    "        linewidth=1,\n",
    "        linecolor='black',\n",
    "        autorange=True\n",
    "    ),\n",
    "    legend=dict(\n",
    "        x=0.5,\n",
    "        y=1.1,\n",
    "        orientation='h'\n",
    "    )\n",
    ")\n",
    "\n",
    "fig.show()"
   ]
  },
  {
   "cell_type": "markdown",
   "id": "81805804-bea0-4af9-93eb-21d623ced32b",
   "metadata": {},
   "source": [
    "#### What is the percentage of startups getting offers from different Sharks?"
   ]
  },
  {
   "cell_type": "code",
   "execution_count": 34,
   "id": "53968dbb-9b62-4d1a-b1b4-f844d9173e93",
   "metadata": {},
   "outputs": [],
   "source": [
    "# Computing guest sharks\n",
    "\n",
    "guest_shark_container = []\n",
    "\n",
    "def seperate_guest_values(value):\n",
    "    for guest in value.split(\",\"):\n",
    "        if guest not in guest_shark_container:\n",
    "            guest_shark_container.append(guest)\n",
    "    \n",
    "guest_names = tank_df['all_guest_names'].loc[\n",
    "    (~tank_df['all_guest_names'].isna()) &\n",
    "    (tank_df['all_guest_names'].str.contains(\",\")) |\n",
    "    (tank_df['all_guest_names']),\n",
    "].apply(seperate_guest_values)"
   ]
  },
  {
   "cell_type": "code",
   "execution_count": 35,
   "id": "679e97ae-c499-4b8f-a4fe-a260ce0899e7",
   "metadata": {},
   "outputs": [],
   "source": [
    "guest_labels = []\n",
    "guest_values = []\n",
    "\n",
    "for name in guest_shark_container:\n",
    "    guest_present = tank_df.loc[\n",
    "        (tank_df['guest_present'] > 0) &\n",
    "        (~tank_df['all_guest_names'].isna()) &\n",
    "        (tank_df['all_guest_names'].str.contains(name))\n",
    "    ].shape[0]\n",
    "    \n",
    "    guest_invested = tank_df.loc[\n",
    "        (tank_df['guest_present'] > 0) &\n",
    "        (~tank_df['all_guest_names'].isna()) &\n",
    "        (tank_df['all_guest_names'].str.contains(name)) &\n",
    "        (tank_df['invested_guest_name'].str.contains(name))\n",
    "    ].shape[0]\n",
    "    \n",
    "    guest_percentage = (guest_invested / guest_present) * 100\n",
    "    \n",
    "    guest_values.append(np.round(guest_percentage, decimals=2))\n",
    "    guest_labels.append(name)"
   ]
  },
  {
   "cell_type": "code",
   "execution_count": 36,
   "id": "f0829ed8-4d22-4134-8567-08643ae760c3",
   "metadata": {},
   "outputs": [],
   "source": [
    "# Computing sharks\n",
    "\n",
    "def startup_shark_offer(invertment_amount, shark_present):\n",
    "    return ((tank_df[[invertment_amount]].loc[\n",
    "        tank_df[invertment_amount] > 0\n",
    "    ].count() / tank_df[[invertment_amount]].loc[\n",
    "        tank_df[shark_present] == 1\n",
    "    ].count()) * 100).round(2).values[0]\n",
    "\n",
    "aman_offers = startup_shark_offer('aman_investment_amount', 'aman_present')\n",
    "amit_offers = startup_shark_offer('amit_investment_amount', 'amit_present')\n",
    "peyush_offers = startup_shark_offer('peyush_investment_amount', 'peyush_present')\n",
    "namita_offers = startup_shark_offer('namita_investment_amount', 'namita_present')\n",
    "anupam_offers = startup_shark_offer('anupam_investment_amount', 'anupam_present')\n",
    "ashneer_offers = startup_shark_offer('ashneer_investment_amount', 'ashneer_present')\n",
    "vineeta_offers = startup_shark_offer('vineeta_investment_amount', 'vineeta_present')\n",
    "\n",
    "shark_values = [aman_offers, amit_offers, peyush_offers, namita_offers, anupam_offers, ashneer_offers, vineeta_offers]\n",
    "shark_labels = [\"Aman Gupta\", \"Amit Jain\", \"Peyush Bansal\", \"Namita Thapar\", \"Anupam Mittal\", \"Ashneer Grover\", \"Vineeta Singh\"]"
   ]
  },
  {
   "cell_type": "code",
   "execution_count": 37,
   "id": "8fd8e016-c059-400b-8a8e-9e19f69a4666",
   "metadata": {},
   "outputs": [
    {
     "data": {
      "application/vnd.plotly.v1+json": {
       "config": {
        "plotlyServerURL": "https://plot.ly"
       },
       "data": [
        {
         "marker": {
          "color": [
           "#3ec276",
           "#3ec276",
           "#3ec276",
           "#3ec276",
           "#3ec276",
           "#3ec276",
           "#3ec276",
           "#b1dfc6",
           "#b1dfc6",
           "#b1dfc6",
           "#b1dfc6",
           "#b1dfc6",
           "#b1dfc6",
           "#b1dfc6",
           "#b1dfc6"
          ],
          "line": {
           "color": "black",
           "width": 1
          }
         },
         "opacity": 1,
         "text": [
          "25.71",
          "25.55",
          "28.66",
          "22.88",
          "17.45",
          "21.21",
          "21.38",
          "29.63",
          "40.0",
          "5.56",
          "43.33",
          "21.43",
          "25.0",
          "66.67",
          "66.67"
         ],
         "textposition": "auto",
         "type": "bar",
         "width": 0.5,
         "x": [
          "Aman Gupta",
          "Amit Jain",
          "Peyush Bansal",
          "Namita Thapar",
          "Anupam Mittal",
          "Ashneer Grover",
          "Vineeta Singh",
          "Ghazal Alagh",
          "Vikas D Nahar",
          "Deepinder Goyal",
          "Ritesh Aggarwal",
          "Azhar Iqubal",
          "Radhika Gupta",
          "Ronnie Screwvala",
          "Varun Dua"
         ],
         "y": [
          25.71,
          25.55,
          28.66,
          22.88,
          17.45,
          21.21,
          21.38,
          29.63,
          40,
          5.56,
          43.33,
          21.43,
          25,
          66.67,
          66.67
         ]
        }
       ],
       "layout": {
        "height": 500,
        "paper_bgcolor": "white",
        "plot_bgcolor": "white",
        "template": {
         "data": {
          "bar": [
           {
            "error_x": {
             "color": "#2a3f5f"
            },
            "error_y": {
             "color": "#2a3f5f"
            },
            "marker": {
             "line": {
              "color": "#E5ECF6",
              "width": 0.5
             },
             "pattern": {
              "fillmode": "overlay",
              "size": 10,
              "solidity": 0.2
             }
            },
            "type": "bar"
           }
          ],
          "barpolar": [
           {
            "marker": {
             "line": {
              "color": "#E5ECF6",
              "width": 0.5
             },
             "pattern": {
              "fillmode": "overlay",
              "size": 10,
              "solidity": 0.2
             }
            },
            "type": "barpolar"
           }
          ],
          "carpet": [
           {
            "aaxis": {
             "endlinecolor": "#2a3f5f",
             "gridcolor": "white",
             "linecolor": "white",
             "minorgridcolor": "white",
             "startlinecolor": "#2a3f5f"
            },
            "baxis": {
             "endlinecolor": "#2a3f5f",
             "gridcolor": "white",
             "linecolor": "white",
             "minorgridcolor": "white",
             "startlinecolor": "#2a3f5f"
            },
            "type": "carpet"
           }
          ],
          "choropleth": [
           {
            "colorbar": {
             "outlinewidth": 0,
             "ticks": ""
            },
            "type": "choropleth"
           }
          ],
          "contour": [
           {
            "colorbar": {
             "outlinewidth": 0,
             "ticks": ""
            },
            "colorscale": [
             [
              0,
              "#0d0887"
             ],
             [
              0.1111111111111111,
              "#46039f"
             ],
             [
              0.2222222222222222,
              "#7201a8"
             ],
             [
              0.3333333333333333,
              "#9c179e"
             ],
             [
              0.4444444444444444,
              "#bd3786"
             ],
             [
              0.5555555555555556,
              "#d8576b"
             ],
             [
              0.6666666666666666,
              "#ed7953"
             ],
             [
              0.7777777777777778,
              "#fb9f3a"
             ],
             [
              0.8888888888888888,
              "#fdca26"
             ],
             [
              1,
              "#f0f921"
             ]
            ],
            "type": "contour"
           }
          ],
          "contourcarpet": [
           {
            "colorbar": {
             "outlinewidth": 0,
             "ticks": ""
            },
            "type": "contourcarpet"
           }
          ],
          "heatmap": [
           {
            "colorbar": {
             "outlinewidth": 0,
             "ticks": ""
            },
            "colorscale": [
             [
              0,
              "#0d0887"
             ],
             [
              0.1111111111111111,
              "#46039f"
             ],
             [
              0.2222222222222222,
              "#7201a8"
             ],
             [
              0.3333333333333333,
              "#9c179e"
             ],
             [
              0.4444444444444444,
              "#bd3786"
             ],
             [
              0.5555555555555556,
              "#d8576b"
             ],
             [
              0.6666666666666666,
              "#ed7953"
             ],
             [
              0.7777777777777778,
              "#fb9f3a"
             ],
             [
              0.8888888888888888,
              "#fdca26"
             ],
             [
              1,
              "#f0f921"
             ]
            ],
            "type": "heatmap"
           }
          ],
          "heatmapgl": [
           {
            "colorbar": {
             "outlinewidth": 0,
             "ticks": ""
            },
            "colorscale": [
             [
              0,
              "#0d0887"
             ],
             [
              0.1111111111111111,
              "#46039f"
             ],
             [
              0.2222222222222222,
              "#7201a8"
             ],
             [
              0.3333333333333333,
              "#9c179e"
             ],
             [
              0.4444444444444444,
              "#bd3786"
             ],
             [
              0.5555555555555556,
              "#d8576b"
             ],
             [
              0.6666666666666666,
              "#ed7953"
             ],
             [
              0.7777777777777778,
              "#fb9f3a"
             ],
             [
              0.8888888888888888,
              "#fdca26"
             ],
             [
              1,
              "#f0f921"
             ]
            ],
            "type": "heatmapgl"
           }
          ],
          "histogram": [
           {
            "marker": {
             "pattern": {
              "fillmode": "overlay",
              "size": 10,
              "solidity": 0.2
             }
            },
            "type": "histogram"
           }
          ],
          "histogram2d": [
           {
            "colorbar": {
             "outlinewidth": 0,
             "ticks": ""
            },
            "colorscale": [
             [
              0,
              "#0d0887"
             ],
             [
              0.1111111111111111,
              "#46039f"
             ],
             [
              0.2222222222222222,
              "#7201a8"
             ],
             [
              0.3333333333333333,
              "#9c179e"
             ],
             [
              0.4444444444444444,
              "#bd3786"
             ],
             [
              0.5555555555555556,
              "#d8576b"
             ],
             [
              0.6666666666666666,
              "#ed7953"
             ],
             [
              0.7777777777777778,
              "#fb9f3a"
             ],
             [
              0.8888888888888888,
              "#fdca26"
             ],
             [
              1,
              "#f0f921"
             ]
            ],
            "type": "histogram2d"
           }
          ],
          "histogram2dcontour": [
           {
            "colorbar": {
             "outlinewidth": 0,
             "ticks": ""
            },
            "colorscale": [
             [
              0,
              "#0d0887"
             ],
             [
              0.1111111111111111,
              "#46039f"
             ],
             [
              0.2222222222222222,
              "#7201a8"
             ],
             [
              0.3333333333333333,
              "#9c179e"
             ],
             [
              0.4444444444444444,
              "#bd3786"
             ],
             [
              0.5555555555555556,
              "#d8576b"
             ],
             [
              0.6666666666666666,
              "#ed7953"
             ],
             [
              0.7777777777777778,
              "#fb9f3a"
             ],
             [
              0.8888888888888888,
              "#fdca26"
             ],
             [
              1,
              "#f0f921"
             ]
            ],
            "type": "histogram2dcontour"
           }
          ],
          "mesh3d": [
           {
            "colorbar": {
             "outlinewidth": 0,
             "ticks": ""
            },
            "type": "mesh3d"
           }
          ],
          "parcoords": [
           {
            "line": {
             "colorbar": {
              "outlinewidth": 0,
              "ticks": ""
             }
            },
            "type": "parcoords"
           }
          ],
          "pie": [
           {
            "automargin": true,
            "type": "pie"
           }
          ],
          "scatter": [
           {
            "fillpattern": {
             "fillmode": "overlay",
             "size": 10,
             "solidity": 0.2
            },
            "type": "scatter"
           }
          ],
          "scatter3d": [
           {
            "line": {
             "colorbar": {
              "outlinewidth": 0,
              "ticks": ""
             }
            },
            "marker": {
             "colorbar": {
              "outlinewidth": 0,
              "ticks": ""
             }
            },
            "type": "scatter3d"
           }
          ],
          "scattercarpet": [
           {
            "marker": {
             "colorbar": {
              "outlinewidth": 0,
              "ticks": ""
             }
            },
            "type": "scattercarpet"
           }
          ],
          "scattergeo": [
           {
            "marker": {
             "colorbar": {
              "outlinewidth": 0,
              "ticks": ""
             }
            },
            "type": "scattergeo"
           }
          ],
          "scattergl": [
           {
            "marker": {
             "colorbar": {
              "outlinewidth": 0,
              "ticks": ""
             }
            },
            "type": "scattergl"
           }
          ],
          "scattermapbox": [
           {
            "marker": {
             "colorbar": {
              "outlinewidth": 0,
              "ticks": ""
             }
            },
            "type": "scattermapbox"
           }
          ],
          "scatterpolar": [
           {
            "marker": {
             "colorbar": {
              "outlinewidth": 0,
              "ticks": ""
             }
            },
            "type": "scatterpolar"
           }
          ],
          "scatterpolargl": [
           {
            "marker": {
             "colorbar": {
              "outlinewidth": 0,
              "ticks": ""
             }
            },
            "type": "scatterpolargl"
           }
          ],
          "scatterternary": [
           {
            "marker": {
             "colorbar": {
              "outlinewidth": 0,
              "ticks": ""
             }
            },
            "type": "scatterternary"
           }
          ],
          "surface": [
           {
            "colorbar": {
             "outlinewidth": 0,
             "ticks": ""
            },
            "colorscale": [
             [
              0,
              "#0d0887"
             ],
             [
              0.1111111111111111,
              "#46039f"
             ],
             [
              0.2222222222222222,
              "#7201a8"
             ],
             [
              0.3333333333333333,
              "#9c179e"
             ],
             [
              0.4444444444444444,
              "#bd3786"
             ],
             [
              0.5555555555555556,
              "#d8576b"
             ],
             [
              0.6666666666666666,
              "#ed7953"
             ],
             [
              0.7777777777777778,
              "#fb9f3a"
             ],
             [
              0.8888888888888888,
              "#fdca26"
             ],
             [
              1,
              "#f0f921"
             ]
            ],
            "type": "surface"
           }
          ],
          "table": [
           {
            "cells": {
             "fill": {
              "color": "#EBF0F8"
             },
             "line": {
              "color": "white"
             }
            },
            "header": {
             "fill": {
              "color": "#C8D4E3"
             },
             "line": {
              "color": "white"
             }
            },
            "type": "table"
           }
          ]
         },
         "layout": {
          "annotationdefaults": {
           "arrowcolor": "#2a3f5f",
           "arrowhead": 0,
           "arrowwidth": 1
          },
          "autotypenumbers": "strict",
          "coloraxis": {
           "colorbar": {
            "outlinewidth": 0,
            "ticks": ""
           }
          },
          "colorscale": {
           "diverging": [
            [
             0,
             "#8e0152"
            ],
            [
             0.1,
             "#c51b7d"
            ],
            [
             0.2,
             "#de77ae"
            ],
            [
             0.3,
             "#f1b6da"
            ],
            [
             0.4,
             "#fde0ef"
            ],
            [
             0.5,
             "#f7f7f7"
            ],
            [
             0.6,
             "#e6f5d0"
            ],
            [
             0.7,
             "#b8e186"
            ],
            [
             0.8,
             "#7fbc41"
            ],
            [
             0.9,
             "#4d9221"
            ],
            [
             1,
             "#276419"
            ]
           ],
           "sequential": [
            [
             0,
             "#0d0887"
            ],
            [
             0.1111111111111111,
             "#46039f"
            ],
            [
             0.2222222222222222,
             "#7201a8"
            ],
            [
             0.3333333333333333,
             "#9c179e"
            ],
            [
             0.4444444444444444,
             "#bd3786"
            ],
            [
             0.5555555555555556,
             "#d8576b"
            ],
            [
             0.6666666666666666,
             "#ed7953"
            ],
            [
             0.7777777777777778,
             "#fb9f3a"
            ],
            [
             0.8888888888888888,
             "#fdca26"
            ],
            [
             1,
             "#f0f921"
            ]
           ],
           "sequentialminus": [
            [
             0,
             "#0d0887"
            ],
            [
             0.1111111111111111,
             "#46039f"
            ],
            [
             0.2222222222222222,
             "#7201a8"
            ],
            [
             0.3333333333333333,
             "#9c179e"
            ],
            [
             0.4444444444444444,
             "#bd3786"
            ],
            [
             0.5555555555555556,
             "#d8576b"
            ],
            [
             0.6666666666666666,
             "#ed7953"
            ],
            [
             0.7777777777777778,
             "#fb9f3a"
            ],
            [
             0.8888888888888888,
             "#fdca26"
            ],
            [
             1,
             "#f0f921"
            ]
           ]
          },
          "colorway": [
           "#636efa",
           "#EF553B",
           "#00cc96",
           "#ab63fa",
           "#FFA15A",
           "#19d3f3",
           "#FF6692",
           "#B6E880",
           "#FF97FF",
           "#FECB52"
          ],
          "font": {
           "color": "#2a3f5f"
          },
          "geo": {
           "bgcolor": "white",
           "lakecolor": "white",
           "landcolor": "#E5ECF6",
           "showlakes": true,
           "showland": true,
           "subunitcolor": "white"
          },
          "hoverlabel": {
           "align": "left"
          },
          "hovermode": "closest",
          "mapbox": {
           "style": "light"
          },
          "paper_bgcolor": "white",
          "plot_bgcolor": "#E5ECF6",
          "polar": {
           "angularaxis": {
            "gridcolor": "white",
            "linecolor": "white",
            "ticks": ""
           },
           "bgcolor": "#E5ECF6",
           "radialaxis": {
            "gridcolor": "white",
            "linecolor": "white",
            "ticks": ""
           }
          },
          "scene": {
           "xaxis": {
            "backgroundcolor": "#E5ECF6",
            "gridcolor": "white",
            "gridwidth": 2,
            "linecolor": "white",
            "showbackground": true,
            "ticks": "",
            "zerolinecolor": "white"
           },
           "yaxis": {
            "backgroundcolor": "#E5ECF6",
            "gridcolor": "white",
            "gridwidth": 2,
            "linecolor": "white",
            "showbackground": true,
            "ticks": "",
            "zerolinecolor": "white"
           },
           "zaxis": {
            "backgroundcolor": "#E5ECF6",
            "gridcolor": "white",
            "gridwidth": 2,
            "linecolor": "white",
            "showbackground": true,
            "ticks": "",
            "zerolinecolor": "white"
           }
          },
          "shapedefaults": {
           "line": {
            "color": "#2a3f5f"
           }
          },
          "ternary": {
           "aaxis": {
            "gridcolor": "white",
            "linecolor": "white",
            "ticks": ""
           },
           "baxis": {
            "gridcolor": "white",
            "linecolor": "white",
            "ticks": ""
           },
           "bgcolor": "#E5ECF6",
           "caxis": {
            "gridcolor": "white",
            "linecolor": "white",
            "ticks": ""
           }
          },
          "title": {
           "x": 0.05
          },
          "xaxis": {
           "automargin": true,
           "gridcolor": "white",
           "linecolor": "white",
           "ticks": "",
           "title": {
            "standoff": 15
           },
           "zerolinecolor": "white",
           "zerolinewidth": 2
          },
          "yaxis": {
           "automargin": true,
           "gridcolor": "white",
           "linecolor": "white",
           "ticks": "",
           "title": {
            "standoff": 15
           },
           "zerolinecolor": "white",
           "zerolinewidth": 2
          }
         }
        },
        "title": {
         "text": "Percentage of Pitches each Shark Made an Offer",
         "x": 0.5,
         "xanchor": "center",
         "y": 0.9,
         "yanchor": "top"
        },
        "width": 1000,
        "xaxis": {
         "autorange": true,
         "linecolor": "black",
         "linewidth": 1.25,
         "range": [
          -0.5,
          14.5
         ],
         "showline": true,
         "tickangle": -45,
         "tickfont": {
          "size": 12
         },
         "title": {
          "text": "Sharks"
         },
         "type": "category"
        },
        "yaxis": {
         "autorange": true,
         "linecolor": "black",
         "linewidth": 1.25,
         "range": [
          0,
          70.17894736842105
         ],
         "showline": true,
         "title": {
          "text": "Number of offers (%)"
         },
         "type": "linear"
        }
       }
      },
      "image/png": "[encoded data removed]",
      "text/html": [
       "<div>                            <div id=\"f554ae23-f857-4877-942d-a04a9c0c983c\" class=\"plotly-graph-div\" style=\"height:500px; width:1000px;\"></div>            <script type=\"text/javascript\">                require([\"plotly\"], function(Plotly) {                    window.PLOTLYENV=window.PLOTLYENV || {};                                    if (document.getElementById(\"f554ae23-f857-4877-942d-a04a9c0c983c\")) {                    Plotly.newPlot(                        \"f554ae23-f857-4877-942d-a04a9c0c983c\",                        [{\"marker\":{\"color\":[\"#3ec276\",\"#3ec276\",\"#3ec276\",\"#3ec276\",\"#3ec276\",\"#3ec276\",\"#3ec276\",\"#b1dfc6\",\"#b1dfc6\",\"#b1dfc6\",\"#b1dfc6\",\"#b1dfc6\",\"#b1dfc6\",\"#b1dfc6\",\"#b1dfc6\"],\"line\":{\"color\":\"black\",\"width\":1}},\"opacity\":1,\"text\":[\"25.71\",\"25.55\",\"28.66\",\"22.88\",\"17.45\",\"21.21\",\"21.38\",\"29.63\",\"40.0\",\"5.56\",\"43.33\",\"21.43\",\"25.0\",\"66.67\",\"66.67\"],\"textposition\":\"auto\",\"width\":0.5,\"x\":[\"Aman Gupta\",\"Amit Jain\",\"Peyush Bansal\",\"Namita Thapar\",\"Anupam Mittal\",\"Ashneer Grover\",\"Vineeta Singh\",\"Ghazal Alagh\",\"Vikas D Nahar\",\"Deepinder Goyal\",\"Ritesh Aggarwal\",\"Azhar Iqubal\",\"Radhika Gupta\",\"Ronnie Screwvala\",\"Varun Dua\"],\"y\":[25.71,25.55,28.66,22.88,17.45,21.21,21.38,29.63,40.0,5.56,43.33,21.43,25.0,66.67,66.67],\"type\":\"bar\"}],                        {\"template\":{\"data\":{\"histogram2dcontour\":[{\"type\":\"histogram2dcontour\",\"colorbar\":{\"outlinewidth\":0,\"ticks\":\"\"},\"colorscale\":[[0.0,\"#0d0887\"],[0.1111111111111111,\"#46039f\"],[0.2222222222222222,\"#7201a8\"],[0.3333333333333333,\"#9c179e\"],[0.4444444444444444,\"#bd3786\"],[0.5555555555555556,\"#d8576b\"],[0.6666666666666666,\"#ed7953\"],[0.7777777777777778,\"#fb9f3a\"],[0.8888888888888888,\"#fdca26\"],[1.0,\"#f0f921\"]]}],\"choropleth\":[{\"type\":\"choropleth\",\"colorbar\":{\"outlinewidth\":0,\"ticks\":\"\"}}],\"histogram2d\":[{\"type\":\"histogram2d\",\"colorbar\":{\"outlinewidth\":0,\"ticks\":\"\"},\"colorscale\":[[0.0,\"#0d0887\"],[0.1111111111111111,\"#46039f\"],[0.2222222222222222,\"#7201a8\"],[0.3333333333333333,\"#9c179e\"],[0.4444444444444444,\"#bd3786\"],[0.5555555555555556,\"#d8576b\"],[0.6666666666666666,\"#ed7953\"],[0.7777777777777778,\"#fb9f3a\"],[0.8888888888888888,\"#fdca26\"],[1.0,\"#f0f921\"]]}],\"heatmap\":[{\"type\":\"heatmap\",\"colorbar\":{\"outlinewidth\":0,\"ticks\":\"\"},\"colorscale\":[[0.0,\"#0d0887\"],[0.1111111111111111,\"#46039f\"],[0.2222222222222222,\"#7201a8\"],[0.3333333333333333,\"#9c179e\"],[0.4444444444444444,\"#bd3786\"],[0.5555555555555556,\"#d8576b\"],[0.6666666666666666,\"#ed7953\"],[0.7777777777777778,\"#fb9f3a\"],[0.8888888888888888,\"#fdca26\"],[1.0,\"#f0f921\"]]}],\"heatmapgl\":[{\"type\":\"heatmapgl\",\"colorbar\":{\"outlinewidth\":0,\"ticks\":\"\"},\"colorscale\":[[0.0,\"#0d0887\"],[0.1111111111111111,\"#46039f\"],[0.2222222222222222,\"#7201a8\"],[0.3333333333333333,\"#9c179e\"],[0.4444444444444444,\"#bd3786\"],[0.5555555555555556,\"#d8576b\"],[0.6666666666666666,\"#ed7953\"],[0.7777777777777778,\"#fb9f3a\"],[0.8888888888888888,\"#fdca26\"],[1.0,\"#f0f921\"]]}],\"contourcarpet\":[{\"type\":\"contourcarpet\",\"colorbar\":{\"outlinewidth\":0,\"ticks\":\"\"}}],\"contour\":[{\"type\":\"contour\",\"colorbar\":{\"outlinewidth\":0,\"ticks\":\"\"},\"colorscale\":[[0.0,\"#0d0887\"],[0.1111111111111111,\"#46039f\"],[0.2222222222222222,\"#7201a8\"],[0.3333333333333333,\"#9c179e\"],[0.4444444444444444,\"#bd3786\"],[0.5555555555555556,\"#d8576b\"],[0.6666666666666666,\"#ed7953\"],[0.7777777777777778,\"#fb9f3a\"],[0.8888888888888888,\"#fdca26\"],[1.0,\"#f0f921\"]]}],\"surface\":[{\"type\":\"surface\",\"colorbar\":{\"outlinewidth\":0,\"ticks\":\"\"},\"colorscale\":[[0.0,\"#0d0887\"],[0.1111111111111111,\"#46039f\"],[0.2222222222222222,\"#7201a8\"],[0.3333333333333333,\"#9c179e\"],[0.4444444444444444,\"#bd3786\"],[0.5555555555555556,\"#d8576b\"],[0.6666666666666666,\"#ed7953\"],[0.7777777777777778,\"#fb9f3a\"],[0.8888888888888888,\"#fdca26\"],[1.0,\"#f0f921\"]]}],\"mesh3d\":[{\"type\":\"mesh3d\",\"colorbar\":{\"outlinewidth\":0,\"ticks\":\"\"}}],\"scatter\":[{\"fillpattern\":{\"fillmode\":\"overlay\",\"size\":10,\"solidity\":0.2},\"type\":\"scatter\"}],\"parcoords\":[{\"type\":\"parcoords\",\"line\":{\"colorbar\":{\"outlinewidth\":0,\"ticks\":\"\"}}}],\"scatterpolargl\":[{\"type\":\"scatterpolargl\",\"marker\":{\"colorbar\":{\"outlinewidth\":0,\"ticks\":\"\"}}}],\"bar\":[{\"error_x\":{\"color\":\"#2a3f5f\"},\"error_y\":{\"color\":\"#2a3f5f\"},\"marker\":{\"line\":{\"color\":\"#E5ECF6\",\"width\":0.5},\"pattern\":{\"fillmode\":\"overlay\",\"size\":10,\"solidity\":0.2}},\"type\":\"bar\"}],\"scattergeo\":[{\"type\":\"scattergeo\",\"marker\":{\"colorbar\":{\"outlinewidth\":0,\"ticks\":\"\"}}}],\"scatterpolar\":[{\"type\":\"scatterpolar\",\"marker\":{\"colorbar\":{\"outlinewidth\":0,\"ticks\":\"\"}}}],\"histogram\":[{\"marker\":{\"pattern\":{\"fillmode\":\"overlay\",\"size\":10,\"solidity\":0.2}},\"type\":\"histogram\"}],\"scattergl\":[{\"type\":\"scattergl\",\"marker\":{\"colorbar\":{\"outlinewidth\":0,\"ticks\":\"\"}}}],\"scatter3d\":[{\"type\":\"scatter3d\",\"line\":{\"colorbar\":{\"outlinewidth\":0,\"ticks\":\"\"}},\"marker\":{\"colorbar\":{\"outlinewidth\":0,\"ticks\":\"\"}}}],\"scattermapbox\":[{\"type\":\"scattermapbox\",\"marker\":{\"colorbar\":{\"outlinewidth\":0,\"ticks\":\"\"}}}],\"scatterternary\":[{\"type\":\"scatterternary\",\"marker\":{\"colorbar\":{\"outlinewidth\":0,\"ticks\":\"\"}}}],\"scattercarpet\":[{\"type\":\"scattercarpet\",\"marker\":{\"colorbar\":{\"outlinewidth\":0,\"ticks\":\"\"}}}],\"carpet\":[{\"aaxis\":{\"endlinecolor\":\"#2a3f5f\",\"gridcolor\":\"white\",\"linecolor\":\"white\",\"minorgridcolor\":\"white\",\"startlinecolor\":\"#2a3f5f\"},\"baxis\":{\"endlinecolor\":\"#2a3f5f\",\"gridcolor\":\"white\",\"linecolor\":\"white\",\"minorgridcolor\":\"white\",\"startlinecolor\":\"#2a3f5f\"},\"type\":\"carpet\"}],\"table\":[{\"cells\":{\"fill\":{\"color\":\"#EBF0F8\"},\"line\":{\"color\":\"white\"}},\"header\":{\"fill\":{\"color\":\"#C8D4E3\"},\"line\":{\"color\":\"white\"}},\"type\":\"table\"}],\"barpolar\":[{\"marker\":{\"line\":{\"color\":\"#E5ECF6\",\"width\":0.5},\"pattern\":{\"fillmode\":\"overlay\",\"size\":10,\"solidity\":0.2}},\"type\":\"barpolar\"}],\"pie\":[{\"automargin\":true,\"type\":\"pie\"}]},\"layout\":{\"autotypenumbers\":\"strict\",\"colorway\":[\"#636efa\",\"#EF553B\",\"#00cc96\",\"#ab63fa\",\"#FFA15A\",\"#19d3f3\",\"#FF6692\",\"#B6E880\",\"#FF97FF\",\"#FECB52\"],\"font\":{\"color\":\"#2a3f5f\"},\"hovermode\":\"closest\",\"hoverlabel\":{\"align\":\"left\"},\"paper_bgcolor\":\"white\",\"plot_bgcolor\":\"#E5ECF6\",\"polar\":{\"bgcolor\":\"#E5ECF6\",\"angularaxis\":{\"gridcolor\":\"white\",\"linecolor\":\"white\",\"ticks\":\"\"},\"radialaxis\":{\"gridcolor\":\"white\",\"linecolor\":\"white\",\"ticks\":\"\"}},\"ternary\":{\"bgcolor\":\"#E5ECF6\",\"aaxis\":{\"gridcolor\":\"white\",\"linecolor\":\"white\",\"ticks\":\"\"},\"baxis\":{\"gridcolor\":\"white\",\"linecolor\":\"white\",\"ticks\":\"\"},\"caxis\":{\"gridcolor\":\"white\",\"linecolor\":\"white\",\"ticks\":\"\"}},\"coloraxis\":{\"colorbar\":{\"outlinewidth\":0,\"ticks\":\"\"}},\"colorscale\":{\"sequential\":[[0.0,\"#0d0887\"],[0.1111111111111111,\"#46039f\"],[0.2222222222222222,\"#7201a8\"],[0.3333333333333333,\"#9c179e\"],[0.4444444444444444,\"#bd3786\"],[0.5555555555555556,\"#d8576b\"],[0.6666666666666666,\"#ed7953\"],[0.7777777777777778,\"#fb9f3a\"],[0.8888888888888888,\"#fdca26\"],[1.0,\"#f0f921\"]],\"sequentialminus\":[[0.0,\"#0d0887\"],[0.1111111111111111,\"#46039f\"],[0.2222222222222222,\"#7201a8\"],[0.3333333333333333,\"#9c179e\"],[0.4444444444444444,\"#bd3786\"],[0.5555555555555556,\"#d8576b\"],[0.6666666666666666,\"#ed7953\"],[0.7777777777777778,\"#fb9f3a\"],[0.8888888888888888,\"#fdca26\"],[1.0,\"#f0f921\"]],\"diverging\":[[0,\"#8e0152\"],[0.1,\"#c51b7d\"],[0.2,\"#de77ae\"],[0.3,\"#f1b6da\"],[0.4,\"#fde0ef\"],[0.5,\"#f7f7f7\"],[0.6,\"#e6f5d0\"],[0.7,\"#b8e186\"],[0.8,\"#7fbc41\"],[0.9,\"#4d9221\"],[1,\"#276419\"]]},\"xaxis\":{\"gridcolor\":\"white\",\"linecolor\":\"white\",\"ticks\":\"\",\"title\":{\"standoff\":15},\"zerolinecolor\":\"white\",\"automargin\":true,\"zerolinewidth\":2},\"yaxis\":{\"gridcolor\":\"white\",\"linecolor\":\"white\",\"ticks\":\"\",\"title\":{\"standoff\":15},\"zerolinecolor\":\"white\",\"automargin\":true,\"zerolinewidth\":2},\"scene\":{\"xaxis\":{\"backgroundcolor\":\"#E5ECF6\",\"gridcolor\":\"white\",\"linecolor\":\"white\",\"showbackground\":true,\"ticks\":\"\",\"zerolinecolor\":\"white\",\"gridwidth\":2},\"yaxis\":{\"backgroundcolor\":\"#E5ECF6\",\"gridcolor\":\"white\",\"linecolor\":\"white\",\"showbackground\":true,\"ticks\":\"\",\"zerolinecolor\":\"white\",\"gridwidth\":2},\"zaxis\":{\"backgroundcolor\":\"#E5ECF6\",\"gridcolor\":\"white\",\"linecolor\":\"white\",\"showbackground\":true,\"ticks\":\"\",\"zerolinecolor\":\"white\",\"gridwidth\":2}},\"shapedefaults\":{\"line\":{\"color\":\"#2a3f5f\"}},\"annotationdefaults\":{\"arrowcolor\":\"#2a3f5f\",\"arrowhead\":0,\"arrowwidth\":1},\"geo\":{\"bgcolor\":\"white\",\"landcolor\":\"#E5ECF6\",\"subunitcolor\":\"white\",\"showland\":true,\"showlakes\":true,\"lakecolor\":\"white\"},\"title\":{\"x\":0.05},\"mapbox\":{\"style\":\"light\"}}},\"title\":{\"text\":\"Percentage of Pitches each Shark Made an Offer\",\"y\":0.9,\"x\":0.5,\"xanchor\":\"center\",\"yanchor\":\"top\"},\"xaxis\":{\"tickfont\":{\"size\":12},\"tickangle\":-45,\"title\":{\"text\":\"Sharks\"},\"showline\":true,\"linewidth\":1.25,\"linecolor\":\"black\"},\"yaxis\":{\"title\":{\"text\":\"Number of offers (%)\"},\"showline\":true,\"linewidth\":1.25,\"linecolor\":\"black\"},\"width\":1000,\"height\":500,\"plot_bgcolor\":\"white\",\"paper_bgcolor\":\"white\"},                        {\"responsive\": true}                    ).then(function(){\n",
       "                            \n",
       "var gd = document.getElementById('f554ae23-f857-4877-942d-a04a9c0c983c');\n",
       "var x = new MutationObserver(function (mutations, observer) {{\n",
       "        var display = window.getComputedStyle(gd).display;\n",
       "        if (!display || display === 'none') {{\n",
       "            console.log([gd, 'removed!']);\n",
       "            Plotly.purge(gd);\n",
       "            observer.disconnect();\n",
       "        }}\n",
       "}});\n",
       "\n",
       "// Listen for the removal of the full notebook cells\n",
       "var notebookContainer = gd.closest('#notebook-container');\n",
       "if (notebookContainer) {{\n",
       "    x.observe(notebookContainer, {childList: true});\n",
       "}}\n",
       "\n",
       "// Listen for the clearing of the current output cell\n",
       "var outputEl = gd.closest('.output');\n",
       "if (outputEl) {{\n",
       "    x.observe(outputEl, {childList: true});\n",
       "}}\n",
       "\n",
       "                        })                };                });            </script>        </div>"
      ]
     },
     "metadata": {},
     "output_type": "display_data"
    }
   ],
   "source": [
    "# Plotting the \"Percentage of Pitches Each Shark Made an Offer\"\n",
    "\n",
    "colors = ['#3ec276'] * len(shark_labels) + ['#b1dfc6'] * len(guest_labels)\n",
    "\n",
    "fig = go.Figure(data=[go.Bar(\n",
    "    x=shark_labels + guest_labels,\n",
    "    y=shark_values + guest_values,\n",
    "    textposition='auto',\n",
    "    width=0.5,\n",
    "    text=shark_values + guest_values,\n",
    "    marker_color=colors,\n",
    "    marker_line_color='black',\n",
    "    marker_line_width=1,\n",
    "    opacity=1\n",
    ")])\n",
    "\n",
    "fig.update_layout(\n",
    "    title={\n",
    "        'text': 'Percentage of Pitches each Shark Made an Offer',\n",
    "        'y': 0.9,\n",
    "        'x': 0.5,\n",
    "        'xanchor': 'center',\n",
    "        'yanchor': 'top'\n",
    "    },\n",
    "    xaxis_tickangle=-45,\n",
    "    xaxis_tickfont_size=12,\n",
    "    width=1000,\n",
    "    height=500,\n",
    "    xaxis_title='Sharks',\n",
    "    yaxis_title='Number of offers (%)',\n",
    "    plot_bgcolor = 'white',\n",
    "    paper_bgcolor = 'white',\n",
    "    xaxis=dict(\n",
    "        showline=True,\n",
    "        linewidth=1.25,\n",
    "        linecolor='black'\n",
    "    ),\n",
    "    yaxis=dict(\n",
    "        showline=True,\n",
    "        linewidth=1.25,\n",
    "        linecolor='black'\n",
    "    ),\n",
    ")\n",
    "\n",
    "fig.show()"
   ]
  },
  {
   "cell_type": "markdown",
   "id": "08e573d2-ae7b-45a4-abac-7d300a69fef4",
   "metadata": {
    "jp-MarkdownHeadingCollapsed": true
   },
   "source": [
    "####  How does the average gross margin and net margin vary across industries?"
   ]
  },
  {
   "cell_type": "code",
   "execution_count": null,
   "id": "4d4b1769-eace-4597-9ebb-3fe2fd6e17ed",
   "metadata": {
    "jupyter": {
     "source_hidden": true
    }
   },
   "outputs": [],
   "source": [
    "# Gross margin / Net margin by 'Net margin'\n",
    "\n",
    "gross_net_result = tank_df[[\n",
    "    'industry', 'net_margin', 'gross_margin'\n",
    "]].groupby('industry').mean().round(2).rename(\n",
    "    columns = {\n",
    "        \"net_margin\": \"Net Margin\",\n",
    "        \"gross_margin\": \"Gross Margin\"\n",
    "    }\n",
    ").sort_values('Net Margin', ascending=False)\n",
    "\n",
    "gross_net_result"
   ]
  },
  {
   "cell_type": "code",
   "execution_count": null,
   "id": "63cb861f-14a2-4a49-8db3-176310bf83f6",
   "metadata": {
    "jupyter": {
     "source_hidden": true
    }
   },
   "outputs": [],
   "source": [
    "data = {\n",
    "    'Industry': gross_net_result.index,\n",
    "    'Net Margin': gross_net_result['Net Margin'].tolist(),\n",
    "    'Gross Margin': gross_net_result['Gross Margin'].tolist()\n",
    "}\n",
    "\n",
    "df = pd.DataFrame(data)\n",
    "\n",
    "fig = go.Figure()\n",
    "\n",
    "fig.add_trace(go.Bar(\n",
    "    x=df['Industry'],\n",
    "    y=df['Net Margin'],\n",
    "    name='Net Margin',\n",
    "    marker_color='#8390fa',\n",
    "))\n",
    "\n",
    "fig.add_trace(go.Bar(\n",
    "    x=df['Industry'],\n",
    "    y=df['Gross Margin'],\n",
    "    name='Gross Margin',\n",
    "    marker_color='#1d2f6f',\n",
    "))\n",
    "\n",
    "fig.update_layout(\n",
    "    barmode='group', \n",
    "    xaxis_tickangle=-45, \n",
    "    title='Comparison of Net Margin and Gross Margin Across Industries',\n",
    "    plot_bgcolor='white', \n",
    "    paper_bgcolor='white',\n",
    "    xaxis=dict(\n",
    "        title='Industry',\n",
    "        showline=True,\n",
    "        linewidth=1,\n",
    "        linecolor='black',\n",
    "        tickfont=dict(size=12),\n",
    "        autorange=True\n",
    "    ),\n",
    "    yaxis=dict(\n",
    "        title='Margin (%)',\n",
    "        showline=True,\n",
    "        linewidth=1,\n",
    "        linecolor='black',\n",
    "        autorange=True\n",
    "    ),\n",
    "    legend=dict(\n",
    "        x=0.6,\n",
    "        y=1.1,\n",
    "        orientation='h'\n",
    "    )\n",
    ")\n",
    "\n",
    "fig.show()"
   ]
  },
  {
   "cell_type": "markdown",
   "id": "092dc956-59a1-44eb-89d8-54ebfef55691",
   "metadata": {
    "jp-MarkdownHeadingCollapsed": true
   },
   "source": [
    "#### What is the distribution of startup founding years, and how does it relate to the success of securing investments?"
   ]
  },
  {
   "cell_type": "code",
   "execution_count": null,
   "id": "c39ecd24-b4ff-4bbb-949e-547bb98e6d1c",
   "metadata": {
    "jupyter": {
     "source_hidden": true
    }
   },
   "outputs": [],
   "source": [
    "total_startups = tank_df[\n",
    "    ['year_founded', 'startup_name']\n",
    "].groupby('year_founded').count().rename(\n",
    "    columns = {\n",
    "        \"startup_name\": \"Total Startups\"\n",
    "    }\n",
    ")\n",
    "\n",
    "startups_got_offer = tank_df.loc[\n",
    "    (tank_df['received_offer'] == 1),\n",
    "    ['year_founded', 'startup_name']\n",
    "].groupby('year_founded').count().rename(\n",
    "    columns = {\n",
    "        \"startup_name\": \"Got offer\"\n",
    "    }\n",
    ")\n",
    "\n",
    "startups_founded_result = pd.merge(\n",
    "    total_startups, startups_got_offer, \n",
    "    on=\"year_founded\", how=\"left\"\n",
    ").fillna(0)"
   ]
  },
  {
   "cell_type": "code",
   "execution_count": null,
   "id": "fbe136b1-f8c1-4049-b436-ae98b4e7b122",
   "metadata": {
    "jupyter": {
     "source_hidden": true
    }
   },
   "outputs": [],
   "source": [
    "# Plot startups that got offer by year\n",
    "\n",
    "data = {\n",
    "    'year_founded': startups_founded_result.index.astype(int).tolist(),\n",
    "    'Total Startups': startups_founded_result['Total Startups'].tolist(),\n",
    "    'Got offer': startups_founded_result['Got offer'].tolist()\n",
    "}\n",
    "df = pd.DataFrame(data)\n",
    "\n",
    "fig = go.Figure()\n",
    "\n",
    "fig.add_trace(go.Scatter(\n",
    "    x=df['year_founded'],\n",
    "    y=df['Total Startups'],\n",
    "    mode='lines+markers',\n",
    "    name='Total Startups',\n",
    "    marker=dict(color='#d00000', size=8),\n",
    "    line=dict(color='#d00000', width=2)\n",
    "))\n",
    "\n",
    "fig.add_trace(go.Scatter(\n",
    "    x=df['year_founded'],\n",
    "    y=df['Got offer'],\n",
    "    mode='lines+markers',\n",
    "    name='Got Offer',\n",
    "    marker=dict(color='#1a535c', size=8),\n",
    "    line=dict(color='#1a535c', width=2)\n",
    "))\n",
    "\n",
    "fig.update_layout(\n",
    "    title='Total Startups and Offers Received by Year Founded',\n",
    "    xaxis_title='Year Founded',\n",
    "    yaxis_title='Number of Startups',\n",
    "    plot_bgcolor='white', \n",
    "    paper_bgcolor='white',\n",
    "    xaxis=dict(\n",
    "        showline=True,\n",
    "        linewidth=1,\n",
    "        linecolor='black',\n",
    "        tickfont=dict(size=12),\n",
    "        autorange=True\n",
    "    ),\n",
    "    yaxis=dict(\n",
    "        showline=True,\n",
    "        linewidth=1,\n",
    "        linecolor='black',\n",
    "        autorange=True\n",
    "    ),\n",
    "    legend=dict(\n",
    "        x=0.25,\n",
    "        y=1.1,\n",
    "        orientation='h'\n",
    "    )\n",
    ")\n",
    "\n",
    "fig.show()"
   ]
  },
  {
   "cell_type": "code",
   "execution_count": null,
   "id": "dd9a4254-e767-46ab-bace-098efea298e8",
   "metadata": {
    "jupyter": {
     "source_hidden": true
    }
   },
   "outputs": [],
   "source": [
    "# Conclusion!\n",
    "\n",
    "print(\"\"\"Conclusion: \n",
    "\n",
    "A statrup founded around 2019 is more likely to get an offer\"\"\")"
   ]
  },
  {
   "cell_type": "markdown",
   "id": "1122da60-7117-46de-8e04-ba0569bd9971",
   "metadata": {
    "jp-MarkdownHeadingCollapsed": true
   },
   "source": [
    "#### How does the average age of presenters impact the likelihood of receiving an investment?"
   ]
  },
  {
   "cell_type": "code",
   "execution_count": null,
   "id": "4cb03b1d-791f-4951-b78e-42a9cadb248f",
   "metadata": {
    "jupyter": {
     "source_hidden": true
    }
   },
   "outputs": [],
   "source": [
    "total_startups_age = tank_df[['startup_name', 'pitchers_avg_age']].groupby('pitchers_avg_age').count().rename(\n",
    "    columns = {\n",
    "        \"startup_name\": \"Total Startups\"\n",
    "    }\n",
    ")\n",
    "\n",
    "startups_got_offer_age = tank_df[['startup_name', 'pitchers_avg_age']].loc[\n",
    "    tank_df['received_offer'] == 1\n",
    "].groupby('pitchers_avg_age').count().rename(\n",
    "    columns = {\n",
    "        \"startup_name\": \"Got offer\"\n",
    "    }\n",
    ")\n",
    "\n",
    "result_age = pd.merge(total_startups_age, startups_got_offer_age, on=\"pitchers_avg_age\", how=\"left\")\n",
    "result_age['Offer (%)'] = ((result_age['Got offer'] / result_age['Total Startups']) * 100).round(2)\n",
    "\n",
    "result_age"
   ]
  },
  {
   "cell_type": "code",
   "execution_count": null,
   "id": "31191626-627e-4932-9d2d-2002a5a920e1",
   "metadata": {
    "jupyter": {
     "source_hidden": true
    }
   },
   "outputs": [],
   "source": [
    "data = {\n",
    "    'pitchers_avg_age': result_age.index.tolist(),\n",
    "    'Total Startups': result_age['Total Startups'].tolist(),\n",
    "    'Got offer': result_age['Got offer'].tolist(),\n",
    "    'Offer (%)': result_age['Offer (%)'].tolist()\n",
    "}\n",
    "df = pd.DataFrame(data)\n",
    "\n",
    "categories = ['Total Startups', 'Got offer', 'Offer (%)']\n",
    "fig = go.Figure()\n",
    "\n",
    "for index, row in df.iterrows():\n",
    "    fig.add_trace(go.Scatterpolar(\n",
    "        r=row[categories].tolist() + [row[categories].tolist()[0]],\n",
    "        theta=categories + [categories[0]],\n",
    "        fill='toself',\n",
    "        name=row['pitchers_avg_age']\n",
    "    ))\n",
    "\n",
    "fig.update_layout(\n",
    "    polar=dict(\n",
    "        radialaxis=dict(visible=True, range=[0, max(df[categories].max())])\n",
    "    ),\n",
    "    title='Offers reveived  by Pitcher Age Group (<30 young, 30-50 middle, >50 old)',\n",
    "    plot_bgcolor='white',\n",
    "    paper_bgcolor='white',\n",
    "    width=600,  \n",
    "    height=500,\n",
    "    font_size=10\n",
    ")\n",
    "\n",
    "fig.show()"
   ]
  },
  {
   "cell_type": "code",
   "execution_count": null,
   "id": "f96cc4be-4ed6-4a50-bc9a-1062a0a324e2",
   "metadata": {
    "jupyter": {
     "source_hidden": true
    }
   },
   "outputs": [],
   "source": [
    "# Conclusion!\n",
    "\n",
    "print(\"\"\"Conclusion: \n",
    "\n",
    "Pitchers with age of 30-50 are more likely to get an offer\"\"\")"
   ]
  },
  {
   "cell_type": "markdown",
   "id": "3d6d560d-a554-408f-835e-59b92450212b",
   "metadata": {
    "jp-MarkdownHeadingCollapsed": true
   },
   "source": [
    "#### How does the presence of guest investors impact the investment outcomes for startups?"
   ]
  },
  {
   "cell_type": "code",
   "execution_count": null,
   "id": "ddad9d34-6cc4-4f65-8ee0-c752aa79c2ea",
   "metadata": {
    "jupyter": {
     "source_hidden": true
    }
   },
   "outputs": [],
   "source": [
    "guest_offer_given = tank_df.loc[\n",
    "    (tank_df['guest_present'] == 1) &\n",
    "    (tank_df['received_offer'] == 1)\n",
    "].shape[0]\n",
    "\n",
    "guest_total_offer = tank_df.loc[\n",
    "    (tank_df['guest_present'] == 1)\n",
    "].shape[0]\n",
    "\n",
    "no_guest_offer_given = tank_df.loc[\n",
    "    (tank_df['guest_present'] == 0) &\n",
    "    (tank_df['received_offer'] == 1)\n",
    "].shape[0]\n",
    "\n",
    "no_guest_total_offer = tank_df.loc[\n",
    "    (tank_df['guest_present'] == 0)\n",
    "].shape[0]\n",
    "\n",
    "no_guest_percentage = np.round(((no_guest_offer_given / no_guest_total_offer) * 100), decimals=2)\n",
    "guest_percentage = np.round(((guest_offer_given / guest_total_offer) * 100), decimals=2)\n",
    "\n",
    "print(f'Share of pitches that got offer when NO GUEST shark is present: {no_guest_percentage}%')\n",
    "print(f'Share of pitches that got offer when GUEST shark is present: {guest_percentage}%')\n",
    "\n",
    "print(\n",
    "\"\"\"\n",
    "Conclusion: \n",
    "\n",
    "A startup is more likely to get an offer when there is NO GUEST Shark present in the pitch, \n",
    "However it does not makes much of a difference\"\"\")"
   ]
  },
  {
   "cell_type": "markdown",
   "id": "c774d491-82d2-4742-8b57-9167f861f2d4",
   "metadata": {
    "jp-MarkdownHeadingCollapsed": true
   },
   "source": [
    "####  Is there a correlation between a  startup having a patent has and its likelihood of receiving an investment?"
   ]
  },
  {
   "cell_type": "code",
   "execution_count": null,
   "id": "e71f2e57-a682-4980-8ee9-75f208efd498",
   "metadata": {
    "jupyter": {
     "source_hidden": true
    }
   },
   "outputs": [],
   "source": [
    "total_patent_offer = tank_df.loc[\n",
    "    (tank_df['patents'] == 1)\n",
    "].shape[0]\n",
    "\n",
    "patents_got_offer = tank_df.loc[\n",
    "    (tank_df['patents'] == 1) &\n",
    "    (tank_df['received_offer'] == 1)\n",
    "].shape[0]\n",
    "\n",
    "total_non_patent_offer = tank_df.loc[\n",
    "    (tank_df['patents'] == 0)\n",
    "].shape[0]\n",
    "\n",
    "non_patents_got_offer = tank_df.loc[\n",
    "    (tank_df['patents'] == 0) &\n",
    "    (tank_df['received_offer'] == 1)\n",
    "].shape[0]\n",
    "\n",
    "patent_offers = np.round(((patents_got_offer / total_patent_offer) * 100), decimals=2)\n",
    "no_patent_offers = np.round(((non_patents_got_offer / total_non_patent_offer) * 100), decimals=2)\n",
    "\n",
    "print(f'Share of Startups that got offer having NO PATENTS: {no_patent_offers}%')\n",
    "print(f'Share of Startups that got offer having PATENTS: {patent_offers}%')\n",
    "\n",
    "print(\n",
    "\"\"\"\n",
    "Conclusion: \n",
    "\n",
    "Startups with patents do not have a significantly higher chance of receiving offers \\nWhen compared to those without patents\"\"\"\n",
    ")"
   ]
  },
  {
   "cell_type": "markdown",
   "id": "8df8d4f5-276a-4bf4-bd83-c68ae8af1916",
   "metadata": {
    "jp-MarkdownHeadingCollapsed": true
   },
   "source": [
    "####  Are there any significant differences in investment patterns between male and female presenters and presenter count?"
   ]
  },
  {
   "cell_type": "code",
   "execution_count": null,
   "id": "3f8b92a0-0f4f-4f39-874f-43abdbaa5efc",
   "metadata": {
    "jupyter": {
     "source_hidden": true
    }
   },
   "outputs": [],
   "source": [
    "presenter_count_offer = tank_df.loc[\n",
    "    (tank_df['received_offer'] == 1),\n",
    "    ['presenter_count', 'startup_name']\n",
    "].groupby('presenter_count').count().rename(\n",
    "    columns = {\n",
    "        \"startup_name\": \"Startups Got Offer\"\n",
    "    }\n",
    ")\n",
    "\n",
    "print(\n",
    "    \"\"\"Conclusion: \n",
    "\n",
    "Chances of getting an offer gets better if there are 1, 2 or max 3 presenters\"\"\"\n",
    ")"
   ]
  },
  {
   "cell_type": "code",
   "execution_count": null,
   "id": "71c6c182-59e3-4263-bbd7-9d8ba008f9d8",
   "metadata": {
    "jupyter": {
     "source_hidden": true
    }
   },
   "outputs": [],
   "source": [
    "fig = go.Figure(data=[go.Pie(\n",
    "    labels=presenter_count_offer.index.tolist(),\n",
    "    values=presenter_count_offer['Startups Got Offer'].tolist(),\n",
    "    pull=[0, 0.075, 0, 0, 0, 0],\n",
    "    marker=dict(\n",
    "        colors=['#ef476f', '#ffd166', '#06d6a0', '#118ab2', '#073b4c', '#9d4edd'], \n",
    "        line=dict(color='black', width=0.25)\n",
    "    ),\n",
    "    textinfo='label+percent',\n",
    "    hoverinfo='label+percent+value'\n",
    ")])\n",
    "\n",
    "fig.update_layout(\n",
    "    title={\n",
    "        'text': 'Distribution of Startups that Got Offer by No. of Presenters',\n",
    "        'x': 0.5,\n",
    "        'xanchor': 'center',\n",
    "        'yanchor': 'top'\n",
    "    },\n",
    "    legend=dict(\n",
    "        title='No. of presenters',\n",
    "        title_font_size=16,\n",
    "        x=1.25, \n",
    "        y=0.75,  \n",
    "        traceorder='normal',\n",
    "        orientation='v', \n",
    "        bgcolor='rgba(255, 255, 255, 0.8)', \n",
    "        bordercolor='black',\n",
    "        borderwidth=0.0,\n",
    "        font=dict(\n",
    "            size=14, \n",
    "            color=\"black\" \n",
    "        )\n",
    "    ),\n",
    "    plot_bgcolor='white',\n",
    "    paper_bgcolor='white',\n",
    "    width=600,\n",
    "    height=600\n",
    ")\n",
    "\n",
    "fig.show()"
   ]
  },
  {
   "cell_type": "code",
   "execution_count": null,
   "id": "e582d680-c30c-43e3-8a25-198827c05133",
   "metadata": {
    "jupyter": {
     "source_hidden": true
    }
   },
   "outputs": [],
   "source": [
    "total_pitches = tank_df.shape[0]\n",
    "\n",
    "male_presenter_offer = tank_df.loc[\n",
    "    (tank_df['male_presenter'] > 0) &\n",
    "    (tank_df['female_presenters'] == 0) &\n",
    "    (tank_df['received_offer'] == 1)\n",
    "].shape[0]\n",
    "\n",
    "female_presenter_offer = tank_df.loc[\n",
    "    (tank_df['female_presenters'] > 0) &\n",
    "    (tank_df['male_presenter'] == 0) &\n",
    "    (tank_df['received_offer'] == 1)\n",
    "].shape[0]\n",
    "\n",
    "male_female_presenter_offer = tank_df.loc[\n",
    "    (tank_df['female_presenters'] > 0) &\n",
    "    (tank_df['male_presenter'] > 0) &\n",
    "    (tank_df['received_offer'] == 1)\n",
    "].shape[0]\n",
    "\n",
    "male_offer_percentage = np.round(((male_presenter_offer / total_pitches) * 100), decimals=2)\n",
    "female_offer_percentage = np.round(((female_presenter_offer / total_pitches) * 100), decimals=2)\n",
    "male_female_offer_percentage = np.round(((male_female_presenter_offer / total_pitches) * 100), decimals=2)\n",
    "\n",
    "print(\n",
    "    f\"\"\"Pitches that got offer with MALE presenters only: {male_offer_percentage}%\n",
    "Pitches that got offer with FEMALE presenters only: {female_offer_percentage}%\n",
    "Pitches that got offer with MALE & FEMALE presenters: {male_female_offer_percentage}%\n",
    "\n",
    "Conclusion:\n",
    "\n",
    "Pitches with MALE presenters only are more likely to get offers\"\"\"\n",
    ")"
   ]
  },
  {
   "cell_type": "markdown",
   "id": "e8f44bb5-6683-4f82-8332-edabe8f5872b",
   "metadata": {
    "jp-MarkdownHeadingCollapsed": true
   },
   "source": [
    "#### How do the valuations requested by startups compare to the actual deal valuations?"
   ]
  },
  {
   "cell_type": "code",
   "execution_count": null,
   "id": "e0c815db-f9af-42c5-a462-3029df512fd2",
   "metadata": {
    "jupyter": {
     "source_hidden": true
    }
   },
   "outputs": [],
   "source": [
    "valuation_estimation = tank_df.loc[\n",
    "    (tank_df['received_offer'] == 1),\n",
    "    ['startup_name', 'valueation_requested', 'deal_valuation']\n",
    "]\n",
    "\n",
    "valuation_estimation['valueation_requested'] = valuation_estimation['valueation_requested'].round(2)"
   ]
  },
  {
   "cell_type": "code",
   "execution_count": null,
   "id": "535c724f-282f-4626-a31d-ce9673afc00e",
   "metadata": {
    "jupyter": {
     "source_hidden": true
    }
   },
   "outputs": [],
   "source": [
    "# Plot for Valuation requested vs Deal valuationabs\n",
    "\n",
    "data = {\n",
    "    'startup_name': valuation_estimation['startup_name'],\n",
    "    'valueation_requested': valuation_estimation['valueation_requested'],\n",
    "    'deal_valuation': valuation_estimation['deal_valuation']\n",
    "}\n",
    "\n",
    "df = pd.DataFrame(data)\n",
    "\n",
    "fig = px.scatter(\n",
    "    df,\n",
    "    x='valueation_requested',\n",
    "    y='deal_valuation',\n",
    "    labels={\n",
    "        'valueation_requested': 'Valuation Requested (in Lakhs)',\n",
    "        'deal_valuation': 'Deal Valuation (in Lakhs)'\n",
    "    },\n",
    "    title='Scatter Plot of Valuation Requested vs. Deal Valuation',\n",
    "    hover_data=['startup_name']\n",
    ")\n",
    "\n",
    "fig.update_traces(\n",
    "    marker=dict(\n",
    "        size=10, \n",
    "        color='rgb(255, 99, 71)',\n",
    "        line=dict(width=1, color='black') \n",
    "    )\n",
    ")\n",
    "fig.update_layout(\n",
    "    plot_bgcolor='white',\n",
    "    paper_bgcolor='white',\n",
    "    title={\n",
    "        'text': 'Valuation Requested vs. Deal Valuation for Startups',\n",
    "        'x': 0.5,\n",
    "        'xanchor': 'center'\n",
    "    },\n",
    "    xaxis=dict(\n",
    "        showline=True,\n",
    "        linewidth=1,\n",
    "        linecolor='black',\n",
    "        title='Valuation Requested in Lakhs (INR)',\n",
    "    ),\n",
    "    yaxis=dict(\n",
    "        showline=True,\n",
    "        linewidth=1,\n",
    "        linecolor='black',\n",
    "        title='Deal Valuation in Lakhs (INR)',\n",
    "    )\n",
    ")\n",
    "\n",
    "fig.show()"
   ]
  },
  {
   "cell_type": "markdown",
   "id": "17829e56-bc60-41ca-9b51-143e2b27fa68",
   "metadata": {},
   "source": [
    "#### Which sharks are most likely to invest in a startup, and what are their preferred industries?"
   ]
  },
  {
   "cell_type": "code",
   "execution_count": null,
   "id": "ddc52230-d8ae-4cac-98b0-4bb636c758e5",
   "metadata": {
    "jupyter": {
     "source_hidden": true
    }
   },
   "outputs": [],
   "source": [
    "# Deducing shark investments\n",
    "\n",
    "def shark_investments(name):\n",
    "    industries = tank_df.loc[\n",
    "        tank_df[f'{name}_investment_amount'] > 0,\n",
    "        ['industry', 'startup_name']\n",
    "    ].groupby('industry').count().sort_values(\n",
    "        'startup_name', ascending=False\n",
    "    ).head(5).index.tolist()\n",
    "    \n",
    "    invest_count = tank_df.loc[\n",
    "        tank_df[f'{name}_investment_amount'] > 0,\n",
    "        ['industry', 'startup_name']\n",
    "    ].groupby('industry').count().sort_values(\n",
    "        'startup_name', ascending=False\n",
    "    ).head(5).values.ravel().tolist()\n",
    "\n",
    "    return industries, invest_count"
   ]
  },
  {
   "cell_type": "code",
   "execution_count": null,
   "id": "6666506e-ad27-49b0-b7ef-c24c6d778537",
   "metadata": {
    "jupyter": {
     "source_hidden": true
    }
   },
   "outputs": [],
   "source": [
    "anupam_industires, anupam_count = shark_investments('anupam')\n",
    "namita_industires, namita_count = shark_investments('namita')\n",
    "vineeta_industires, vineeta_count = shark_investments('vineeta')\n",
    "peyush_industires, peyush_count = shark_investments('peyush')\n",
    "aman_industires, aman_count = shark_investments('aman')\n",
    "amit_industires, amit_count = shark_investments('amit')\n",
    "ashneer_industires, ashneer_count = shark_investments('ashneer')"
   ]
  },
  {
   "cell_type": "code",
   "execution_count": null,
   "id": "576e44dd-59f9-43fe-b764-c8ee8cb621ec",
   "metadata": {
    "jupyter": {
     "source_hidden": true
    }
   },
   "outputs": [],
   "source": [
    "# Plot different investments by different sharks!\n",
    "\n",
    "fig = go.Figure()\n",
    "fig.add_trace(go.Bar(\n",
    "    x=anupam_industires,\n",
    "    y=anupam_count,\n",
    "    name='Anupam investments',\n",
    "    marker_color='#ef476f'\n",
    "))\n",
    "fig.add_trace(go.Bar(\n",
    "    x=ashneer_industires,\n",
    "    y=ashneer_count,\n",
    "    name='Ashneer investments',\n",
    "    marker_color='#ffd166'\n",
    "))\n",
    "fig.add_trace(go.Bar(\n",
    "    x=namita_industires,\n",
    "    y=namita_count,\n",
    "    name='Namita investments',\n",
    "    marker_color='#06d6a0'\n",
    "))\n",
    "fig.add_trace(go.Bar(\n",
    "    x=vineeta_industires,\n",
    "    y=vineeta_count,\n",
    "    name='Vineeta investments',\n",
    "    marker_color='#118ab2'\n",
    "))\n",
    "fig.add_trace(go.Bar(\n",
    "    x=amit_industires,\n",
    "    y=amit_count,\n",
    "    name='Amit investments',\n",
    "    marker_color='#073b4c'\n",
    "))\n",
    "fig.add_trace(go.Bar(\n",
    "    x=aman_industires,\n",
    "    y=aman_count,\n",
    "    name='Aman investments',\n",
    "    marker_color='#ef233c'\n",
    "))\n",
    "fig.add_trace(go.Bar(\n",
    "    x=peyush_industires,\n",
    "    y=peyush_count,\n",
    "    name='Peyush investments',\n",
    "    marker_color='#fb8b24'\n",
    "))\n",
    "\n",
    "fig.update_layout(barmode='group', xaxis_tickangle=-45)\n",
    "fig.update_layout(\n",
    "    plot_bgcolor='white',\n",
    "    paper_bgcolor='white',\n",
    "    title={\n",
    "        'text': 'Industries different sharks have invested',\n",
    "        'x': 0.5,\n",
    "        'xanchor': 'center'\n",
    "    },\n",
    "    xaxis=dict(\n",
    "        showline=True,\n",
    "        linewidth=1,\n",
    "        linecolor='black',\n",
    "        title='Industries',\n",
    "    ),\n",
    "    yaxis=dict(\n",
    "        showline=True,\n",
    "        linewidth=1,\n",
    "        linecolor='black',\n",
    "        title='No. of investments',\n",
    "    )\n",
    ")\n",
    "fig.show()"
   ]
  }
 ],
 "metadata": {
  "kernelspec": {
   "display_name": "Python 3 (ipykernel)",
   "language": "python",
   "name": "python3"
  },
  "language_info": {
   "codemirror_mode": {
    "name": "ipython",
    "version": 3
   },
   "file_extension": ".py",
   "mimetype": "text/x-python",
   "name": "python",
   "nbconvert_exporter": "python",
   "pygments_lexer": "ipython3",
   "version": "3.12.3"
  },
  "widgets": {
   "application/vnd.jupyter.widget-state+json": {
    "state": {},
    "version_major": 2,
    "version_minor": 0
   }
  }
 },
 "nbformat": 4,
 "nbformat_minor": 5
}
