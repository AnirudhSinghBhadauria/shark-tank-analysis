{
 "cells": [
  {
   "cell_type": "markdown",
   "id": "2f108c24-f78e-40a6-bf8e-fd0aa2a86e01",
   "metadata": {},
   "source": [
    "# **Interesting insights about 'Shark Tank India' season 1, 2, 3**\n",
    "\n",
    "1. *Changes and Developments Over Three Seasons*\n",
    "2. *Common reasons for getting offer*\n",
    "3. *Strategies Used by Sharks*\n",
    "4. *Trends in Business Ideas*<br><br>and many more ..."
   ]
  },
  {
   "cell_type": "code",
   "execution_count": 9,
   "id": "ae773e45-caa5-4285-98aa-002073556e21",
   "metadata": {
    "jupyter": {
     "source_hidden": true
    }
   },
   "outputs": [],
   "source": [
    "# Importing required libraries\n",
    "\n",
    "import numpy as np\n",
    "import pandas as pd\n",
    "import plotly.express as px\n",
    "import plotly.subplots as sp\n",
    "import plotly.graph_objects as go\n",
    "from plotly.subplots import make_subplots"
   ]
  },
  {
   "cell_type": "code",
   "execution_count": 10,
   "id": "125b4436-38bb-487b-8341-32f19b1227da",
   "metadata": {
    "jupyter": {
     "source_hidden": true
    }
   },
   "outputs": [],
   "source": [
    "# clean_file_path = \"C:/Users/anirudh.bhadauria/data-analytics/shark-tank-analysis/data/shark_tank_clean.csv\"\n",
    "clean_file_path = \"data/shark_tank_clean.csv\""
   ]
  },
  {
   "cell_type": "code",
   "execution_count": 11,
   "id": "1786b251-cd57-491e-8fb1-1a9e4c5b0634",
   "metadata": {
    "jupyter": {
     "source_hidden": true
    }
   },
   "outputs": [],
   "source": [
    "# Loading the raw csv file\n",
    "tank_df = pd.read_csv(clean_file_path, parse_dates = True)"
   ]
  },
  {
   "cell_type": "markdown",
   "id": "a161fb08-3b3b-4f21-b756-4df6985fff39",
   "metadata": {
    "jp-MarkdownHeadingCollapsed": true
   },
   "source": [
    "#### What is the total number of episodes (aired) and entrepreneur that came in total and each season seperately?\n"
   ]
  },
  {
   "cell_type": "code",
   "execution_count": 12,
   "id": "a3e98c15-f038-41f8-9232-f600ffbcde6f",
   "metadata": {
    "jupyter": {
     "source_hidden": true
    }
   },
   "outputs": [
    {
     "name": "stdout",
     "output_type": "stream",
     "text": [
      "Total number of aired episodes: 447\n",
      "Total number of entrepreneurs that appeared in Sharktank so far: 966\n"
     ]
    }
   ],
   "source": [
    "# General statistics\n",
    "\n",
    "def total_entrepreneurs_season(season_number):\n",
    "    return tank_df['presenter_count'].loc[\n",
    "        tank_df['season_number'] == season_number\n",
    "    ].sum()\n",
    "    \n",
    "total_entrepreneurs = tank_df['presenter_count'].sum()\n",
    "total_episodes = tank_df.loc[\n",
    "    tank_df['episode_number'] != 0\n",
    "]\n",
    "\n",
    "print(f'Total number of aired episodes: {total_episodes.shape[0]}')\n",
    "print(f\"Total number of entrepreneurs that appeared in Sharktank so far: {total_entrepreneurs}\")"
   ]
  },
  {
   "cell_type": "code",
   "execution_count": 13,
   "id": "a8b96c93-2f13-46f7-8bc4-5610fe130bc2",
   "metadata": {
    "jupyter": {
     "source_hidden": true
    }
   },
   "outputs": [
    {
     "data": {
      "application/vnd.plotly.v1+json": {
       "config": {
        "plotlyServerURL": "https://plot.ly"
       },
       "data": [
        {
         "domain": {
          "x": [
           0,
           0.45
          ],
          "y": [
           0,
           1
          ]
         },
         "hole": 0.45,
         "labels": [
          "Entrepreneurs Season 1",
          "Entrepreneurs Season 2",
          "Entrepreneurs Season 3"
         ],
         "textinfo": "value",
         "type": "pie",
         "values": [
          314,
          353,
          299
         ]
        },
        {
         "domain": {
          "x": [
           0.55,
           1
          ],
          "y": [
           0,
           1
          ]
         },
         "hole": 0.45,
         "labels": [
          "Startups in season 1",
          "Startups in season 2",
          "Startups in season 3"
         ],
         "textinfo": "value",
         "type": "pie",
         "values": [
          152,
          169,
          157
         ]
        }
       ],
       "layout": {
        "annotations": [
         {
          "showarrow": false,
          "text": "Total Entrepreneurs per Season",
          "x": 0,
          "xref": "paper",
          "y": 1,
          "yref": "paper"
         },
         {
          "showarrow": false,
          "text": "Total Startups per Season",
          "x": 0.95,
          "xref": "paper",
          "y": 1,
          "yref": "paper"
         }
        ],
        "font": {
         "size": 16
        },
        "height": 450,
        "legend": {
         "orientation": "v",
         "x": 1.5,
         "xanchor": "right",
         "y": 0.6,
         "yanchor": "bottom"
        },
        "margin": {
         "b": 10,
         "l": 40,
         "r": 40,
         "t": 30
        },
        "paper_bgcolor": "white",
        "plot_bgcolor": "white",
        "showlegend": true,
        "template": {
         "data": {
          "bar": [
           {
            "error_x": {
             "color": "#2a3f5f"
            },
            "error_y": {
             "color": "#2a3f5f"
            },
            "marker": {
             "line": {
              "color": "#E5ECF6",
              "width": 0.5
             },
             "pattern": {
              "fillmode": "overlay",
              "size": 10,
              "solidity": 0.2
             }
            },
            "type": "bar"
           }
          ],
          "barpolar": [
           {
            "marker": {
             "line": {
              "color": "#E5ECF6",
              "width": 0.5
             },
             "pattern": {
              "fillmode": "overlay",
              "size": 10,
              "solidity": 0.2
             }
            },
            "type": "barpolar"
           }
          ],
          "carpet": [
           {
            "aaxis": {
             "endlinecolor": "#2a3f5f",
             "gridcolor": "white",
             "linecolor": "white",
             "minorgridcolor": "white",
             "startlinecolor": "#2a3f5f"
            },
            "baxis": {
             "endlinecolor": "#2a3f5f",
             "gridcolor": "white",
             "linecolor": "white",
             "minorgridcolor": "white",
             "startlinecolor": "#2a3f5f"
            },
            "type": "carpet"
           }
          ],
          "choropleth": [
           {
            "colorbar": {
             "outlinewidth": 0,
             "ticks": ""
            },
            "type": "choropleth"
           }
          ],
          "contour": [
           {
            "colorbar": {
             "outlinewidth": 0,
             "ticks": ""
            },
            "colorscale": [
             [
              0,
              "#0d0887"
             ],
             [
              0.1111111111111111,
              "#46039f"
             ],
             [
              0.2222222222222222,
              "#7201a8"
             ],
             [
              0.3333333333333333,
              "#9c179e"
             ],
             [
              0.4444444444444444,
              "#bd3786"
             ],
             [
              0.5555555555555556,
              "#d8576b"
             ],
             [
              0.6666666666666666,
              "#ed7953"
             ],
             [
              0.7777777777777778,
              "#fb9f3a"
             ],
             [
              0.8888888888888888,
              "#fdca26"
             ],
             [
              1,
              "#f0f921"
             ]
            ],
            "type": "contour"
           }
          ],
          "contourcarpet": [
           {
            "colorbar": {
             "outlinewidth": 0,
             "ticks": ""
            },
            "type": "contourcarpet"
           }
          ],
          "heatmap": [
           {
            "colorbar": {
             "outlinewidth": 0,
             "ticks": ""
            },
            "colorscale": [
             [
              0,
              "#0d0887"
             ],
             [
              0.1111111111111111,
              "#46039f"
             ],
             [
              0.2222222222222222,
              "#7201a8"
             ],
             [
              0.3333333333333333,
              "#9c179e"
             ],
             [
              0.4444444444444444,
              "#bd3786"
             ],
             [
              0.5555555555555556,
              "#d8576b"
             ],
             [
              0.6666666666666666,
              "#ed7953"
             ],
             [
              0.7777777777777778,
              "#fb9f3a"
             ],
             [
              0.8888888888888888,
              "#fdca26"
             ],
             [
              1,
              "#f0f921"
             ]
            ],
            "type": "heatmap"
           }
          ],
          "heatmapgl": [
           {
            "colorbar": {
             "outlinewidth": 0,
             "ticks": ""
            },
            "colorscale": [
             [
              0,
              "#0d0887"
             ],
             [
              0.1111111111111111,
              "#46039f"
             ],
             [
              0.2222222222222222,
              "#7201a8"
             ],
             [
              0.3333333333333333,
              "#9c179e"
             ],
             [
              0.4444444444444444,
              "#bd3786"
             ],
             [
              0.5555555555555556,
              "#d8576b"
             ],
             [
              0.6666666666666666,
              "#ed7953"
             ],
             [
              0.7777777777777778,
              "#fb9f3a"
             ],
             [
              0.8888888888888888,
              "#fdca26"
             ],
             [
              1,
              "#f0f921"
             ]
            ],
            "type": "heatmapgl"
           }
          ],
          "histogram": [
           {
            "marker": {
             "pattern": {
              "fillmode": "overlay",
              "size": 10,
              "solidity": 0.2
             }
            },
            "type": "histogram"
           }
          ],
          "histogram2d": [
           {
            "colorbar": {
             "outlinewidth": 0,
             "ticks": ""
            },
            "colorscale": [
             [
              0,
              "#0d0887"
             ],
             [
              0.1111111111111111,
              "#46039f"
             ],
             [
              0.2222222222222222,
              "#7201a8"
             ],
             [
              0.3333333333333333,
              "#9c179e"
             ],
             [
              0.4444444444444444,
              "#bd3786"
             ],
             [
              0.5555555555555556,
              "#d8576b"
             ],
             [
              0.6666666666666666,
              "#ed7953"
             ],
             [
              0.7777777777777778,
              "#fb9f3a"
             ],
             [
              0.8888888888888888,
              "#fdca26"
             ],
             [
              1,
              "#f0f921"
             ]
            ],
            "type": "histogram2d"
           }
          ],
          "histogram2dcontour": [
           {
            "colorbar": {
             "outlinewidth": 0,
             "ticks": ""
            },
            "colorscale": [
             [
              0,
              "#0d0887"
             ],
             [
              0.1111111111111111,
              "#46039f"
             ],
             [
              0.2222222222222222,
              "#7201a8"
             ],
             [
              0.3333333333333333,
              "#9c179e"
             ],
             [
              0.4444444444444444,
              "#bd3786"
             ],
             [
              0.5555555555555556,
              "#d8576b"
             ],
             [
              0.6666666666666666,
              "#ed7953"
             ],
             [
              0.7777777777777778,
              "#fb9f3a"
             ],
             [
              0.8888888888888888,
              "#fdca26"
             ],
             [
              1,
              "#f0f921"
             ]
            ],
            "type": "histogram2dcontour"
           }
          ],
          "mesh3d": [
           {
            "colorbar": {
             "outlinewidth": 0,
             "ticks": ""
            },
            "type": "mesh3d"
           }
          ],
          "parcoords": [
           {
            "line": {
             "colorbar": {
              "outlinewidth": 0,
              "ticks": ""
             }
            },
            "type": "parcoords"
           }
          ],
          "pie": [
           {
            "automargin": true,
            "type": "pie"
           }
          ],
          "scatter": [
           {
            "fillpattern": {
             "fillmode": "overlay",
             "size": 10,
             "solidity": 0.2
            },
            "type": "scatter"
           }
          ],
          "scatter3d": [
           {
            "line": {
             "colorbar": {
              "outlinewidth": 0,
              "ticks": ""
             }
            },
            "marker": {
             "colorbar": {
              "outlinewidth": 0,
              "ticks": ""
             }
            },
            "type": "scatter3d"
           }
          ],
          "scattercarpet": [
           {
            "marker": {
             "colorbar": {
              "outlinewidth": 0,
              "ticks": ""
             }
            },
            "type": "scattercarpet"
           }
          ],
          "scattergeo": [
           {
            "marker": {
             "colorbar": {
              "outlinewidth": 0,
              "ticks": ""
             }
            },
            "type": "scattergeo"
           }
          ],
          "scattergl": [
           {
            "marker": {
             "colorbar": {
              "outlinewidth": 0,
              "ticks": ""
             }
            },
            "type": "scattergl"
           }
          ],
          "scattermapbox": [
           {
            "marker": {
             "colorbar": {
              "outlinewidth": 0,
              "ticks": ""
             }
            },
            "type": "scattermapbox"
           }
          ],
          "scatterpolar": [
           {
            "marker": {
             "colorbar": {
              "outlinewidth": 0,
              "ticks": ""
             }
            },
            "type": "scatterpolar"
           }
          ],
          "scatterpolargl": [
           {
            "marker": {
             "colorbar": {
              "outlinewidth": 0,
              "ticks": ""
             }
            },
            "type": "scatterpolargl"
           }
          ],
          "scatterternary": [
           {
            "marker": {
             "colorbar": {
              "outlinewidth": 0,
              "ticks": ""
             }
            },
            "type": "scatterternary"
           }
          ],
          "surface": [
           {
            "colorbar": {
             "outlinewidth": 0,
             "ticks": ""
            },
            "colorscale": [
             [
              0,
              "#0d0887"
             ],
             [
              0.1111111111111111,
              "#46039f"
             ],
             [
              0.2222222222222222,
              "#7201a8"
             ],
             [
              0.3333333333333333,
              "#9c179e"
             ],
             [
              0.4444444444444444,
              "#bd3786"
             ],
             [
              0.5555555555555556,
              "#d8576b"
             ],
             [
              0.6666666666666666,
              "#ed7953"
             ],
             [
              0.7777777777777778,
              "#fb9f3a"
             ],
             [
              0.8888888888888888,
              "#fdca26"
             ],
             [
              1,
              "#f0f921"
             ]
            ],
            "type": "surface"
           }
          ],
          "table": [
           {
            "cells": {
             "fill": {
              "color": "#EBF0F8"
             },
             "line": {
              "color": "white"
             }
            },
            "header": {
             "fill": {
              "color": "#C8D4E3"
             },
             "line": {
              "color": "white"
             }
            },
            "type": "table"
           }
          ]
         },
         "layout": {
          "annotationdefaults": {
           "arrowcolor": "#2a3f5f",
           "arrowhead": 0,
           "arrowwidth": 1
          },
          "autotypenumbers": "strict",
          "coloraxis": {
           "colorbar": {
            "outlinewidth": 0,
            "ticks": ""
           }
          },
          "colorscale": {
           "diverging": [
            [
             0,
             "#8e0152"
            ],
            [
             0.1,
             "#c51b7d"
            ],
            [
             0.2,
             "#de77ae"
            ],
            [
             0.3,
             "#f1b6da"
            ],
            [
             0.4,
             "#fde0ef"
            ],
            [
             0.5,
             "#f7f7f7"
            ],
            [
             0.6,
             "#e6f5d0"
            ],
            [
             0.7,
             "#b8e186"
            ],
            [
             0.8,
             "#7fbc41"
            ],
            [
             0.9,
             "#4d9221"
            ],
            [
             1,
             "#276419"
            ]
           ],
           "sequential": [
            [
             0,
             "#0d0887"
            ],
            [
             0.1111111111111111,
             "#46039f"
            ],
            [
             0.2222222222222222,
             "#7201a8"
            ],
            [
             0.3333333333333333,
             "#9c179e"
            ],
            [
             0.4444444444444444,
             "#bd3786"
            ],
            [
             0.5555555555555556,
             "#d8576b"
            ],
            [
             0.6666666666666666,
             "#ed7953"
            ],
            [
             0.7777777777777778,
             "#fb9f3a"
            ],
            [
             0.8888888888888888,
             "#fdca26"
            ],
            [
             1,
             "#f0f921"
            ]
           ],
           "sequentialminus": [
            [
             0,
             "#0d0887"
            ],
            [
             0.1111111111111111,
             "#46039f"
            ],
            [
             0.2222222222222222,
             "#7201a8"
            ],
            [
             0.3333333333333333,
             "#9c179e"
            ],
            [
             0.4444444444444444,
             "#bd3786"
            ],
            [
             0.5555555555555556,
             "#d8576b"
            ],
            [
             0.6666666666666666,
             "#ed7953"
            ],
            [
             0.7777777777777778,
             "#fb9f3a"
            ],
            [
             0.8888888888888888,
             "#fdca26"
            ],
            [
             1,
             "#f0f921"
            ]
           ]
          },
          "colorway": [
           "#636efa",
           "#EF553B",
           "#00cc96",
           "#ab63fa",
           "#FFA15A",
           "#19d3f3",
           "#FF6692",
           "#B6E880",
           "#FF97FF",
           "#FECB52"
          ],
          "font": {
           "color": "#2a3f5f"
          },
          "geo": {
           "bgcolor": "white",
           "lakecolor": "white",
           "landcolor": "#E5ECF6",
           "showlakes": true,
           "showland": true,
           "subunitcolor": "white"
          },
          "hoverlabel": {
           "align": "left"
          },
          "hovermode": "closest",
          "mapbox": {
           "style": "light"
          },
          "paper_bgcolor": "white",
          "plot_bgcolor": "#E5ECF6",
          "polar": {
           "angularaxis": {
            "gridcolor": "white",
            "linecolor": "white",
            "ticks": ""
           },
           "bgcolor": "#E5ECF6",
           "radialaxis": {
            "gridcolor": "white",
            "linecolor": "white",
            "ticks": ""
           }
          },
          "scene": {
           "xaxis": {
            "backgroundcolor": "#E5ECF6",
            "gridcolor": "white",
            "gridwidth": 2,
            "linecolor": "white",
            "showbackground": true,
            "ticks": "",
            "zerolinecolor": "white"
           },
           "yaxis": {
            "backgroundcolor": "#E5ECF6",
            "gridcolor": "white",
            "gridwidth": 2,
            "linecolor": "white",
            "showbackground": true,
            "ticks": "",
            "zerolinecolor": "white"
           },
           "zaxis": {
            "backgroundcolor": "#E5ECF6",
            "gridcolor": "white",
            "gridwidth": 2,
            "linecolor": "white",
            "showbackground": true,
            "ticks": "",
            "zerolinecolor": "white"
           }
          },
          "shapedefaults": {
           "line": {
            "color": "#2a3f5f"
           }
          },
          "ternary": {
           "aaxis": {
            "gridcolor": "white",
            "linecolor": "white",
            "ticks": ""
           },
           "baxis": {
            "gridcolor": "white",
            "linecolor": "white",
            "ticks": ""
           },
           "bgcolor": "#E5ECF6",
           "caxis": {
            "gridcolor": "white",
            "linecolor": "white",
            "ticks": ""
           }
          },
          "title": {
           "x": 0.05
          },
          "xaxis": {
           "automargin": true,
           "gridcolor": "white",
           "linecolor": "white",
           "ticks": "",
           "title": {
            "standoff": 15
           },
           "zerolinecolor": "white",
           "zerolinewidth": 2
          },
          "yaxis": {
           "automargin": true,
           "gridcolor": "white",
           "linecolor": "white",
           "ticks": "",
           "title": {
            "standoff": 15
           },
           "zerolinecolor": "white",
           "zerolinewidth": 2
          }
         }
        },
        "width": 1000
       }
      },
      "text/html": [
       "<div>                            <div id=\"df642563-5ba3-4dc9-af37-98d6aa5c7b26\" class=\"plotly-graph-div\" style=\"height:450px; width:1000px;\"></div>            <script type=\"text/javascript\">                require([\"plotly\"], function(Plotly) {                    window.PLOTLYENV=window.PLOTLYENV || {};                                    if (document.getElementById(\"df642563-5ba3-4dc9-af37-98d6aa5c7b26\")) {                    Plotly.newPlot(                        \"df642563-5ba3-4dc9-af37-98d6aa5c7b26\",                        [{\"hole\":0.45,\"labels\":[\"Entrepreneurs Season 1\",\"Entrepreneurs Season 2\",\"Entrepreneurs Season 3\"],\"textinfo\":\"value\",\"values\":[314,353,299],\"type\":\"pie\",\"domain\":{\"x\":[0.0,0.45],\"y\":[0.0,1.0]}},{\"hole\":0.45,\"labels\":[\"Startups in season 1\",\"Startups in season 2\",\"Startups in season 3\"],\"textinfo\":\"value\",\"values\":[152,169,157],\"type\":\"pie\",\"domain\":{\"x\":[0.55,1.0],\"y\":[0.0,1.0]}}],                        {\"template\":{\"data\":{\"histogram2dcontour\":[{\"type\":\"histogram2dcontour\",\"colorbar\":{\"outlinewidth\":0,\"ticks\":\"\"},\"colorscale\":[[0.0,\"#0d0887\"],[0.1111111111111111,\"#46039f\"],[0.2222222222222222,\"#7201a8\"],[0.3333333333333333,\"#9c179e\"],[0.4444444444444444,\"#bd3786\"],[0.5555555555555556,\"#d8576b\"],[0.6666666666666666,\"#ed7953\"],[0.7777777777777778,\"#fb9f3a\"],[0.8888888888888888,\"#fdca26\"],[1.0,\"#f0f921\"]]}],\"choropleth\":[{\"type\":\"choropleth\",\"colorbar\":{\"outlinewidth\":0,\"ticks\":\"\"}}],\"histogram2d\":[{\"type\":\"histogram2d\",\"colorbar\":{\"outlinewidth\":0,\"ticks\":\"\"},\"colorscale\":[[0.0,\"#0d0887\"],[0.1111111111111111,\"#46039f\"],[0.2222222222222222,\"#7201a8\"],[0.3333333333333333,\"#9c179e\"],[0.4444444444444444,\"#bd3786\"],[0.5555555555555556,\"#d8576b\"],[0.6666666666666666,\"#ed7953\"],[0.7777777777777778,\"#fb9f3a\"],[0.8888888888888888,\"#fdca26\"],[1.0,\"#f0f921\"]]}],\"heatmap\":[{\"type\":\"heatmap\",\"colorbar\":{\"outlinewidth\":0,\"ticks\":\"\"},\"colorscale\":[[0.0,\"#0d0887\"],[0.1111111111111111,\"#46039f\"],[0.2222222222222222,\"#7201a8\"],[0.3333333333333333,\"#9c179e\"],[0.4444444444444444,\"#bd3786\"],[0.5555555555555556,\"#d8576b\"],[0.6666666666666666,\"#ed7953\"],[0.7777777777777778,\"#fb9f3a\"],[0.8888888888888888,\"#fdca26\"],[1.0,\"#f0f921\"]]}],\"heatmapgl\":[{\"type\":\"heatmapgl\",\"colorbar\":{\"outlinewidth\":0,\"ticks\":\"\"},\"colorscale\":[[0.0,\"#0d0887\"],[0.1111111111111111,\"#46039f\"],[0.2222222222222222,\"#7201a8\"],[0.3333333333333333,\"#9c179e\"],[0.4444444444444444,\"#bd3786\"],[0.5555555555555556,\"#d8576b\"],[0.6666666666666666,\"#ed7953\"],[0.7777777777777778,\"#fb9f3a\"],[0.8888888888888888,\"#fdca26\"],[1.0,\"#f0f921\"]]}],\"contourcarpet\":[{\"type\":\"contourcarpet\",\"colorbar\":{\"outlinewidth\":0,\"ticks\":\"\"}}],\"contour\":[{\"type\":\"contour\",\"colorbar\":{\"outlinewidth\":0,\"ticks\":\"\"},\"colorscale\":[[0.0,\"#0d0887\"],[0.1111111111111111,\"#46039f\"],[0.2222222222222222,\"#7201a8\"],[0.3333333333333333,\"#9c179e\"],[0.4444444444444444,\"#bd3786\"],[0.5555555555555556,\"#d8576b\"],[0.6666666666666666,\"#ed7953\"],[0.7777777777777778,\"#fb9f3a\"],[0.8888888888888888,\"#fdca26\"],[1.0,\"#f0f921\"]]}],\"surface\":[{\"type\":\"surface\",\"colorbar\":{\"outlinewidth\":0,\"ticks\":\"\"},\"colorscale\":[[0.0,\"#0d0887\"],[0.1111111111111111,\"#46039f\"],[0.2222222222222222,\"#7201a8\"],[0.3333333333333333,\"#9c179e\"],[0.4444444444444444,\"#bd3786\"],[0.5555555555555556,\"#d8576b\"],[0.6666666666666666,\"#ed7953\"],[0.7777777777777778,\"#fb9f3a\"],[0.8888888888888888,\"#fdca26\"],[1.0,\"#f0f921\"]]}],\"mesh3d\":[{\"type\":\"mesh3d\",\"colorbar\":{\"outlinewidth\":0,\"ticks\":\"\"}}],\"scatter\":[{\"fillpattern\":{\"fillmode\":\"overlay\",\"size\":10,\"solidity\":0.2},\"type\":\"scatter\"}],\"parcoords\":[{\"type\":\"parcoords\",\"line\":{\"colorbar\":{\"outlinewidth\":0,\"ticks\":\"\"}}}],\"scatterpolargl\":[{\"type\":\"scatterpolargl\",\"marker\":{\"colorbar\":{\"outlinewidth\":0,\"ticks\":\"\"}}}],\"bar\":[{\"error_x\":{\"color\":\"#2a3f5f\"},\"error_y\":{\"color\":\"#2a3f5f\"},\"marker\":{\"line\":{\"color\":\"#E5ECF6\",\"width\":0.5},\"pattern\":{\"fillmode\":\"overlay\",\"size\":10,\"solidity\":0.2}},\"type\":\"bar\"}],\"scattergeo\":[{\"type\":\"scattergeo\",\"marker\":{\"colorbar\":{\"outlinewidth\":0,\"ticks\":\"\"}}}],\"scatterpolar\":[{\"type\":\"scatterpolar\",\"marker\":{\"colorbar\":{\"outlinewidth\":0,\"ticks\":\"\"}}}],\"histogram\":[{\"marker\":{\"pattern\":{\"fillmode\":\"overlay\",\"size\":10,\"solidity\":0.2}},\"type\":\"histogram\"}],\"scattergl\":[{\"type\":\"scattergl\",\"marker\":{\"colorbar\":{\"outlinewidth\":0,\"ticks\":\"\"}}}],\"scatter3d\":[{\"type\":\"scatter3d\",\"line\":{\"colorbar\":{\"outlinewidth\":0,\"ticks\":\"\"}},\"marker\":{\"colorbar\":{\"outlinewidth\":0,\"ticks\":\"\"}}}],\"scattermapbox\":[{\"type\":\"scattermapbox\",\"marker\":{\"colorbar\":{\"outlinewidth\":0,\"ticks\":\"\"}}}],\"scatterternary\":[{\"type\":\"scatterternary\",\"marker\":{\"colorbar\":{\"outlinewidth\":0,\"ticks\":\"\"}}}],\"scattercarpet\":[{\"type\":\"scattercarpet\",\"marker\":{\"colorbar\":{\"outlinewidth\":0,\"ticks\":\"\"}}}],\"carpet\":[{\"aaxis\":{\"endlinecolor\":\"#2a3f5f\",\"gridcolor\":\"white\",\"linecolor\":\"white\",\"minorgridcolor\":\"white\",\"startlinecolor\":\"#2a3f5f\"},\"baxis\":{\"endlinecolor\":\"#2a3f5f\",\"gridcolor\":\"white\",\"linecolor\":\"white\",\"minorgridcolor\":\"white\",\"startlinecolor\":\"#2a3f5f\"},\"type\":\"carpet\"}],\"table\":[{\"cells\":{\"fill\":{\"color\":\"#EBF0F8\"},\"line\":{\"color\":\"white\"}},\"header\":{\"fill\":{\"color\":\"#C8D4E3\"},\"line\":{\"color\":\"white\"}},\"type\":\"table\"}],\"barpolar\":[{\"marker\":{\"line\":{\"color\":\"#E5ECF6\",\"width\":0.5},\"pattern\":{\"fillmode\":\"overlay\",\"size\":10,\"solidity\":0.2}},\"type\":\"barpolar\"}],\"pie\":[{\"automargin\":true,\"type\":\"pie\"}]},\"layout\":{\"autotypenumbers\":\"strict\",\"colorway\":[\"#636efa\",\"#EF553B\",\"#00cc96\",\"#ab63fa\",\"#FFA15A\",\"#19d3f3\",\"#FF6692\",\"#B6E880\",\"#FF97FF\",\"#FECB52\"],\"font\":{\"color\":\"#2a3f5f\"},\"hovermode\":\"closest\",\"hoverlabel\":{\"align\":\"left\"},\"paper_bgcolor\":\"white\",\"plot_bgcolor\":\"#E5ECF6\",\"polar\":{\"bgcolor\":\"#E5ECF6\",\"angularaxis\":{\"gridcolor\":\"white\",\"linecolor\":\"white\",\"ticks\":\"\"},\"radialaxis\":{\"gridcolor\":\"white\",\"linecolor\":\"white\",\"ticks\":\"\"}},\"ternary\":{\"bgcolor\":\"#E5ECF6\",\"aaxis\":{\"gridcolor\":\"white\",\"linecolor\":\"white\",\"ticks\":\"\"},\"baxis\":{\"gridcolor\":\"white\",\"linecolor\":\"white\",\"ticks\":\"\"},\"caxis\":{\"gridcolor\":\"white\",\"linecolor\":\"white\",\"ticks\":\"\"}},\"coloraxis\":{\"colorbar\":{\"outlinewidth\":0,\"ticks\":\"\"}},\"colorscale\":{\"sequential\":[[0.0,\"#0d0887\"],[0.1111111111111111,\"#46039f\"],[0.2222222222222222,\"#7201a8\"],[0.3333333333333333,\"#9c179e\"],[0.4444444444444444,\"#bd3786\"],[0.5555555555555556,\"#d8576b\"],[0.6666666666666666,\"#ed7953\"],[0.7777777777777778,\"#fb9f3a\"],[0.8888888888888888,\"#fdca26\"],[1.0,\"#f0f921\"]],\"sequentialminus\":[[0.0,\"#0d0887\"],[0.1111111111111111,\"#46039f\"],[0.2222222222222222,\"#7201a8\"],[0.3333333333333333,\"#9c179e\"],[0.4444444444444444,\"#bd3786\"],[0.5555555555555556,\"#d8576b\"],[0.6666666666666666,\"#ed7953\"],[0.7777777777777778,\"#fb9f3a\"],[0.8888888888888888,\"#fdca26\"],[1.0,\"#f0f921\"]],\"diverging\":[[0,\"#8e0152\"],[0.1,\"#c51b7d\"],[0.2,\"#de77ae\"],[0.3,\"#f1b6da\"],[0.4,\"#fde0ef\"],[0.5,\"#f7f7f7\"],[0.6,\"#e6f5d0\"],[0.7,\"#b8e186\"],[0.8,\"#7fbc41\"],[0.9,\"#4d9221\"],[1,\"#276419\"]]},\"xaxis\":{\"gridcolor\":\"white\",\"linecolor\":\"white\",\"ticks\":\"\",\"title\":{\"standoff\":15},\"zerolinecolor\":\"white\",\"automargin\":true,\"zerolinewidth\":2},\"yaxis\":{\"gridcolor\":\"white\",\"linecolor\":\"white\",\"ticks\":\"\",\"title\":{\"standoff\":15},\"zerolinecolor\":\"white\",\"automargin\":true,\"zerolinewidth\":2},\"scene\":{\"xaxis\":{\"backgroundcolor\":\"#E5ECF6\",\"gridcolor\":\"white\",\"linecolor\":\"white\",\"showbackground\":true,\"ticks\":\"\",\"zerolinecolor\":\"white\",\"gridwidth\":2},\"yaxis\":{\"backgroundcolor\":\"#E5ECF6\",\"gridcolor\":\"white\",\"linecolor\":\"white\",\"showbackground\":true,\"ticks\":\"\",\"zerolinecolor\":\"white\",\"gridwidth\":2},\"zaxis\":{\"backgroundcolor\":\"#E5ECF6\",\"gridcolor\":\"white\",\"linecolor\":\"white\",\"showbackground\":true,\"ticks\":\"\",\"zerolinecolor\":\"white\",\"gridwidth\":2}},\"shapedefaults\":{\"line\":{\"color\":\"#2a3f5f\"}},\"annotationdefaults\":{\"arrowcolor\":\"#2a3f5f\",\"arrowhead\":0,\"arrowwidth\":1},\"geo\":{\"bgcolor\":\"white\",\"landcolor\":\"#E5ECF6\",\"subunitcolor\":\"white\",\"showland\":true,\"showlakes\":true,\"lakecolor\":\"white\"},\"title\":{\"x\":0.05},\"mapbox\":{\"style\":\"light\"}}},\"font\":{\"size\":16},\"margin\":{\"l\":40,\"r\":40,\"t\":30,\"b\":10},\"legend\":{\"orientation\":\"v\",\"yanchor\":\"bottom\",\"y\":0.6,\"xanchor\":\"right\",\"x\":1.5},\"width\":1000,\"height\":450,\"paper_bgcolor\":\"white\",\"plot_bgcolor\":\"white\",\"showlegend\":true,\"annotations\":[{\"showarrow\":false,\"text\":\"Total Entrepreneurs per Season\",\"x\":0,\"xref\":\"paper\",\"y\":1,\"yref\":\"paper\"},{\"showarrow\":false,\"text\":\"Total Startups per Season\",\"x\":0.95,\"xref\":\"paper\",\"y\":1,\"yref\":\"paper\"}]},                        {\"responsive\": true}                    ).then(function(){\n",
       "                            \n",
       "var gd = document.getElementById('df642563-5ba3-4dc9-af37-98d6aa5c7b26');\n",
       "var x = new MutationObserver(function (mutations, observer) {{\n",
       "        var display = window.getComputedStyle(gd).display;\n",
       "        if (!display || display === 'none') {{\n",
       "            console.log([gd, 'removed!']);\n",
       "            Plotly.purge(gd);\n",
       "            observer.disconnect();\n",
       "        }}\n",
       "}});\n",
       "\n",
       "// Listen for the removal of the full notebook cells\n",
       "var notebookContainer = gd.closest('#notebook-container');\n",
       "if (notebookContainer) {{\n",
       "    x.observe(notebookContainer, {childList: true});\n",
       "}}\n",
       "\n",
       "// Listen for the clearing of the current output cell\n",
       "var outputEl = gd.closest('.output');\n",
       "if (outputEl) {{\n",
       "    x.observe(outputEl, {childList: true});\n",
       "}}\n",
       "\n",
       "                        })                };                });            </script>        </div>"
      ]
     },
     "metadata": {},
     "output_type": "display_data"
    }
   ],
   "source": [
    "# Plot for number of startups and entreprenuers \n",
    "\n",
    "startups_season_one = tank_df[['season_number', 'startup_name']].groupby('season_number').count().values[0, 0]\n",
    "startups_season_two = tank_df[['season_number', 'startup_name']].groupby('season_number').count().values[1, 0]\n",
    "startups_season_three = tank_df[['season_number', 'startup_name']].groupby('season_number').count().values[2, 0]\n",
    "\n",
    "labels_entre = [\"Entrepreneurs Season 1\", \"Entrepreneurs Season 2\", \"Entrepreneurs Season 3\"]\n",
    "values_entre = [\n",
    "    total_entrepreneurs_season(1),\n",
    "    total_entrepreneurs_season(2),\n",
    "    total_entrepreneurs_season(3)\n",
    "]\n",
    "\n",
    "labels_startup = ['Startups in season 1', 'Startups in season 2', 'Startups in season 3']\n",
    "values_startup = [startups_season_one, startups_season_two, startups_season_three]\n",
    "\n",
    "fig = make_subplots(\n",
    "    rows=1, cols=2,\n",
    "    specs=[[{\"type\": \"pie\"}, {\"type\": \"pie\"}]]\n",
    ")\n",
    "\n",
    "fig.add_trace(\n",
    "    go.Pie(labels=labels_entre, values=values_entre, hole=.45, textinfo='value'),\n",
    "    row=1, col=1\n",
    ")\n",
    "\n",
    "fig.add_trace(\n",
    "    go.Pie(labels=labels_startup, values=values_startup, hole=.45, textinfo='value'),\n",
    "    row=1, col=2\n",
    ")\n",
    "\n",
    "fig.update_layout(\n",
    "    font=dict(size=16),\n",
    "    width=1000,\n",
    "    height=450,\n",
    "    margin=dict(l=40, r=40, t=30, b=10),\n",
    "    paper_bgcolor=\"white\",\n",
    "    plot_bgcolor=\"white\",\n",
    "    showlegend=True,\n",
    "    legend=dict(orientation=\"v\", yanchor=\"bottom\", y=0.6, xanchor=\"right\", x=1.5),\n",
    "    annotations=[\n",
    "        dict(\n",
    "            text=\"Total Entrepreneurs per Season\",\n",
    "            x=0,\n",
    "            y=1,\n",
    "            xref=\"paper\",\n",
    "            yref=\"paper\",\n",
    "            showarrow=False\n",
    "        ),\n",
    "        dict(\n",
    "            text=\"Total Startups per Season\",\n",
    "            x=0.95,\n",
    "            y=1,\n",
    "            xref=\"paper\",\n",
    "            yref=\"paper\",\n",
    "            showarrow=False\n",
    "        )\n",
    "    ]\n",
    ")\n",
    "\n",
    "fig.show()"
   ]
  },
  {
   "cell_type": "markdown",
   "id": "f47d560d-dc29-43d3-ae54-5b9264a619ab",
   "metadata": {
    "jp-MarkdownHeadingCollapsed": true
   },
   "source": [
    "#### Compute the percentage of startups getting offers?"
   ]
  },
  {
   "cell_type": "code",
   "execution_count": 14,
   "id": "c7b65801-51c2-4f38-8ad3-794d7102955e",
   "metadata": {
    "jupyter": {
     "source_hidden": true
    }
   },
   "outputs": [
    {
     "name": "stdout",
     "output_type": "stream",
     "text": [
      "Total Number of offers received: 321\n",
      "Total Number of pitches: 478\n",
      "\n",
      "Percentage of Startups getting offer: 67.15%\n",
      "\n",
      "Percentage of Startups getting offer in season 1: 63.16%\n",
      "Percentage of Startups getting offer in season 2: 71.6%\n",
      "Percentage of Startups getting offer in season 3: 66.24%\n"
     ]
    }
   ],
   "source": [
    "# Percentage of offers \n",
    "def percentage_offers(season_number):\n",
    "    total_offers_received = tank_df['received_offer'].loc[\n",
    "        tank_df['season_number'] == season_number\n",
    "    ].sum()\n",
    "    \n",
    "    total_startups = tank_df['startup_name'].loc[\n",
    "        tank_df['season_number'] == season_number\n",
    "    ].shape[0]\n",
    "\n",
    "    return ((total_offers_received / total_startups) * 100).round(2)\n",
    "\n",
    "total_offers_received = tank_df['received_offer'].sum()\n",
    "total_startups = tank_df['startup_name'].shape[0]\n",
    "\n",
    "offers = ((total_offers_received / total_startups) * 100).round(2)\n",
    "\n",
    "print(f\"Total Number of offers received: {total_offers_received}\")\n",
    "print(f\"Total Number of pitches: {total_startups}\")\n",
    "print()\n",
    "print(f\"Percentage of Startups getting offer: {offers}%\")\n",
    "print()\n",
    "print(f\"Percentage of Startups getting offer in season 1: {percentage_offers(1)}%\")\n",
    "print(f\"Percentage of Startups getting offer in season 2: {percentage_offers(2)}%\")\n",
    "print(f\"Percentage of Startups getting offer in season 3: {percentage_offers(3)}%\")"
   ]
  },
  {
   "cell_type": "markdown",
   "id": "e19b76ef-6456-440d-a310-1e4e2cbb0846",
   "metadata": {
    "jp-MarkdownHeadingCollapsed": true
   },
   "source": [
    "#### Top five Industries that got offers in all Shark tank India seasons"
   ]
  },
  {
   "cell_type": "code",
   "execution_count": 65,
   "id": "f0c80da6-8f85-4c3d-a0f8-1ef2124e47af",
   "metadata": {
    "jupyter": {
     "source_hidden": true
    }
   },
   "outputs": [
    {
     "data": {
      "text/html": [
       "<div>\n",
       "<style scoped>\n",
       "    .dataframe tbody tr th:only-of-type {\n",
       "        vertical-align: middle;\n",
       "    }\n",
       "\n",
       "    .dataframe tbody tr th {\n",
       "        vertical-align: top;\n",
       "    }\n",
       "\n",
       "    .dataframe thead th {\n",
       "        text-align: right;\n",
       "    }\n",
       "</style>\n",
       "<table border=\"1\" class=\"dataframe\">\n",
       "  <thead>\n",
       "    <tr style=\"text-align: right;\">\n",
       "      <th></th>\n",
       "      <th>Total startups</th>\n",
       "      <th>Got Offer</th>\n",
       "      <th>Got Offer (%)</th>\n",
       "    </tr>\n",
       "    <tr>\n",
       "      <th>industry</th>\n",
       "      <th></th>\n",
       "      <th></th>\n",
       "      <th></th>\n",
       "    </tr>\n",
       "  </thead>\n",
       "  <tbody>\n",
       "    <tr>\n",
       "      <th>Healthcare</th>\n",
       "      <td>37</td>\n",
       "      <td>33</td>\n",
       "      <td>89.19</td>\n",
       "    </tr>\n",
       "    <tr>\n",
       "      <th>Food</th>\n",
       "      <td>107</td>\n",
       "      <td>77</td>\n",
       "      <td>71.96</td>\n",
       "    </tr>\n",
       "    <tr>\n",
       "      <th>Technology</th>\n",
       "      <td>49</td>\n",
       "      <td>35</td>\n",
       "      <td>71.43</td>\n",
       "    </tr>\n",
       "    <tr>\n",
       "      <th>Fashion</th>\n",
       "      <td>95</td>\n",
       "      <td>66</td>\n",
       "      <td>69.47</td>\n",
       "    </tr>\n",
       "    <tr>\n",
       "      <th>Manufacturing</th>\n",
       "      <td>50</td>\n",
       "      <td>29</td>\n",
       "      <td>58.00</td>\n",
       "    </tr>\n",
       "  </tbody>\n",
       "</table>\n",
       "</div>"
      ],
      "text/plain": [
       "               Total startups  Got Offer  Got Offer (%)\n",
       "industry                                               \n",
       "Healthcare                 37         33          89.19\n",
       "Food                      107         77          71.96\n",
       "Technology                 49         35          71.43\n",
       "Fashion                    95         66          69.47\n",
       "Manufacturing              50         29          58.00"
      ]
     },
     "execution_count": 65,
     "metadata": {},
     "output_type": "execute_result"
    }
   ],
   "source": [
    "startup_deals['Total startups'] = tank_df[['industry', 'startup_name']].groupby('industry').count().rename(\n",
    "    columns = {\n",
    "        \"startup_name\": \"Total startups\"\n",
    "    }\n",
    ")\n",
    "\n",
    "startup_deals['Got Offer'] = tank_df.loc[\n",
    "    tank_df['received_offer'] == 1,\n",
    "    ['industry', 'startup_name']\n",
    "].groupby('industry').count().rename(\n",
    "    columns = {\n",
    "        \"startup_name\": \"Got Offer\"\n",
    "    }\n",
    ")\n",
    "\n",
    "\n",
    "\n",
    "\n",
    "startup_deals['Got Offer (%)'] = ((startup_deals['Got Offer'] / startup_deals['Total startups']) * 100).round(2)\n",
    "startup_deals.sort_values('Got Offer', ascending=False).iloc[:5, :].sort_values('Got Offer (%)', ascending=False)"
   ]
  },
  {
   "cell_type": "code",
   "execution_count": 17,
   "id": "2f020527-01ca-40ce-8962-9a0d26c7cf24",
   "metadata": {},
   "outputs": [
    {
     "name": "stdout",
     "output_type": "stream",
     "text": [
      "Conclusion: \n",
      "\n",
      "A statrup in Healthcare, Food, Technology, Fashion, Manufacturing is more likely to get an offer\n"
     ]
    }
   ],
   "source": [
    "# Conclusion!\n",
    "\n",
    "print(\"\"\"Conclusion: \n",
    "\n",
    "A statrup in Healthcare, Food, Technology, Fashion, Manufacturing is more likely to get an offer\"\"\")"
   ]
  },
  {
   "cell_type": "code",
   "execution_count": null,
   "id": "132cea9e-5026-4502-bc6c-0fc516c4f050",
   "metadata": {
    "jupyter": {
     "source_hidden": true
    }
   },
   "outputs": [],
   "source": [
    "# Total number of startups from different industries for a particular season\n",
    "\n",
    "def startup_offer_converted_by_season(season):\n",
    "    season_startup_industry = tank_df.loc[\n",
    "        tank_df['season_number'] == season\n",
    "    ][['industry', 'startup_name']].groupby('industry').count().rename(\n",
    "        columns = {\n",
    "            \"startup_name\": \"Startups\"\n",
    "        }\n",
    "    )\n",
    "    \n",
    "    season_startup_received_offer = tank_df.loc[\n",
    "        tank_df['season_number'] == season\n",
    "    ][['industry', 'startup_name']].loc[\n",
    "        tank_df['received_offer'] == 1\n",
    "    ].groupby('industry').count().rename(columns = {\n",
    "        \"startup_name\": \"Got Offer\"\n",
    "    })\n",
    "    \n",
    "    season_startup_deal = tank_df.loc[\n",
    "        tank_df['season_number'] == season\n",
    "    ][['industry', 'startup_name']].loc[\n",
    "        tank_df['deal_amount'] != 0\n",
    "    ].groupby('industry').count().rename(columns = {\n",
    "        \"startup_name\": \"Deals\"\n",
    "    })\n",
    "    \n",
    "    season_startup_offer = pd.merge(\n",
    "        season_startup_industry, \n",
    "        season_startup_received_offer, \n",
    "        on=\"industry\", how='left'\n",
    "    )\n",
    "    season_startup_deals = pd.merge(\n",
    "        season_startup_offer, \n",
    "        season_startup_deal, \n",
    "        on=\"industry\", how=\"left\"\n",
    "    )\n",
    "    \n",
    "    season_startup_deals['Got Offer (%)'] = (\n",
    "        (season_startup_deals['Got Offer'] / season_startup_deals['Startups']) * 100\n",
    "    ).round(2)\n",
    "    season_startup_deals['Offers converted (%)'] = (\n",
    "        (season_startup_deals['Deals'] / season_startup_deals['Got Offer']) * 100\n",
    "    ).round(2)\n",
    "    \n",
    "    season_startup_deals.fillna(0, inplace=True)\n",
    "    return season_startup_deals"
   ]
  },
  {
   "cell_type": "code",
   "execution_count": null,
   "id": "4bf43456-5eaa-48d1-b9ae-9995d1ac6453",
   "metadata": {
    "jupyter": {
     "source_hidden": true
    }
   },
   "outputs": [],
   "source": [
    "# Plot for total number of startups from different industries for a particular season \n",
    "\n",
    "def plot_startup_offer(season_number):\n",
    "    startup_data = startup_offer_converted_by_season(season_number)\n",
    "    \n",
    "    industry = startup_data.index\n",
    "    startups = startup_data.values[:, 0]\n",
    "    offers = startup_data.values[:, 1]\n",
    "    deals = startup_data.values[:, 2]\n",
    "    \n",
    "    fig = go.Figure()\n",
    "    fig.add_trace(go.Bar(\n",
    "        x=industry,\n",
    "        y=startups,\n",
    "        name='Startups',\n",
    "        marker_color='#5e548e'\n",
    "    ))\n",
    "    \n",
    "    fig.add_trace(go.Bar(\n",
    "        x=industry,\n",
    "        y=offers,\n",
    "        name='Total offers',\n",
    "        marker_color='#9f86c0'\n",
    "    ))\n",
    "    \n",
    "    fig.add_trace(go.Bar(\n",
    "        x=industry,\n",
    "        y=deals,\n",
    "        name='Total deals',\n",
    "        marker_color='#be95c4'\n",
    "    ))\n",
    "    \n",
    "    fig.update_layout(\n",
    "        barmode='group', \n",
    "        xaxis_tickangle=-45, \n",
    "        title=f\"Industry-wise Breakdown of Startup Offers and Deals for season {season_number}\",\n",
    "        height=350,\n",
    "        margin=dict(l=40, r=40, t=60, b=40),\n",
    "        plot_bgcolor='white',  \n",
    "        paper_bgcolor='white', \n",
    "        xaxis=dict(\n",
    "            showline=True,\n",
    "            linewidth=1,\n",
    "            linecolor='black',\n",
    "            autorange=True,\n",
    "            title='Industries',\n",
    "        ),\n",
    "        yaxis=dict(\n",
    "            showline=True,\n",
    "            linewidth=1,\n",
    "            linecolor='black',\n",
    "            autorange=True,\n",
    "            title='No. of startups',\n",
    "        )\n",
    "    )\n",
    "    \n",
    "    fig.show()"
   ]
  },
  {
   "cell_type": "markdown",
   "id": "56d79424-b49d-4080-9260-1185bc2c0dc3",
   "metadata": {
    "jp-MarkdownHeadingCollapsed": true
   },
   "source": [
    "#### Total number of startups from different industries with offer received rate and offers conversion rate"
   ]
  },
  {
   "cell_type": "code",
   "execution_count": 67,
   "id": "96ea7eef-dd1e-4e5f-9ede-a799fb4df8ba",
   "metadata": {
    "jupyter": {
     "source_hidden": true
    }
   },
   "outputs": [
    {
     "data": {
      "text/html": [
       "<div>\n",
       "<style scoped>\n",
       "    .dataframe tbody tr th:only-of-type {\n",
       "        vertical-align: middle;\n",
       "    }\n",
       "\n",
       "    .dataframe tbody tr th {\n",
       "        vertical-align: top;\n",
       "    }\n",
       "\n",
       "    .dataframe thead th {\n",
       "        text-align: right;\n",
       "    }\n",
       "</style>\n",
       "<table border=\"1\" class=\"dataframe\">\n",
       "  <thead>\n",
       "    <tr style=\"text-align: right;\">\n",
       "      <th></th>\n",
       "      <th>Number of Startups</th>\n",
       "      <th>Offers</th>\n",
       "      <th>Deals</th>\n",
       "      <th>Offers (%)</th>\n",
       "      <th>Offers converted (%)</th>\n",
       "    </tr>\n",
       "    <tr>\n",
       "      <th>industry</th>\n",
       "      <th></th>\n",
       "      <th></th>\n",
       "      <th></th>\n",
       "      <th></th>\n",
       "      <th></th>\n",
       "    </tr>\n",
       "  </thead>\n",
       "  <tbody>\n",
       "    <tr>\n",
       "      <th>Healthcare</th>\n",
       "      <td>37</td>\n",
       "      <td>33</td>\n",
       "      <td>30</td>\n",
       "      <td>89.19</td>\n",
       "      <td>90.91</td>\n",
       "    </tr>\n",
       "    <tr>\n",
       "      <th>Agriculture</th>\n",
       "      <td>4</td>\n",
       "      <td>3</td>\n",
       "      <td>3</td>\n",
       "      <td>75.00</td>\n",
       "      <td>100.00</td>\n",
       "    </tr>\n",
       "    <tr>\n",
       "      <th>Education</th>\n",
       "      <td>11</td>\n",
       "      <td>8</td>\n",
       "      <td>7</td>\n",
       "      <td>72.73</td>\n",
       "      <td>87.50</td>\n",
       "    </tr>\n",
       "    <tr>\n",
       "      <th>Food</th>\n",
       "      <td>107</td>\n",
       "      <td>77</td>\n",
       "      <td>60</td>\n",
       "      <td>71.96</td>\n",
       "      <td>77.92</td>\n",
       "    </tr>\n",
       "    <tr>\n",
       "      <th>Technology</th>\n",
       "      <td>49</td>\n",
       "      <td>35</td>\n",
       "      <td>30</td>\n",
       "      <td>71.43</td>\n",
       "      <td>85.71</td>\n",
       "    </tr>\n",
       "    <tr>\n",
       "      <th>Sports</th>\n",
       "      <td>10</td>\n",
       "      <td>7</td>\n",
       "      <td>7</td>\n",
       "      <td>70.00</td>\n",
       "      <td>100.00</td>\n",
       "    </tr>\n",
       "    <tr>\n",
       "      <th>Fashion</th>\n",
       "      <td>95</td>\n",
       "      <td>66</td>\n",
       "      <td>54</td>\n",
       "      <td>69.47</td>\n",
       "      <td>81.82</td>\n",
       "    </tr>\n",
       "    <tr>\n",
       "      <th>Others</th>\n",
       "      <td>3</td>\n",
       "      <td>2</td>\n",
       "      <td>2</td>\n",
       "      <td>66.67</td>\n",
       "      <td>100.00</td>\n",
       "    </tr>\n",
       "    <tr>\n",
       "      <th>Electronics</th>\n",
       "      <td>5</td>\n",
       "      <td>3</td>\n",
       "      <td>3</td>\n",
       "      <td>60.00</td>\n",
       "      <td>100.00</td>\n",
       "    </tr>\n",
       "    <tr>\n",
       "      <th>Beverages</th>\n",
       "      <td>15</td>\n",
       "      <td>9</td>\n",
       "      <td>8</td>\n",
       "      <td>60.00</td>\n",
       "      <td>88.89</td>\n",
       "    </tr>\n",
       "    <tr>\n",
       "      <th>Automobile</th>\n",
       "      <td>17</td>\n",
       "      <td>10</td>\n",
       "      <td>8</td>\n",
       "      <td>58.82</td>\n",
       "      <td>80.00</td>\n",
       "    </tr>\n",
       "    <tr>\n",
       "      <th>Manufacturing</th>\n",
       "      <td>50</td>\n",
       "      <td>29</td>\n",
       "      <td>25</td>\n",
       "      <td>58.00</td>\n",
       "      <td>86.21</td>\n",
       "    </tr>\n",
       "    <tr>\n",
       "      <th>Household</th>\n",
       "      <td>25</td>\n",
       "      <td>14</td>\n",
       "      <td>9</td>\n",
       "      <td>56.00</td>\n",
       "      <td>64.29</td>\n",
       "    </tr>\n",
       "    <tr>\n",
       "      <th>Services</th>\n",
       "      <td>39</td>\n",
       "      <td>20</td>\n",
       "      <td>17</td>\n",
       "      <td>51.28</td>\n",
       "      <td>85.00</td>\n",
       "    </tr>\n",
       "    <tr>\n",
       "      <th>Pet</th>\n",
       "      <td>6</td>\n",
       "      <td>3</td>\n",
       "      <td>2</td>\n",
       "      <td>50.00</td>\n",
       "      <td>66.67</td>\n",
       "    </tr>\n",
       "    <tr>\n",
       "      <th>Hardware</th>\n",
       "      <td>2</td>\n",
       "      <td>1</td>\n",
       "      <td>1</td>\n",
       "      <td>50.00</td>\n",
       "      <td>100.00</td>\n",
       "    </tr>\n",
       "    <tr>\n",
       "      <th>Entertainment</th>\n",
       "      <td>3</td>\n",
       "      <td>1</td>\n",
       "      <td>1</td>\n",
       "      <td>33.33</td>\n",
       "      <td>100.00</td>\n",
       "    </tr>\n",
       "  </tbody>\n",
       "</table>\n",
       "</div>"
      ],
      "text/plain": [
       "               Number of Startups  Offers  Deals  Offers (%)  \\\n",
       "industry                                                       \n",
       "Healthcare                     37      33     30       89.19   \n",
       "Agriculture                     4       3      3       75.00   \n",
       "Education                      11       8      7       72.73   \n",
       "Food                          107      77     60       71.96   \n",
       "Technology                     49      35     30       71.43   \n",
       "Sports                         10       7      7       70.00   \n",
       "Fashion                        95      66     54       69.47   \n",
       "Others                          3       2      2       66.67   \n",
       "Electronics                     5       3      3       60.00   \n",
       "Beverages                      15       9      8       60.00   \n",
       "Automobile                     17      10      8       58.82   \n",
       "Manufacturing                  50      29     25       58.00   \n",
       "Household                      25      14      9       56.00   \n",
       "Services                       39      20     17       51.28   \n",
       "Pet                             6       3      2       50.00   \n",
       "Hardware                        2       1      1       50.00   \n",
       "Entertainment                   3       1      1       33.33   \n",
       "\n",
       "               Offers converted (%)  \n",
       "industry                             \n",
       "Healthcare                    90.91  \n",
       "Agriculture                  100.00  \n",
       "Education                     87.50  \n",
       "Food                          77.92  \n",
       "Technology                    85.71  \n",
       "Sports                       100.00  \n",
       "Fashion                       81.82  \n",
       "Others                       100.00  \n",
       "Electronics                  100.00  \n",
       "Beverages                     88.89  \n",
       "Automobile                    80.00  \n",
       "Manufacturing                 86.21  \n",
       "Household                     64.29  \n",
       "Services                      85.00  \n",
       "Pet                           66.67  \n",
       "Hardware                     100.00  \n",
       "Entertainment                100.00  "
      ]
     },
     "execution_count": 67,
     "metadata": {},
     "output_type": "execute_result"
    }
   ],
   "source": [
    "# Grouping industries\n",
    "\n",
    "startup_industry = tank_df[['industry', 'startup_name']].groupby('industry').count().rename(\n",
    "    columns = {\n",
    "        \"startup_name\": \"Number of Startups\"\n",
    "    }\n",
    ")\n",
    "\n",
    "offer_industry = tank_df[['industry', 'startup_name']].loc[\n",
    "    tank_df['received_offer'] == 1\n",
    "].groupby('industry').count().rename(\n",
    "    columns = {\n",
    "        \"startup_name\": \"Offers\"\n",
    "    }\n",
    ")\n",
    "\n",
    "deal_offer_industry = tank_df[['industry', 'startup_name']].loc[\n",
    "    tank_df['deal_amount'] > 0\n",
    "].groupby('industry').count().rename(\n",
    "    columns = {\n",
    "        \"startup_name\": \"Deals\"\n",
    "    }\n",
    ")\n",
    "\n",
    "offer_result = pd.merge(startup_industry, offer_industry, on='industry', how=\"left\")\n",
    "result = pd.merge(offer_result, deal_offer_industry, on=\"industry\", how=\"left\")\n",
    "\n",
    "result['Offers (%)'] = ((result['Offers'] / result['Number of Startups']) * 100).round(2)\n",
    "result['Offers converted (%)'] = ((result['Deals'] / result['Offers']) * 100).round(2)\n",
    "\n",
    "offers_industries = result.sort_values('Offers (%)', ascending=False)\n",
    "offers_industries"
   ]
  },
  {
   "cell_type": "code",
   "execution_count": 68,
   "id": "e1944c02-1246-4d75-8450-9f70f5f4d1d8",
   "metadata": {
    "jupyter": {
     "source_hidden": true
    }
   },
   "outputs": [
    {
     "data": {
      "application/vnd.plotly.v1+json": {
       "config": {
        "plotlyServerURL": "https://plot.ly"
       },
       "data": [
        {
         "marker": {
          "color": "#ef476f"
         },
         "name": "Total startups",
         "type": "bar",
         "x": [
          "Healthcare",
          "Agriculture",
          "Education",
          "Food",
          "Technology",
          "Sports",
          "Fashion",
          "Others",
          "Electronics",
          "Beverages",
          "Automobile",
          "Manufacturing",
          "Household",
          "Services",
          "Pet",
          "Hardware",
          "Entertainment"
         ],
         "y": [
          37,
          4,
          11,
          107,
          49,
          10,
          95,
          3,
          5,
          15,
          17,
          50,
          25,
          39,
          6,
          2,
          3
         ]
        },
        {
         "marker": {
          "color": "#ffd166"
         },
         "name": "Starupts that Got offer",
         "type": "bar",
         "x": [
          "Healthcare",
          "Agriculture",
          "Education",
          "Food",
          "Technology",
          "Sports",
          "Fashion",
          "Others",
          "Electronics",
          "Beverages",
          "Automobile",
          "Manufacturing",
          "Household",
          "Services",
          "Pet",
          "Hardware",
          "Entertainment"
         ],
         "y": [
          33,
          3,
          8,
          77,
          35,
          7,
          66,
          2,
          3,
          9,
          10,
          29,
          14,
          20,
          3,
          1,
          1
         ]
        },
        {
         "marker": {
          "color": "#06d6a0"
         },
         "name": "Offers converted",
         "type": "bar",
         "x": [
          "Healthcare",
          "Agriculture",
          "Education",
          "Food",
          "Technology",
          "Sports",
          "Fashion",
          "Others",
          "Electronics",
          "Beverages",
          "Automobile",
          "Manufacturing",
          "Household",
          "Services",
          "Pet",
          "Hardware",
          "Entertainment"
         ],
         "y": [
          30,
          3,
          7,
          60,
          30,
          7,
          54,
          2,
          3,
          8,
          8,
          25,
          9,
          17,
          2,
          1,
          1
         ]
        }
       ],
       "layout": {
        "barmode": "group",
        "height": 360,
        "legend": {
         "orientation": "h",
         "x": 0.5,
         "y": 1.1
        },
        "paper_bgcolor": "white",
        "plot_bgcolor": "white",
        "template": {
         "data": {
          "bar": [
           {
            "error_x": {
             "color": "#2a3f5f"
            },
            "error_y": {
             "color": "#2a3f5f"
            },
            "marker": {
             "line": {
              "color": "#E5ECF6",
              "width": 0.5
             },
             "pattern": {
              "fillmode": "overlay",
              "size": 10,
              "solidity": 0.2
             }
            },
            "type": "bar"
           }
          ],
          "barpolar": [
           {
            "marker": {
             "line": {
              "color": "#E5ECF6",
              "width": 0.5
             },
             "pattern": {
              "fillmode": "overlay",
              "size": 10,
              "solidity": 0.2
             }
            },
            "type": "barpolar"
           }
          ],
          "carpet": [
           {
            "aaxis": {
             "endlinecolor": "#2a3f5f",
             "gridcolor": "white",
             "linecolor": "white",
             "minorgridcolor": "white",
             "startlinecolor": "#2a3f5f"
            },
            "baxis": {
             "endlinecolor": "#2a3f5f",
             "gridcolor": "white",
             "linecolor": "white",
             "minorgridcolor": "white",
             "startlinecolor": "#2a3f5f"
            },
            "type": "carpet"
           }
          ],
          "choropleth": [
           {
            "colorbar": {
             "outlinewidth": 0,
             "ticks": ""
            },
            "type": "choropleth"
           }
          ],
          "contour": [
           {
            "colorbar": {
             "outlinewidth": 0,
             "ticks": ""
            },
            "colorscale": [
             [
              0,
              "#0d0887"
             ],
             [
              0.1111111111111111,
              "#46039f"
             ],
             [
              0.2222222222222222,
              "#7201a8"
             ],
             [
              0.3333333333333333,
              "#9c179e"
             ],
             [
              0.4444444444444444,
              "#bd3786"
             ],
             [
              0.5555555555555556,
              "#d8576b"
             ],
             [
              0.6666666666666666,
              "#ed7953"
             ],
             [
              0.7777777777777778,
              "#fb9f3a"
             ],
             [
              0.8888888888888888,
              "#fdca26"
             ],
             [
              1,
              "#f0f921"
             ]
            ],
            "type": "contour"
           }
          ],
          "contourcarpet": [
           {
            "colorbar": {
             "outlinewidth": 0,
             "ticks": ""
            },
            "type": "contourcarpet"
           }
          ],
          "heatmap": [
           {
            "colorbar": {
             "outlinewidth": 0,
             "ticks": ""
            },
            "colorscale": [
             [
              0,
              "#0d0887"
             ],
             [
              0.1111111111111111,
              "#46039f"
             ],
             [
              0.2222222222222222,
              "#7201a8"
             ],
             [
              0.3333333333333333,
              "#9c179e"
             ],
             [
              0.4444444444444444,
              "#bd3786"
             ],
             [
              0.5555555555555556,
              "#d8576b"
             ],
             [
              0.6666666666666666,
              "#ed7953"
             ],
             [
              0.7777777777777778,
              "#fb9f3a"
             ],
             [
              0.8888888888888888,
              "#fdca26"
             ],
             [
              1,
              "#f0f921"
             ]
            ],
            "type": "heatmap"
           }
          ],
          "heatmapgl": [
           {
            "colorbar": {
             "outlinewidth": 0,
             "ticks": ""
            },
            "colorscale": [
             [
              0,
              "#0d0887"
             ],
             [
              0.1111111111111111,
              "#46039f"
             ],
             [
              0.2222222222222222,
              "#7201a8"
             ],
             [
              0.3333333333333333,
              "#9c179e"
             ],
             [
              0.4444444444444444,
              "#bd3786"
             ],
             [
              0.5555555555555556,
              "#d8576b"
             ],
             [
              0.6666666666666666,
              "#ed7953"
             ],
             [
              0.7777777777777778,
              "#fb9f3a"
             ],
             [
              0.8888888888888888,
              "#fdca26"
             ],
             [
              1,
              "#f0f921"
             ]
            ],
            "type": "heatmapgl"
           }
          ],
          "histogram": [
           {
            "marker": {
             "pattern": {
              "fillmode": "overlay",
              "size": 10,
              "solidity": 0.2
             }
            },
            "type": "histogram"
           }
          ],
          "histogram2d": [
           {
            "colorbar": {
             "outlinewidth": 0,
             "ticks": ""
            },
            "colorscale": [
             [
              0,
              "#0d0887"
             ],
             [
              0.1111111111111111,
              "#46039f"
             ],
             [
              0.2222222222222222,
              "#7201a8"
             ],
             [
              0.3333333333333333,
              "#9c179e"
             ],
             [
              0.4444444444444444,
              "#bd3786"
             ],
             [
              0.5555555555555556,
              "#d8576b"
             ],
             [
              0.6666666666666666,
              "#ed7953"
             ],
             [
              0.7777777777777778,
              "#fb9f3a"
             ],
             [
              0.8888888888888888,
              "#fdca26"
             ],
             [
              1,
              "#f0f921"
             ]
            ],
            "type": "histogram2d"
           }
          ],
          "histogram2dcontour": [
           {
            "colorbar": {
             "outlinewidth": 0,
             "ticks": ""
            },
            "colorscale": [
             [
              0,
              "#0d0887"
             ],
             [
              0.1111111111111111,
              "#46039f"
             ],
             [
              0.2222222222222222,
              "#7201a8"
             ],
             [
              0.3333333333333333,
              "#9c179e"
             ],
             [
              0.4444444444444444,
              "#bd3786"
             ],
             [
              0.5555555555555556,
              "#d8576b"
             ],
             [
              0.6666666666666666,
              "#ed7953"
             ],
             [
              0.7777777777777778,
              "#fb9f3a"
             ],
             [
              0.8888888888888888,
              "#fdca26"
             ],
             [
              1,
              "#f0f921"
             ]
            ],
            "type": "histogram2dcontour"
           }
          ],
          "mesh3d": [
           {
            "colorbar": {
             "outlinewidth": 0,
             "ticks": ""
            },
            "type": "mesh3d"
           }
          ],
          "parcoords": [
           {
            "line": {
             "colorbar": {
              "outlinewidth": 0,
              "ticks": ""
             }
            },
            "type": "parcoords"
           }
          ],
          "pie": [
           {
            "automargin": true,
            "type": "pie"
           }
          ],
          "scatter": [
           {
            "fillpattern": {
             "fillmode": "overlay",
             "size": 10,
             "solidity": 0.2
            },
            "type": "scatter"
           }
          ],
          "scatter3d": [
           {
            "line": {
             "colorbar": {
              "outlinewidth": 0,
              "ticks": ""
             }
            },
            "marker": {
             "colorbar": {
              "outlinewidth": 0,
              "ticks": ""
             }
            },
            "type": "scatter3d"
           }
          ],
          "scattercarpet": [
           {
            "marker": {
             "colorbar": {
              "outlinewidth": 0,
              "ticks": ""
             }
            },
            "type": "scattercarpet"
           }
          ],
          "scattergeo": [
           {
            "marker": {
             "colorbar": {
              "outlinewidth": 0,
              "ticks": ""
             }
            },
            "type": "scattergeo"
           }
          ],
          "scattergl": [
           {
            "marker": {
             "colorbar": {
              "outlinewidth": 0,
              "ticks": ""
             }
            },
            "type": "scattergl"
           }
          ],
          "scattermapbox": [
           {
            "marker": {
             "colorbar": {
              "outlinewidth": 0,
              "ticks": ""
             }
            },
            "type": "scattermapbox"
           }
          ],
          "scatterpolar": [
           {
            "marker": {
             "colorbar": {
              "outlinewidth": 0,
              "ticks": ""
             }
            },
            "type": "scatterpolar"
           }
          ],
          "scatterpolargl": [
           {
            "marker": {
             "colorbar": {
              "outlinewidth": 0,
              "ticks": ""
             }
            },
            "type": "scatterpolargl"
           }
          ],
          "scatterternary": [
           {
            "marker": {
             "colorbar": {
              "outlinewidth": 0,
              "ticks": ""
             }
            },
            "type": "scatterternary"
           }
          ],
          "surface": [
           {
            "colorbar": {
             "outlinewidth": 0,
             "ticks": ""
            },
            "colorscale": [
             [
              0,
              "#0d0887"
             ],
             [
              0.1111111111111111,
              "#46039f"
             ],
             [
              0.2222222222222222,
              "#7201a8"
             ],
             [
              0.3333333333333333,
              "#9c179e"
             ],
             [
              0.4444444444444444,
              "#bd3786"
             ],
             [
              0.5555555555555556,
              "#d8576b"
             ],
             [
              0.6666666666666666,
              "#ed7953"
             ],
             [
              0.7777777777777778,
              "#fb9f3a"
             ],
             [
              0.8888888888888888,
              "#fdca26"
             ],
             [
              1,
              "#f0f921"
             ]
            ],
            "type": "surface"
           }
          ],
          "table": [
           {
            "cells": {
             "fill": {
              "color": "#EBF0F8"
             },
             "line": {
              "color": "white"
             }
            },
            "header": {
             "fill": {
              "color": "#C8D4E3"
             },
             "line": {
              "color": "white"
             }
            },
            "type": "table"
           }
          ]
         },
         "layout": {
          "annotationdefaults": {
           "arrowcolor": "#2a3f5f",
           "arrowhead": 0,
           "arrowwidth": 1
          },
          "autotypenumbers": "strict",
          "coloraxis": {
           "colorbar": {
            "outlinewidth": 0,
            "ticks": ""
           }
          },
          "colorscale": {
           "diverging": [
            [
             0,
             "#8e0152"
            ],
            [
             0.1,
             "#c51b7d"
            ],
            [
             0.2,
             "#de77ae"
            ],
            [
             0.3,
             "#f1b6da"
            ],
            [
             0.4,
             "#fde0ef"
            ],
            [
             0.5,
             "#f7f7f7"
            ],
            [
             0.6,
             "#e6f5d0"
            ],
            [
             0.7,
             "#b8e186"
            ],
            [
             0.8,
             "#7fbc41"
            ],
            [
             0.9,
             "#4d9221"
            ],
            [
             1,
             "#276419"
            ]
           ],
           "sequential": [
            [
             0,
             "#0d0887"
            ],
            [
             0.1111111111111111,
             "#46039f"
            ],
            [
             0.2222222222222222,
             "#7201a8"
            ],
            [
             0.3333333333333333,
             "#9c179e"
            ],
            [
             0.4444444444444444,
             "#bd3786"
            ],
            [
             0.5555555555555556,
             "#d8576b"
            ],
            [
             0.6666666666666666,
             "#ed7953"
            ],
            [
             0.7777777777777778,
             "#fb9f3a"
            ],
            [
             0.8888888888888888,
             "#fdca26"
            ],
            [
             1,
             "#f0f921"
            ]
           ],
           "sequentialminus": [
            [
             0,
             "#0d0887"
            ],
            [
             0.1111111111111111,
             "#46039f"
            ],
            [
             0.2222222222222222,
             "#7201a8"
            ],
            [
             0.3333333333333333,
             "#9c179e"
            ],
            [
             0.4444444444444444,
             "#bd3786"
            ],
            [
             0.5555555555555556,
             "#d8576b"
            ],
            [
             0.6666666666666666,
             "#ed7953"
            ],
            [
             0.7777777777777778,
             "#fb9f3a"
            ],
            [
             0.8888888888888888,
             "#fdca26"
            ],
            [
             1,
             "#f0f921"
            ]
           ]
          },
          "colorway": [
           "#636efa",
           "#EF553B",
           "#00cc96",
           "#ab63fa",
           "#FFA15A",
           "#19d3f3",
           "#FF6692",
           "#B6E880",
           "#FF97FF",
           "#FECB52"
          ],
          "font": {
           "color": "#2a3f5f"
          },
          "geo": {
           "bgcolor": "white",
           "lakecolor": "white",
           "landcolor": "#E5ECF6",
           "showlakes": true,
           "showland": true,
           "subunitcolor": "white"
          },
          "hoverlabel": {
           "align": "left"
          },
          "hovermode": "closest",
          "mapbox": {
           "style": "light"
          },
          "paper_bgcolor": "white",
          "plot_bgcolor": "#E5ECF6",
          "polar": {
           "angularaxis": {
            "gridcolor": "white",
            "linecolor": "white",
            "ticks": ""
           },
           "bgcolor": "#E5ECF6",
           "radialaxis": {
            "gridcolor": "white",
            "linecolor": "white",
            "ticks": ""
           }
          },
          "scene": {
           "xaxis": {
            "backgroundcolor": "#E5ECF6",
            "gridcolor": "white",
            "gridwidth": 2,
            "linecolor": "white",
            "showbackground": true,
            "ticks": "",
            "zerolinecolor": "white"
           },
           "yaxis": {
            "backgroundcolor": "#E5ECF6",
            "gridcolor": "white",
            "gridwidth": 2,
            "linecolor": "white",
            "showbackground": true,
            "ticks": "",
            "zerolinecolor": "white"
           },
           "zaxis": {
            "backgroundcolor": "#E5ECF6",
            "gridcolor": "white",
            "gridwidth": 2,
            "linecolor": "white",
            "showbackground": true,
            "ticks": "",
            "zerolinecolor": "white"
           }
          },
          "shapedefaults": {
           "line": {
            "color": "#2a3f5f"
           }
          },
          "ternary": {
           "aaxis": {
            "gridcolor": "white",
            "linecolor": "white",
            "ticks": ""
           },
           "baxis": {
            "gridcolor": "white",
            "linecolor": "white",
            "ticks": ""
           },
           "bgcolor": "#E5ECF6",
           "caxis": {
            "gridcolor": "white",
            "linecolor": "white",
            "ticks": ""
           }
          },
          "title": {
           "x": 0.05
          },
          "xaxis": {
           "automargin": true,
           "gridcolor": "white",
           "linecolor": "white",
           "ticks": "",
           "title": {
            "standoff": 15
           },
           "zerolinecolor": "white",
           "zerolinewidth": 2
          },
          "yaxis": {
           "automargin": true,
           "gridcolor": "white",
           "linecolor": "white",
           "ticks": "",
           "title": {
            "standoff": 15
           },
           "zerolinecolor": "white",
           "zerolinewidth": 2
          }
         }
        },
        "title": {
         "text": "Industry-wise Breakdown of Startup Offers and Deals",
         "x": 0.5,
         "xanchor": "center",
         "y": 0.9,
         "yanchor": "top"
        },
        "xaxis": {
         "autorange": true,
         "linecolor": "black",
         "linewidth": 1,
         "range": [
          -0.5,
          16.5
         ],
         "showline": true,
         "tickangle": -45,
         "tickfont": {
          "size": 12
         },
         "title": {
          "text": "Industries"
         },
         "type": "category"
        },
        "yaxis": {
         "autorange": true,
         "linecolor": "black",
         "linewidth": 1,
         "range": [
          0,
          112.63157894736842
         ],
         "showline": true,
         "title": {
          "text": "No. of startups"
         },
         "type": "linear"
        }
       }
      },
      "image/png": "[encoded data removed]",
      "text/html": [
       "<div>                            <div id=\"8cfd3c60-bec8-4171-abe5-7136d37dbc6a\" class=\"plotly-graph-div\" style=\"height:525px; width:100%;\"></div>            <script type=\"text/javascript\">                require([\"plotly\"], function(Plotly) {                    window.PLOTLYENV=window.PLOTLYENV || {};                                    if (document.getElementById(\"8cfd3c60-bec8-4171-abe5-7136d37dbc6a\")) {                    Plotly.newPlot(                        \"8cfd3c60-bec8-4171-abe5-7136d37dbc6a\",                        [{\"marker\":{\"color\":\"#ef476f\"},\"name\":\"Total startups\",\"x\":[\"Healthcare\",\"Agriculture\",\"Education\",\"Food\",\"Technology\",\"Sports\",\"Fashion\",\"Others\",\"Electronics\",\"Beverages\",\"Automobile\",\"Manufacturing\",\"Household\",\"Services\",\"Pet\",\"Hardware\",\"Entertainment\"],\"y\":[37,4,11,107,49,10,95,3,5,15,17,50,25,39,6,2,3],\"type\":\"bar\"},{\"marker\":{\"color\":\"#ffd166\"},\"name\":\"Starupts that Got offer\",\"x\":[\"Healthcare\",\"Agriculture\",\"Education\",\"Food\",\"Technology\",\"Sports\",\"Fashion\",\"Others\",\"Electronics\",\"Beverages\",\"Automobile\",\"Manufacturing\",\"Household\",\"Services\",\"Pet\",\"Hardware\",\"Entertainment\"],\"y\":[33,3,8,77,35,7,66,2,3,9,10,29,14,20,3,1,1],\"type\":\"bar\"},{\"marker\":{\"color\":\"#06d6a0\"},\"name\":\"Offers converted\",\"x\":[\"Healthcare\",\"Agriculture\",\"Education\",\"Food\",\"Technology\",\"Sports\",\"Fashion\",\"Others\",\"Electronics\",\"Beverages\",\"Automobile\",\"Manufacturing\",\"Household\",\"Services\",\"Pet\",\"Hardware\",\"Entertainment\"],\"y\":[30,3,7,60,30,7,54,2,3,8,8,25,9,17,2,1,1],\"type\":\"bar\"}],                        {\"template\":{\"data\":{\"histogram2dcontour\":[{\"type\":\"histogram2dcontour\",\"colorbar\":{\"outlinewidth\":0,\"ticks\":\"\"},\"colorscale\":[[0.0,\"#0d0887\"],[0.1111111111111111,\"#46039f\"],[0.2222222222222222,\"#7201a8\"],[0.3333333333333333,\"#9c179e\"],[0.4444444444444444,\"#bd3786\"],[0.5555555555555556,\"#d8576b\"],[0.6666666666666666,\"#ed7953\"],[0.7777777777777778,\"#fb9f3a\"],[0.8888888888888888,\"#fdca26\"],[1.0,\"#f0f921\"]]}],\"choropleth\":[{\"type\":\"choropleth\",\"colorbar\":{\"outlinewidth\":0,\"ticks\":\"\"}}],\"histogram2d\":[{\"type\":\"histogram2d\",\"colorbar\":{\"outlinewidth\":0,\"ticks\":\"\"},\"colorscale\":[[0.0,\"#0d0887\"],[0.1111111111111111,\"#46039f\"],[0.2222222222222222,\"#7201a8\"],[0.3333333333333333,\"#9c179e\"],[0.4444444444444444,\"#bd3786\"],[0.5555555555555556,\"#d8576b\"],[0.6666666666666666,\"#ed7953\"],[0.7777777777777778,\"#fb9f3a\"],[0.8888888888888888,\"#fdca26\"],[1.0,\"#f0f921\"]]}],\"heatmap\":[{\"type\":\"heatmap\",\"colorbar\":{\"outlinewidth\":0,\"ticks\":\"\"},\"colorscale\":[[0.0,\"#0d0887\"],[0.1111111111111111,\"#46039f\"],[0.2222222222222222,\"#7201a8\"],[0.3333333333333333,\"#9c179e\"],[0.4444444444444444,\"#bd3786\"],[0.5555555555555556,\"#d8576b\"],[0.6666666666666666,\"#ed7953\"],[0.7777777777777778,\"#fb9f3a\"],[0.8888888888888888,\"#fdca26\"],[1.0,\"#f0f921\"]]}],\"heatmapgl\":[{\"type\":\"heatmapgl\",\"colorbar\":{\"outlinewidth\":0,\"ticks\":\"\"},\"colorscale\":[[0.0,\"#0d0887\"],[0.1111111111111111,\"#46039f\"],[0.2222222222222222,\"#7201a8\"],[0.3333333333333333,\"#9c179e\"],[0.4444444444444444,\"#bd3786\"],[0.5555555555555556,\"#d8576b\"],[0.6666666666666666,\"#ed7953\"],[0.7777777777777778,\"#fb9f3a\"],[0.8888888888888888,\"#fdca26\"],[1.0,\"#f0f921\"]]}],\"contourcarpet\":[{\"type\":\"contourcarpet\",\"colorbar\":{\"outlinewidth\":0,\"ticks\":\"\"}}],\"contour\":[{\"type\":\"contour\",\"colorbar\":{\"outlinewidth\":0,\"ticks\":\"\"},\"colorscale\":[[0.0,\"#0d0887\"],[0.1111111111111111,\"#46039f\"],[0.2222222222222222,\"#7201a8\"],[0.3333333333333333,\"#9c179e\"],[0.4444444444444444,\"#bd3786\"],[0.5555555555555556,\"#d8576b\"],[0.6666666666666666,\"#ed7953\"],[0.7777777777777778,\"#fb9f3a\"],[0.8888888888888888,\"#fdca26\"],[1.0,\"#f0f921\"]]}],\"surface\":[{\"type\":\"surface\",\"colorbar\":{\"outlinewidth\":0,\"ticks\":\"\"},\"colorscale\":[[0.0,\"#0d0887\"],[0.1111111111111111,\"#46039f\"],[0.2222222222222222,\"#7201a8\"],[0.3333333333333333,\"#9c179e\"],[0.4444444444444444,\"#bd3786\"],[0.5555555555555556,\"#d8576b\"],[0.6666666666666666,\"#ed7953\"],[0.7777777777777778,\"#fb9f3a\"],[0.8888888888888888,\"#fdca26\"],[1.0,\"#f0f921\"]]}],\"mesh3d\":[{\"type\":\"mesh3d\",\"colorbar\":{\"outlinewidth\":0,\"ticks\":\"\"}}],\"scatter\":[{\"fillpattern\":{\"fillmode\":\"overlay\",\"size\":10,\"solidity\":0.2},\"type\":\"scatter\"}],\"parcoords\":[{\"type\":\"parcoords\",\"line\":{\"colorbar\":{\"outlinewidth\":0,\"ticks\":\"\"}}}],\"scatterpolargl\":[{\"type\":\"scatterpolargl\",\"marker\":{\"colorbar\":{\"outlinewidth\":0,\"ticks\":\"\"}}}],\"bar\":[{\"error_x\":{\"color\":\"#2a3f5f\"},\"error_y\":{\"color\":\"#2a3f5f\"},\"marker\":{\"line\":{\"color\":\"#E5ECF6\",\"width\":0.5},\"pattern\":{\"fillmode\":\"overlay\",\"size\":10,\"solidity\":0.2}},\"type\":\"bar\"}],\"scattergeo\":[{\"type\":\"scattergeo\",\"marker\":{\"colorbar\":{\"outlinewidth\":0,\"ticks\":\"\"}}}],\"scatterpolar\":[{\"type\":\"scatterpolar\",\"marker\":{\"colorbar\":{\"outlinewidth\":0,\"ticks\":\"\"}}}],\"histogram\":[{\"marker\":{\"pattern\":{\"fillmode\":\"overlay\",\"size\":10,\"solidity\":0.2}},\"type\":\"histogram\"}],\"scattergl\":[{\"type\":\"scattergl\",\"marker\":{\"colorbar\":{\"outlinewidth\":0,\"ticks\":\"\"}}}],\"scatter3d\":[{\"type\":\"scatter3d\",\"line\":{\"colorbar\":{\"outlinewidth\":0,\"ticks\":\"\"}},\"marker\":{\"colorbar\":{\"outlinewidth\":0,\"ticks\":\"\"}}}],\"scattermapbox\":[{\"type\":\"scattermapbox\",\"marker\":{\"colorbar\":{\"outlinewidth\":0,\"ticks\":\"\"}}}],\"scatterternary\":[{\"type\":\"scatterternary\",\"marker\":{\"colorbar\":{\"outlinewidth\":0,\"ticks\":\"\"}}}],\"scattercarpet\":[{\"type\":\"scattercarpet\",\"marker\":{\"colorbar\":{\"outlinewidth\":0,\"ticks\":\"\"}}}],\"carpet\":[{\"aaxis\":{\"endlinecolor\":\"#2a3f5f\",\"gridcolor\":\"white\",\"linecolor\":\"white\",\"minorgridcolor\":\"white\",\"startlinecolor\":\"#2a3f5f\"},\"baxis\":{\"endlinecolor\":\"#2a3f5f\",\"gridcolor\":\"white\",\"linecolor\":\"white\",\"minorgridcolor\":\"white\",\"startlinecolor\":\"#2a3f5f\"},\"type\":\"carpet\"}],\"table\":[{\"cells\":{\"fill\":{\"color\":\"#EBF0F8\"},\"line\":{\"color\":\"white\"}},\"header\":{\"fill\":{\"color\":\"#C8D4E3\"},\"line\":{\"color\":\"white\"}},\"type\":\"table\"}],\"barpolar\":[{\"marker\":{\"line\":{\"color\":\"#E5ECF6\",\"width\":0.5},\"pattern\":{\"fillmode\":\"overlay\",\"size\":10,\"solidity\":0.2}},\"type\":\"barpolar\"}],\"pie\":[{\"automargin\":true,\"type\":\"pie\"}]},\"layout\":{\"autotypenumbers\":\"strict\",\"colorway\":[\"#636efa\",\"#EF553B\",\"#00cc96\",\"#ab63fa\",\"#FFA15A\",\"#19d3f3\",\"#FF6692\",\"#B6E880\",\"#FF97FF\",\"#FECB52\"],\"font\":{\"color\":\"#2a3f5f\"},\"hovermode\":\"closest\",\"hoverlabel\":{\"align\":\"left\"},\"paper_bgcolor\":\"white\",\"plot_bgcolor\":\"#E5ECF6\",\"polar\":{\"bgcolor\":\"#E5ECF6\",\"angularaxis\":{\"gridcolor\":\"white\",\"linecolor\":\"white\",\"ticks\":\"\"},\"radialaxis\":{\"gridcolor\":\"white\",\"linecolor\":\"white\",\"ticks\":\"\"}},\"ternary\":{\"bgcolor\":\"#E5ECF6\",\"aaxis\":{\"gridcolor\":\"white\",\"linecolor\":\"white\",\"ticks\":\"\"},\"baxis\":{\"gridcolor\":\"white\",\"linecolor\":\"white\",\"ticks\":\"\"},\"caxis\":{\"gridcolor\":\"white\",\"linecolor\":\"white\",\"ticks\":\"\"}},\"coloraxis\":{\"colorbar\":{\"outlinewidth\":0,\"ticks\":\"\"}},\"colorscale\":{\"sequential\":[[0.0,\"#0d0887\"],[0.1111111111111111,\"#46039f\"],[0.2222222222222222,\"#7201a8\"],[0.3333333333333333,\"#9c179e\"],[0.4444444444444444,\"#bd3786\"],[0.5555555555555556,\"#d8576b\"],[0.6666666666666666,\"#ed7953\"],[0.7777777777777778,\"#fb9f3a\"],[0.8888888888888888,\"#fdca26\"],[1.0,\"#f0f921\"]],\"sequentialminus\":[[0.0,\"#0d0887\"],[0.1111111111111111,\"#46039f\"],[0.2222222222222222,\"#7201a8\"],[0.3333333333333333,\"#9c179e\"],[0.4444444444444444,\"#bd3786\"],[0.5555555555555556,\"#d8576b\"],[0.6666666666666666,\"#ed7953\"],[0.7777777777777778,\"#fb9f3a\"],[0.8888888888888888,\"#fdca26\"],[1.0,\"#f0f921\"]],\"diverging\":[[0,\"#8e0152\"],[0.1,\"#c51b7d\"],[0.2,\"#de77ae\"],[0.3,\"#f1b6da\"],[0.4,\"#fde0ef\"],[0.5,\"#f7f7f7\"],[0.6,\"#e6f5d0\"],[0.7,\"#b8e186\"],[0.8,\"#7fbc41\"],[0.9,\"#4d9221\"],[1,\"#276419\"]]},\"xaxis\":{\"gridcolor\":\"white\",\"linecolor\":\"white\",\"ticks\":\"\",\"title\":{\"standoff\":15},\"zerolinecolor\":\"white\",\"automargin\":true,\"zerolinewidth\":2},\"yaxis\":{\"gridcolor\":\"white\",\"linecolor\":\"white\",\"ticks\":\"\",\"title\":{\"standoff\":15},\"zerolinecolor\":\"white\",\"automargin\":true,\"zerolinewidth\":2},\"scene\":{\"xaxis\":{\"backgroundcolor\":\"#E5ECF6\",\"gridcolor\":\"white\",\"linecolor\":\"white\",\"showbackground\":true,\"ticks\":\"\",\"zerolinecolor\":\"white\",\"gridwidth\":2},\"yaxis\":{\"backgroundcolor\":\"#E5ECF6\",\"gridcolor\":\"white\",\"linecolor\":\"white\",\"showbackground\":true,\"ticks\":\"\",\"zerolinecolor\":\"white\",\"gridwidth\":2},\"zaxis\":{\"backgroundcolor\":\"#E5ECF6\",\"gridcolor\":\"white\",\"linecolor\":\"white\",\"showbackground\":true,\"ticks\":\"\",\"zerolinecolor\":\"white\",\"gridwidth\":2}},\"shapedefaults\":{\"line\":{\"color\":\"#2a3f5f\"}},\"annotationdefaults\":{\"arrowcolor\":\"#2a3f5f\",\"arrowhead\":0,\"arrowwidth\":1},\"geo\":{\"bgcolor\":\"white\",\"landcolor\":\"#E5ECF6\",\"subunitcolor\":\"white\",\"showland\":true,\"showlakes\":true,\"lakecolor\":\"white\"},\"title\":{\"x\":0.05},\"mapbox\":{\"style\":\"light\"}}},\"xaxis\":{\"tickfont\":{\"size\":12},\"tickangle\":-45,\"title\":{\"text\":\"Industries\"},\"showline\":true,\"linewidth\":1,\"linecolor\":\"black\",\"autorange\":true},\"title\":{\"text\":\"Industry-wise Breakdown of Startup Offers and Deals\",\"y\":0.9,\"x\":0.5,\"xanchor\":\"center\",\"yanchor\":\"top\"},\"yaxis\":{\"title\":{\"text\":\"No. of startups\"},\"showline\":true,\"linewidth\":1,\"linecolor\":\"black\",\"autorange\":true},\"legend\":{\"x\":0.5,\"y\":1.1,\"orientation\":\"h\"},\"barmode\":\"group\",\"plot_bgcolor\":\"white\",\"paper_bgcolor\":\"white\"},                        {\"responsive\": true}                    ).then(function(){\n",
       "                            \n",
       "var gd = document.getElementById('8cfd3c60-bec8-4171-abe5-7136d37dbc6a');\n",
       "var x = new MutationObserver(function (mutations, observer) {{\n",
       "        var display = window.getComputedStyle(gd).display;\n",
       "        if (!display || display === 'none') {{\n",
       "            console.log([gd, 'removed!']);\n",
       "            Plotly.purge(gd);\n",
       "            observer.disconnect();\n",
       "        }}\n",
       "}});\n",
       "\n",
       "// Listen for the removal of the full notebook cells\n",
       "var notebookContainer = gd.closest('#notebook-container');\n",
       "if (notebookContainer) {{\n",
       "    x.observe(notebookContainer, {childList: true});\n",
       "}}\n",
       "\n",
       "// Listen for the clearing of the current output cell\n",
       "var outputEl = gd.closest('.output');\n",
       "if (outputEl) {{\n",
       "    x.observe(outputEl, {childList: true});\n",
       "}}\n",
       "\n",
       "                        })                };                });            </script>        </div>"
      ]
     },
     "metadata": {},
     "output_type": "display_data"
    }
   ],
   "source": [
    "# Plotting industries, offfers, deals\n",
    "\n",
    "industries = offers_industries.index\n",
    "startups = offers_industries.iloc[:, 0].values.tolist()\n",
    "offers = offers_industries.iloc[:, 1].values.tolist()\n",
    "deals = offers_industries.iloc[:, 2].values.tolist()\n",
    "\n",
    "fig = go.Figure()\n",
    "fig.add_trace(go.Bar(\n",
    "    x=industries,\n",
    "    y=startups,\n",
    "    name='Total startups',\n",
    "    marker_color='#ef476f'\n",
    "))\n",
    "fig.add_trace(go.Bar(\n",
    "    x=industries,\n",
    "    y=offers,\n",
    "    name='Starupts that Got offer',\n",
    "    marker_color='#ffd166'\n",
    "))\n",
    "fig.add_trace(go.Bar(\n",
    "    x=industries,\n",
    "    y=deals,\n",
    "    name='Offers converted',\n",
    "    marker_color='#06d6a0'\n",
    "))\n",
    "\n",
    "fig.update_layout(\n",
    "    barmode='group',\n",
    "    xaxis_tickangle=-45,\n",
    "    plot_bgcolor='white',  \n",
    "    paper_bgcolor='white', \n",
    "    title={\n",
    "        'text': 'Industry-wise Breakdown of Startup Offers and Deals',\n",
    "        'y': 0.9,\n",
    "        'x': 0.5,\n",
    "        'xanchor': 'center',\n",
    "        'yanchor': 'top'\n",
    "    },\n",
    "    xaxis=dict(\n",
    "        title='Industries',\n",
    "        showline=True,\n",
    "        linewidth=1,\n",
    "        linecolor='black',\n",
    "        tickfont=dict(size=12),\n",
    "        autorange=True\n",
    "    ),\n",
    "    yaxis=dict(\n",
    "        title='No. of startups',\n",
    "        showline=True,\n",
    "        linewidth=1,\n",
    "        linecolor='black',\n",
    "        autorange=True\n",
    "    ),\n",
    "    legend=dict(\n",
    "        x=0.5,\n",
    "        y=1.1,\n",
    "        orientation='h'\n",
    "    )\n",
    ")\n",
    "\n",
    "fig.show()"
   ]
  },
  {
   "cell_type": "markdown",
   "id": "bfcf47ca-70e6-4f06-a127-96ad908da413",
   "metadata": {
    "jp-MarkdownHeadingCollapsed": true
   },
   "source": [
    "#### Industry wise break-down of startups, offers and deals for a particular season"
   ]
  },
  {
   "cell_type": "code",
   "execution_count": null,
   "id": "fe9840d0-e85f-46a3-9468-b19cdcb7e6b7",
   "metadata": {
    "jupyter": {
     "source_hidden": true
    }
   },
   "outputs": [],
   "source": [
    "# Here 1, 2, 3 are the seasons\n",
    "\n",
    "plot_startup_offer(1)\n",
    "# plot_startup_offer(2)\n",
    "# plot_startup_offer(3)"
   ]
  },
  {
   "cell_type": "markdown",
   "id": "dad0c36a-09de-41d7-a0da-b65417b6aaf5",
   "metadata": {
    "jp-MarkdownHeadingCollapsed": true
   },
   "source": [
    "#### What is the average Yearly revenue and Monthly revenue of startups that got offer?"
   ]
  },
  {
   "cell_type": "code",
   "execution_count": null,
   "id": "672be89c-7af7-4c7e-868d-072a1c320195",
   "metadata": {
    "jupyter": {
     "source_hidden": true
    }
   },
   "outputs": [],
   "source": [
    "yearly_revenue = tank_df.loc[\n",
    "    tank_df['received_offer'] == 1\n",
    "]['yearly_revenue'].mean().round(2)\n",
    "\n",
    "monthly_sales = tank_df.loc[\n",
    "    tank_df['received_offer'] == 1\n",
    "]['monthly_sales'].mean().round(2)\n",
    "\n",
    "print(f'Average Yearly revenue of startups that got offer: {yearly_revenue} lakhs')\n",
    "print(f'Average Montly revenue of startups that got offer: {monthly_sales} lakhs')"
   ]
  },
  {
   "cell_type": "code",
   "execution_count": null,
   "id": "844d2de4-6b96-4e38-a80a-c0b5a4c16332",
   "metadata": {
    "jupyter": {
     "source_hidden": true
    }
   },
   "outputs": [],
   "source": [
    "# Yearly / monthly revenue\n",
    "\n",
    "yearly_revenue = tank_df.loc[\n",
    "    tank_df['received_offer'] == 1\n",
    "]['yearly_revenue'].round(2).tolist()\n",
    "\n",
    "monthly_revenue = tank_df.loc[\n",
    "    tank_df['received_offer'] == 1\n",
    "]['monthly_sales'].round(2).tolist()"
   ]
  },
  {
   "cell_type": "code",
   "execution_count": null,
   "id": "ff1fe75f-9797-488b-a707-65b3510858b5",
   "metadata": {
    "jupyter": {
     "source_hidden": true
    }
   },
   "outputs": [],
   "source": [
    "# Plot monthly vs yearly revenue\n",
    "\n",
    "data = {\n",
    "    'yearly_revenue': yearly_revenue,\n",
    "    'monthly_sales': monthly_revenue\n",
    "}\n",
    "plot_df = pd.DataFrame(data)\n",
    "\n",
    "# Prepare data for plotting\n",
    "yearly_revenue = plot_df['yearly_revenue'].round(2)\n",
    "monthly_revenue = plot_df['monthly_sales'].round(2)\n",
    "\n",
    "fig = go.Figure()\n",
    "\n",
    "# Add trace for monthly revenue\n",
    "fig.add_trace(go.Scatter(\n",
    "    x=plot_df['monthly_sales'],\n",
    "    y=plot_df['yearly_revenue'],\n",
    "    mode='markers',\n",
    "    marker=dict(\n",
    "        color='blue',\n",
    "        size=10,\n",
    "        symbol='circle',\n",
    "        line=dict(width=1, color='black')\n",
    "    ),\n",
    "    name='Monthly Revenue'\n",
    "))\n",
    "\n",
    "# Update layout for better readability\n",
    "fig.update_layout(\n",
    "    title='Monthly Revenue vs. Yearly Revenue of startups that got offer',\n",
    "    xaxis_title='Monthly Revenue (₹)',\n",
    "    yaxis_title='Yearly Revenue (₹)',\n",
    "    plot_bgcolor='white',\n",
    "    paper_bgcolor='white',\n",
    "    xaxis=dict(\n",
    "        showline=True,\n",
    "        linewidth=1,\n",
    "        linecolor='black'\n",
    "    ),\n",
    "    yaxis=dict(\n",
    "        showline=True,\n",
    "        linewidth=1,\n",
    "        linecolor='black'\n",
    "    ),\n",
    "    legend=dict(\n",
    "        x=0.1,\n",
    "        y=1.1,\n",
    "        orientation='h'\n",
    "    ),\n",
    "    title_font_size=16\n",
    ")\n",
    "\n",
    "fig.show()"
   ]
  },
  {
   "cell_type": "markdown",
   "id": "dc55cd67-2e26-480d-9064-5a1999e6b3ad",
   "metadata": {
    "jp-MarkdownHeadingCollapsed": true
   },
   "source": [
    "#### What is the average yearly revenue and monthly sales for startups in different industries?"
   ]
  },
  {
   "cell_type": "code",
   "execution_count": null,
   "id": "db800f53-4600-4269-99f8-78536cb030b7",
   "metadata": {
    "jupyter": {
     "source_hidden": true
    }
   },
   "outputs": [],
   "source": [
    "monthly_yearly_result = tank_df[[\n",
    "    'industry', 'yearly_revenue', 'monthly_sales'\n",
    "]].groupby('industry').mean().round(2).rename(\n",
    "    columns = {\n",
    "        \"yearly_revenue\": \"Yearly Revenue\",\n",
    "        \"monthly_sales\": \"Monthly Sales\"\n",
    "    }\n",
    ")"
   ]
  },
  {
   "cell_type": "code",
   "execution_count": null,
   "id": "54e096a3-0d1b-4519-ba1a-af68281b44da",
   "metadata": {
    "jupyter": {
     "source_hidden": true
    }
   },
   "outputs": [],
   "source": [
    "# Plot for monthly and yearly revenue per industry \n",
    "\n",
    "data = {\n",
    "    'Industry': monthly_yearly_result.index.tolist(),\n",
    "    'yearly_revenue': monthly_yearly_result['Yearly Revenue'].tolist(),\n",
    "    'monthly_revenue': monthly_yearly_result['Monthly Sales'].tolist()\n",
    "}\n",
    "df = pd.DataFrame(data)\n",
    "\n",
    "fig = go.Figure()\n",
    "\n",
    "fig.add_trace(go.Scatter(\n",
    "    x=df['yearly_revenue'],\n",
    "    y=df['Industry'],\n",
    "    mode='markers',\n",
    "    marker=dict(\n",
    "        color='#06d6a0',\n",
    "        size=10,\n",
    "        line=dict(width=1, color='black')\n",
    "    ),\n",
    "    name='Yearly Revenue'\n",
    "))\n",
    "\n",
    "# Add trace for Metric2\n",
    "fig.add_trace(go.Scatter(\n",
    "    x=df['monthly_revenue'],\n",
    "    y=df['Industry'],\n",
    "    mode='markers',\n",
    "    marker=dict(\n",
    "        color='#ef476f',\n",
    "        size=10,\n",
    "        line=dict(width=1, color='black')\n",
    "    ),\n",
    "    name='Monthly Revenue'\n",
    "))\n",
    "\n",
    "fig.update_layout(\n",
    "    title='Comparison of Monthly and Yearly revenue across Industries',\n",
    "    plot_bgcolor='white', \n",
    "    paper_bgcolor='white',\n",
    "    xaxis=dict(\n",
    "        title='Amount in Lakhs',\n",
    "        showline=True,\n",
    "        linewidth=1,\n",
    "        linecolor='black',\n",
    "        tickfont=dict(size=12),\n",
    "        autorange=True\n",
    "    ),\n",
    "    yaxis=dict(\n",
    "        title='Industries',\n",
    "        showline=True,\n",
    "        linewidth=1,\n",
    "        linecolor='black',\n",
    "        autorange=True\n",
    "    ),\n",
    "    legend=dict(\n",
    "        x=0.5,\n",
    "        y=1.1,\n",
    "        orientation='h'\n",
    "    )\n",
    ")\n",
    "\n",
    "fig.show()"
   ]
  },
  {
   "cell_type": "markdown",
   "id": "81805804-bea0-4af9-93eb-21d623ced32b",
   "metadata": {
    "jp-MarkdownHeadingCollapsed": true
   },
   "source": [
    "#### What is the percentage of startups getting offers from different Sharks?"
   ]
  },
  {
   "cell_type": "code",
   "execution_count": null,
   "id": "53968dbb-9b62-4d1a-b1b4-f844d9173e93",
   "metadata": {
    "jupyter": {
     "source_hidden": true
    }
   },
   "outputs": [],
   "source": [
    "# Computing guest sharks\n",
    "\n",
    "guest_shark_container = []\n",
    "\n",
    "def seperate_guest_values(value):\n",
    "    for guest in value.split(\",\"):\n",
    "        if guest not in guest_shark_container:\n",
    "            guest_shark_container.append(guest)\n",
    "    \n",
    "guest_names = tank_df['all_guest_names'].loc[\n",
    "    (~tank_df['all_guest_names'].isna()) &\n",
    "    (tank_df['all_guest_names'].str.contains(\",\")) |\n",
    "    (tank_df['all_guest_names']),\n",
    "].apply(seperate_guest_values)"
   ]
  },
  {
   "cell_type": "code",
   "execution_count": null,
   "id": "679e97ae-c499-4b8f-a4fe-a260ce0899e7",
   "metadata": {
    "jupyter": {
     "source_hidden": true
    }
   },
   "outputs": [],
   "source": [
    "guest_labels = []\n",
    "guest_values = []\n",
    "\n",
    "for name in guest_shark_container:\n",
    "    guest_present = tank_df.loc[\n",
    "        (tank_df['guest_present'] > 0) &\n",
    "        (~tank_df['all_guest_names'].isna()) &\n",
    "        (tank_df['all_guest_names'].str.contains(name))\n",
    "    ].shape[0]\n",
    "    \n",
    "    guest_invested = tank_df.loc[\n",
    "        (tank_df['guest_present'] > 0) &\n",
    "        (~tank_df['all_guest_names'].isna()) &\n",
    "        (tank_df['all_guest_names'].str.contains(name)) &\n",
    "        (tank_df['invested_guest_name'].str.contains(name))\n",
    "    ].shape[0]\n",
    "    \n",
    "    guest_percentage = (guest_invested / guest_present) * 100\n",
    "    \n",
    "    guest_values.append(np.round(guest_percentage, decimals=2))\n",
    "    guest_labels.append(name)"
   ]
  },
  {
   "cell_type": "code",
   "execution_count": null,
   "id": "f0829ed8-4d22-4134-8567-08643ae760c3",
   "metadata": {
    "jupyter": {
     "source_hidden": true
    }
   },
   "outputs": [],
   "source": [
    "# Computing sharks\n",
    "\n",
    "def startup_shark_offer(invertment_amount, shark_present):\n",
    "    return ((tank_df[[invertment_amount]].loc[\n",
    "        tank_df[invertment_amount] > 0\n",
    "    ].count() / tank_df[[invertment_amount]].loc[\n",
    "        tank_df[shark_present] == 1\n",
    "    ].count()) * 100).round(2).values[0]\n",
    "\n",
    "aman_offers = startup_shark_offer('aman_investment_amount', 'aman_present')\n",
    "amit_offers = startup_shark_offer('amit_investment_amount', 'amit_present')\n",
    "peyush_offers = startup_shark_offer('peyush_investment_amount', 'peyush_present')\n",
    "namita_offers = startup_shark_offer('namita_investment_amount', 'namita_present')\n",
    "anupam_offers = startup_shark_offer('anupam_investment_amount', 'anupam_present')\n",
    "ashneer_offers = startup_shark_offer('ashneer_investment_amount', 'ashneer_present')\n",
    "vineeta_offers = startup_shark_offer('vineeta_investment_amount', 'vineeta_present')\n",
    "\n",
    "shark_values = [aman_offers, amit_offers, peyush_offers, namita_offers, anupam_offers, ashneer_offers, vineeta_offers]\n",
    "shark_labels = [\"Aman Gupta\", \"Amit Jain\", \"Peyush Bansal\", \"Namita Thapar\", \"Anupam Mittal\", \"Ashneer Grover\", \"Vineeta Singh\"]"
   ]
  },
  {
   "cell_type": "code",
   "execution_count": null,
   "id": "8fd8e016-c059-400b-8a8e-9e19f69a4666",
   "metadata": {
    "jupyter": {
     "source_hidden": true
    }
   },
   "outputs": [],
   "source": [
    "# Plotting the \"Percentage of Pitches Each Shark Made an Offer\"\n",
    "\n",
    "colors = ['#3ec276'] * len(shark_labels) + ['#b1dfc6'] * len(guest_labels)\n",
    "\n",
    "fig = go.Figure(data=[go.Bar(\n",
    "    x=shark_labels + guest_labels,\n",
    "    y=shark_values + guest_values,\n",
    "    textposition='auto',\n",
    "    width=0.5,\n",
    "    text=shark_values + guest_values,\n",
    "    marker_color=colors,\n",
    "    marker_line_color='black',\n",
    "    marker_line_width=1,\n",
    "    opacity=1\n",
    ")])\n",
    "\n",
    "fig.update_layout(\n",
    "    title={\n",
    "        'text': 'Percentage of Pitches each Shark Made an Offer',\n",
    "        'y': 0.9,\n",
    "        'x': 0.5,\n",
    "        'xanchor': 'center',\n",
    "        'yanchor': 'top'\n",
    "    },\n",
    "    xaxis_tickangle=-45,\n",
    "    xaxis_tickfont_size=12,\n",
    "    width=1000,\n",
    "    height=500,\n",
    "    xaxis_title='Sharks',\n",
    "    yaxis_title='Number of offers (%)',\n",
    "    plot_bgcolor = 'white',\n",
    "    paper_bgcolor = 'white',\n",
    "    xaxis=dict(\n",
    "        showline=True,\n",
    "        linewidth=1.25,\n",
    "        linecolor='black'\n",
    "    ),\n",
    "    yaxis=dict(\n",
    "        showline=True,\n",
    "        linewidth=1.25,\n",
    "        linecolor='black'\n",
    "    ),\n",
    ")\n",
    "\n",
    "fig.show()"
   ]
  },
  {
   "cell_type": "code",
   "execution_count": null,
   "id": "d5b416ff",
   "metadata": {},
   "outputs": [],
   "source": []
  },
  {
   "cell_type": "markdown",
   "id": "08e573d2-ae7b-45a4-abac-7d300a69fef4",
   "metadata": {
    "jp-MarkdownHeadingCollapsed": true
   },
   "source": [
    "####  How does the average gross margin and net margin vary across industries?"
   ]
  },
  {
   "cell_type": "code",
   "execution_count": null,
   "id": "4d4b1769-eace-4597-9ebb-3fe2fd6e17ed",
   "metadata": {
    "jupyter": {
     "source_hidden": true
    }
   },
   "outputs": [],
   "source": [
    "# Gross margin / Net margin by 'Net margin'\n",
    "\n",
    "gross_net_result = tank_df[[\n",
    "    'industry', 'net_margin', 'gross_margin'\n",
    "]].groupby('industry').mean().round(2).rename(\n",
    "    columns = {\n",
    "        \"net_margin\": \"Net Margin\",\n",
    "        \"gross_margin\": \"Gross Margin\"\n",
    "    }\n",
    ").sort_values('Net Margin', ascending=False)\n",
    "\n",
    "gross_net_result"
   ]
  },
  {
   "cell_type": "code",
   "execution_count": null,
   "id": "63cb861f-14a2-4a49-8db3-176310bf83f6",
   "metadata": {
    "jupyter": {
     "source_hidden": true
    }
   },
   "outputs": [],
   "source": [
    "data = {\n",
    "    'Industry': gross_net_result.index,\n",
    "    'Net Margin': gross_net_result['Net Margin'].tolist(),\n",
    "    'Gross Margin': gross_net_result['Gross Margin'].tolist()\n",
    "}\n",
    "\n",
    "df = pd.DataFrame(data)\n",
    "\n",
    "fig = go.Figure()\n",
    "\n",
    "fig.add_trace(go.Bar(\n",
    "    x=df['Industry'],\n",
    "    y=df['Net Margin'],\n",
    "    name='Net Margin',\n",
    "    marker_color='#8390fa',\n",
    "))\n",
    "\n",
    "fig.add_trace(go.Bar(\n",
    "    x=df['Industry'],\n",
    "    y=df['Gross Margin'],\n",
    "    name='Gross Margin',\n",
    "    marker_color='#1d2f6f',\n",
    "))\n",
    "\n",
    "fig.update_layout(\n",
    "    barmode='group', \n",
    "    xaxis_tickangle=-45, \n",
    "    title='Comparison of Net Margin and Gross Margin Across Industries',\n",
    "    plot_bgcolor='white', \n",
    "    paper_bgcolor='white',\n",
    "    xaxis=dict(\n",
    "        title='Industry',\n",
    "        showline=True,\n",
    "        linewidth=1,\n",
    "        linecolor='black',\n",
    "        tickfont=dict(size=12),\n",
    "        autorange=True\n",
    "    ),\n",
    "    yaxis=dict(\n",
    "        title='Margin (%)',\n",
    "        showline=True,\n",
    "        linewidth=1,\n",
    "        linecolor='black',\n",
    "        autorange=True\n",
    "    ),\n",
    "    legend=dict(\n",
    "        x=0.6,\n",
    "        y=1.1,\n",
    "        orientation='h'\n",
    "    )\n",
    ")\n",
    "\n",
    "fig.show()"
   ]
  },
  {
   "cell_type": "markdown",
   "id": "092dc956-59a1-44eb-89d8-54ebfef55691",
   "metadata": {
    "jp-MarkdownHeadingCollapsed": true
   },
   "source": [
    "#### What is the distribution of startup founding years, and how does it relate to the success of securing investments?"
   ]
  },
  {
   "cell_type": "code",
   "execution_count": null,
   "id": "c39ecd24-b4ff-4bbb-949e-547bb98e6d1c",
   "metadata": {
    "jupyter": {
     "source_hidden": true
    }
   },
   "outputs": [],
   "source": [
    "total_startups = tank_df[\n",
    "    ['year_founded', 'startup_name']\n",
    "].groupby('year_founded').count().rename(\n",
    "    columns = {\n",
    "        \"startup_name\": \"Total Startups\"\n",
    "    }\n",
    ")\n",
    "\n",
    "startups_got_offer = tank_df.loc[\n",
    "    (tank_df['received_offer'] == 1),\n",
    "    ['year_founded', 'startup_name']\n",
    "].groupby('year_founded').count().rename(\n",
    "    columns = {\n",
    "        \"startup_name\": \"Got offer\"\n",
    "    }\n",
    ")\n",
    "\n",
    "startups_founded_result = pd.merge(\n",
    "    total_startups, startups_got_offer, \n",
    "    on=\"year_founded\", how=\"left\"\n",
    ").fillna(0)"
   ]
  },
  {
   "cell_type": "code",
   "execution_count": null,
   "id": "fbe136b1-f8c1-4049-b436-ae98b4e7b122",
   "metadata": {
    "jupyter": {
     "source_hidden": true
    }
   },
   "outputs": [],
   "source": [
    "# Plot startups that got offer by year\n",
    "\n",
    "data = {\n",
    "    'year_founded': startups_founded_result.index.astype(int).tolist(),\n",
    "    'Total Startups': startups_founded_result['Total Startups'].tolist(),\n",
    "    'Got offer': startups_founded_result['Got offer'].tolist()\n",
    "}\n",
    "df = pd.DataFrame(data)\n",
    "\n",
    "fig = go.Figure()\n",
    "\n",
    "fig.add_trace(go.Scatter(\n",
    "    x=df['year_founded'],\n",
    "    y=df['Total Startups'],\n",
    "    mode='lines+markers',\n",
    "    name='Total Startups',\n",
    "    marker=dict(color='#d00000', size=8),\n",
    "    line=dict(color='#d00000', width=2)\n",
    "))\n",
    "\n",
    "fig.add_trace(go.Scatter(\n",
    "    x=df['year_founded'],\n",
    "    y=df['Got offer'],\n",
    "    mode='lines+markers',\n",
    "    name='Got Offer',\n",
    "    marker=dict(color='#1a535c', size=8),\n",
    "    line=dict(color='#1a535c', width=2)\n",
    "))\n",
    "\n",
    "fig.update_layout(\n",
    "    title='Total Startups and Offers Received by Year Founded',\n",
    "    xaxis_title='Year Founded',\n",
    "    yaxis_title='Number of Startups',\n",
    "    plot_bgcolor='white', \n",
    "    paper_bgcolor='white',\n",
    "    xaxis=dict(\n",
    "        showline=True,\n",
    "        linewidth=1,\n",
    "        linecolor='black',\n",
    "        tickfont=dict(size=12),\n",
    "        autorange=True\n",
    "    ),\n",
    "    yaxis=dict(\n",
    "        showline=True,\n",
    "        linewidth=1,\n",
    "        linecolor='black',\n",
    "        autorange=True\n",
    "    ),\n",
    "    legend=dict(\n",
    "        x=0.25,\n",
    "        y=1.1,\n",
    "        orientation='h'\n",
    "    )\n",
    ")\n",
    "\n",
    "fig.show()"
   ]
  },
  {
   "cell_type": "code",
   "execution_count": null,
   "id": "dd9a4254-e767-46ab-bace-098efea298e8",
   "metadata": {
    "jupyter": {
     "source_hidden": true
    }
   },
   "outputs": [],
   "source": [
    "# Conclusion!\n",
    "\n",
    "print(\"\"\"Conclusion: \n",
    "\n",
    "A statrup founded around 2019 is more likely to get an offer\"\"\")"
   ]
  },
  {
   "cell_type": "markdown",
   "id": "1122da60-7117-46de-8e04-ba0569bd9971",
   "metadata": {
    "jp-MarkdownHeadingCollapsed": true
   },
   "source": [
    "#### How does the average age of presenters impact the likelihood of receiving an investment?"
   ]
  },
  {
   "cell_type": "code",
   "execution_count": null,
   "id": "4cb03b1d-791f-4951-b78e-42a9cadb248f",
   "metadata": {
    "jupyter": {
     "source_hidden": true
    }
   },
   "outputs": [],
   "source": [
    "total_startups_age = tank_df[['startup_name', 'pitchers_avg_age']].groupby('pitchers_avg_age').count().rename(\n",
    "    columns = {\n",
    "        \"startup_name\": \"Total Startups\"\n",
    "    }\n",
    ")\n",
    "\n",
    "startups_got_offer_age = tank_df[['startup_name', 'pitchers_avg_age']].loc[\n",
    "    tank_df['received_offer'] == 1\n",
    "].groupby('pitchers_avg_age').count().rename(\n",
    "    columns = {\n",
    "        \"startup_name\": \"Got offer\"\n",
    "    }\n",
    ")\n",
    "\n",
    "result_age = pd.merge(total_startups_age, startups_got_offer_age, on=\"pitchers_avg_age\", how=\"left\")\n",
    "result_age['Offer (%)'] = ((result_age['Got offer'] / result_age['Total Startups']) * 100).round(2)\n",
    "\n",
    "result_age"
   ]
  },
  {
   "cell_type": "code",
   "execution_count": null,
   "id": "31191626-627e-4932-9d2d-2002a5a920e1",
   "metadata": {
    "jupyter": {
     "source_hidden": true
    }
   },
   "outputs": [],
   "source": [
    "data = {\n",
    "    'pitchers_avg_age': result_age.index.tolist(),\n",
    "    'Total Startups': result_age['Total Startups'].tolist(),\n",
    "    'Got offer': result_age['Got offer'].tolist(),\n",
    "    'Offer (%)': result_age['Offer (%)'].tolist()\n",
    "}\n",
    "df = pd.DataFrame(data)\n",
    "\n",
    "categories = ['Total Startups', 'Got offer', 'Offer (%)']\n",
    "fig = go.Figure()\n",
    "\n",
    "for index, row in df.iterrows():\n",
    "    fig.add_trace(go.Scatterpolar(\n",
    "        r=row[categories].tolist() + [row[categories].tolist()[0]],\n",
    "        theta=categories + [categories[0]],\n",
    "        fill='toself',\n",
    "        name=row['pitchers_avg_age']\n",
    "    ))\n",
    "\n",
    "fig.update_layout(\n",
    "    polar=dict(\n",
    "        radialaxis=dict(visible=True, range=[0, max(df[categories].max())])\n",
    "    ),\n",
    "    title='Offers reveived  by Pitcher Age Group (<30 young, 30-50 middle, >50 old)',\n",
    "    plot_bgcolor='white',\n",
    "    paper_bgcolor='white',\n",
    "    width=600,  \n",
    "    height=500,\n",
    "    font_size=10\n",
    ")\n",
    "\n",
    "fig.show()"
   ]
  },
  {
   "cell_type": "code",
   "execution_count": null,
   "id": "f96cc4be-4ed6-4a50-bc9a-1062a0a324e2",
   "metadata": {
    "jupyter": {
     "source_hidden": true
    }
   },
   "outputs": [],
   "source": [
    "# Conclusion!\n",
    "\n",
    "print(\"\"\"Conclusion: \n",
    "\n",
    "Pitchers with age of 30-50 are more likely to get an offer\"\"\")"
   ]
  },
  {
   "cell_type": "markdown",
   "id": "3d6d560d-a554-408f-835e-59b92450212b",
   "metadata": {
    "jp-MarkdownHeadingCollapsed": true
   },
   "source": [
    "#### How does the presence of guest investors impact the investment outcomes for startups?"
   ]
  },
  {
   "cell_type": "code",
   "execution_count": null,
   "id": "ddad9d34-6cc4-4f65-8ee0-c752aa79c2ea",
   "metadata": {
    "jupyter": {
     "source_hidden": true
    }
   },
   "outputs": [],
   "source": [
    "guest_offer_given = tank_df.loc[\n",
    "    (tank_df['guest_present'] == 1) &\n",
    "    (tank_df['received_offer'] == 1)\n",
    "].shape[0]\n",
    "\n",
    "guest_total_offer = tank_df.loc[\n",
    "    (tank_df['guest_present'] == 1)\n",
    "].shape[0]\n",
    "\n",
    "no_guest_offer_given = tank_df.loc[\n",
    "    (tank_df['guest_present'] == 0) &\n",
    "    (tank_df['received_offer'] == 1)\n",
    "].shape[0]\n",
    "\n",
    "no_guest_total_offer = tank_df.loc[\n",
    "    (tank_df['guest_present'] == 0)\n",
    "].shape[0]\n",
    "\n",
    "no_guest_percentage = np.round(((no_guest_offer_given / no_guest_total_offer) * 100), decimals=2)\n",
    "guest_percentage = np.round(((guest_offer_given / guest_total_offer) * 100), decimals=2)\n",
    "\n",
    "print(f'Share of pitches that got offer when NO GUEST shark is present: {no_guest_percentage}%')\n",
    "print(f'Share of pitches that got offer when GUEST shark is present: {guest_percentage}%')\n",
    "\n",
    "print(\n",
    "\"\"\"\n",
    "Conclusion: \n",
    "\n",
    "A startup is more likely to get an offer when there is NO GUEST Shark present in the pitch, \n",
    "However it does not makes much of a difference\"\"\")"
   ]
  },
  {
   "cell_type": "markdown",
   "id": "c774d491-82d2-4742-8b57-9167f861f2d4",
   "metadata": {
    "jp-MarkdownHeadingCollapsed": true
   },
   "source": [
    "####  Is there a correlation between a  startup having a patent has and its likelihood of receiving an investment?"
   ]
  },
  {
   "cell_type": "code",
   "execution_count": null,
   "id": "e71f2e57-a682-4980-8ee9-75f208efd498",
   "metadata": {
    "jupyter": {
     "source_hidden": true
    }
   },
   "outputs": [],
   "source": [
    "total_patent_offer = tank_df.loc[\n",
    "    (tank_df['patents'] == 1)\n",
    "].shape[0]\n",
    "\n",
    "patents_got_offer = tank_df.loc[\n",
    "    (tank_df['patents'] == 1) &\n",
    "    (tank_df['received_offer'] == 1)\n",
    "].shape[0]\n",
    "\n",
    "total_non_patent_offer = tank_df.loc[\n",
    "    (tank_df['patents'] == 0)\n",
    "].shape[0]\n",
    "\n",
    "non_patents_got_offer = tank_df.loc[\n",
    "    (tank_df['patents'] == 0) &\n",
    "    (tank_df['received_offer'] == 1)\n",
    "].shape[0]\n",
    "\n",
    "patent_offers = np.round(((patents_got_offer / total_patent_offer) * 100), decimals=2)\n",
    "no_patent_offers = np.round(((non_patents_got_offer / total_non_patent_offer) * 100), decimals=2)\n",
    "\n",
    "print(f'Share of Startups that got offer having NO PATENTS: {no_patent_offers}%')\n",
    "print(f'Share of Startups that got offer having PATENTS: {patent_offers}%')\n",
    "\n",
    "print(\n",
    "\"\"\"\n",
    "Conclusion: \n",
    "\n",
    "Startups with patents do not have a significantly higher chance of receiving offers \\nWhen compared to those without patents\"\"\"\n",
    ")"
   ]
  },
  {
   "cell_type": "markdown",
   "id": "8df8d4f5-276a-4bf4-bd83-c68ae8af1916",
   "metadata": {
    "jp-MarkdownHeadingCollapsed": true
   },
   "source": [
    "####  Are there any significant differences in investment patterns between male and female presenters and presenter count?"
   ]
  },
  {
   "cell_type": "code",
   "execution_count": null,
   "id": "3f8b92a0-0f4f-4f39-874f-43abdbaa5efc",
   "metadata": {
    "jupyter": {
     "source_hidden": true
    }
   },
   "outputs": [],
   "source": [
    "presenter_count_offer = tank_df.loc[\n",
    "    (tank_df['received_offer'] == 1),\n",
    "    ['presenter_count', 'startup_name']\n",
    "].groupby('presenter_count').count().rename(\n",
    "    columns = {\n",
    "        \"startup_name\": \"Startups Got Offer\"\n",
    "    }\n",
    ")\n",
    "\n",
    "print(\n",
    "    \"\"\"Conclusion: \n",
    "\n",
    "Chances of getting an offer gets better if there are 1, 2 or max 3 presenters\"\"\"\n",
    ")"
   ]
  },
  {
   "cell_type": "code",
   "execution_count": null,
   "id": "71c6c182-59e3-4263-bbd7-9d8ba008f9d8",
   "metadata": {
    "jupyter": {
     "source_hidden": true
    }
   },
   "outputs": [],
   "source": [
    "fig = go.Figure(data=[go.Pie(\n",
    "    labels=presenter_count_offer.index.tolist(),\n",
    "    values=presenter_count_offer['Startups Got Offer'].tolist(),\n",
    "    pull=[0, 0.075, 0, 0, 0, 0],\n",
    "    marker=dict(\n",
    "        colors=['#ef476f', '#ffd166', '#06d6a0', '#118ab2', '#073b4c', '#9d4edd'], \n",
    "        line=dict(color='black', width=0.25)\n",
    "    ),\n",
    "    textinfo='label+percent',\n",
    "    hoverinfo='label+percent+value'\n",
    ")])\n",
    "\n",
    "fig.update_layout(\n",
    "    title={\n",
    "        'text': 'Distribution of Startups that Got Offer by No. of Presenters',\n",
    "        'x': 0.5,\n",
    "        'xanchor': 'center',\n",
    "        'yanchor': 'top'\n",
    "    },\n",
    "    legend=dict(\n",
    "        title='No. of presenters',\n",
    "        title_font_size=16,\n",
    "        x=1.25, \n",
    "        y=0.75,  \n",
    "        traceorder='normal',\n",
    "        orientation='v', \n",
    "        bgcolor='rgba(255, 255, 255, 0.8)', \n",
    "        bordercolor='black',\n",
    "        borderwidth=0.0,\n",
    "        font=dict(\n",
    "            size=14, \n",
    "            color=\"black\" \n",
    "        )\n",
    "    ),\n",
    "    plot_bgcolor='white',\n",
    "    paper_bgcolor='white',\n",
    "    width=600,\n",
    "    height=600\n",
    ")\n",
    "\n",
    "fig.show()"
   ]
  },
  {
   "cell_type": "code",
   "execution_count": null,
   "id": "e582d680-c30c-43e3-8a25-198827c05133",
   "metadata": {
    "jupyter": {
     "source_hidden": true
    }
   },
   "outputs": [],
   "source": [
    "total_pitches = tank_df.shape[0]\n",
    "\n",
    "male_presenter_offer = tank_df.loc[\n",
    "    (tank_df['male_presenter'] > 0) &\n",
    "    (tank_df['female_presenters'] == 0) &\n",
    "    (tank_df['received_offer'] == 1)\n",
    "].shape[0]\n",
    "\n",
    "female_presenter_offer = tank_df.loc[\n",
    "    (tank_df['female_presenters'] > 0) &\n",
    "    (tank_df['male_presenter'] == 0) &\n",
    "    (tank_df['received_offer'] == 1)\n",
    "].shape[0]\n",
    "\n",
    "male_female_presenter_offer = tank_df.loc[\n",
    "    (tank_df['female_presenters'] > 0) &\n",
    "    (tank_df['male_presenter'] > 0) &\n",
    "    (tank_df['received_offer'] == 1)\n",
    "].shape[0]\n",
    "\n",
    "male_offer_percentage = np.round(((male_presenter_offer / total_pitches) * 100), decimals=2)\n",
    "female_offer_percentage = np.round(((female_presenter_offer / total_pitches) * 100), decimals=2)\n",
    "male_female_offer_percentage = np.round(((male_female_presenter_offer / total_pitches) * 100), decimals=2)\n",
    "\n",
    "print(\n",
    "    f\"\"\"Pitches that got offer with MALE presenters only: {male_offer_percentage}%\n",
    "Pitches that got offer with FEMALE presenters only: {female_offer_percentage}%\n",
    "Pitches that got offer with MALE & FEMALE presenters: {male_female_offer_percentage}%\n",
    "\n",
    "Conclusion:\n",
    "\n",
    "Pitches with MALE presenters only are more likely to get offers\"\"\"\n",
    ")"
   ]
  },
  {
   "cell_type": "markdown",
   "id": "e8f44bb5-6683-4f82-8332-edabe8f5872b",
   "metadata": {
    "jp-MarkdownHeadingCollapsed": true
   },
   "source": [
    "#### How do the valuations requested by startups compare to the actual deal valuations?"
   ]
  },
  {
   "cell_type": "code",
   "execution_count": null,
   "id": "e0c815db-f9af-42c5-a462-3029df512fd2",
   "metadata": {
    "jupyter": {
     "source_hidden": true
    }
   },
   "outputs": [],
   "source": [
    "valuation_estimation = tank_df.loc[\n",
    "    (tank_df['received_offer'] == 1),\n",
    "    ['startup_name', 'valueation_requested', 'deal_valuation']\n",
    "]\n",
    "\n",
    "valuation_estimation['valueation_requested'] = valuation_estimation['valueation_requested'].round(2)"
   ]
  },
  {
   "cell_type": "code",
   "execution_count": null,
   "id": "535c724f-282f-4626-a31d-ce9673afc00e",
   "metadata": {
    "jupyter": {
     "source_hidden": true
    }
   },
   "outputs": [],
   "source": [
    "# Plot for Valuation requested vs Deal valuationabs\n",
    "\n",
    "data = {\n",
    "    'startup_name': valuation_estimation['startup_name'],\n",
    "    'valueation_requested': valuation_estimation['valueation_requested'],\n",
    "    'deal_valuation': valuation_estimation['deal_valuation']\n",
    "}\n",
    "\n",
    "df = pd.DataFrame(data)\n",
    "\n",
    "fig = px.scatter(\n",
    "    df,\n",
    "    x='valueation_requested',\n",
    "    y='deal_valuation',\n",
    "    labels={\n",
    "        'valueation_requested': 'Valuation Requested (in Lakhs)',\n",
    "        'deal_valuation': 'Deal Valuation (in Lakhs)'\n",
    "    },\n",
    "    title='Scatter Plot of Valuation Requested vs. Deal Valuation',\n",
    "    hover_data=['startup_name']\n",
    ")\n",
    "\n",
    "fig.update_traces(\n",
    "    marker=dict(\n",
    "        size=10, \n",
    "        color='rgb(255, 99, 71)',\n",
    "        line=dict(width=1, color='black') \n",
    "    )\n",
    ")\n",
    "fig.update_layout(\n",
    "    plot_bgcolor='white',\n",
    "    paper_bgcolor='white',\n",
    "    title={\n",
    "        'text': 'Valuation Requested vs. Deal Valuation for Startups',\n",
    "        'x': 0.5,\n",
    "        'xanchor': 'center'\n",
    "    },\n",
    "    xaxis=dict(\n",
    "        showline=True,\n",
    "        linewidth=1,\n",
    "        linecolor='black',\n",
    "        title='Valuation Requested in Lakhs (INR)',\n",
    "    ),\n",
    "    yaxis=dict(\n",
    "        showline=True,\n",
    "        linewidth=1,\n",
    "        linecolor='black',\n",
    "        title='Deal Valuation in Lakhs (INR)',\n",
    "    )\n",
    ")\n",
    "\n",
    "fig.show()"
   ]
  },
  {
   "cell_type": "markdown",
   "id": "17829e56-bc60-41ca-9b51-143e2b27fa68",
   "metadata": {},
   "source": [
    "#### Done"
   ]
  }
 ],
 "metadata": {
  "kernelspec": {
   "display_name": "Python 3 (ipykernel)",
   "language": "python",
   "name": "python3"
  },
  "language_info": {
   "codemirror_mode": {
    "name": "ipython",
    "version": 3
   },
   "file_extension": ".py",
   "mimetype": "text/x-python",
   "name": "python",
   "nbconvert_exporter": "python",
   "pygments_lexer": "ipython3",
   "version": "3.12.3"
  },
  "widgets": {
   "application/vnd.jupyter.widget-state+json": {
    "state": {},
    "version_major": 2,
    "version_minor": 0
   }
  }
 },
 "nbformat": 4,
 "nbformat_minor": 5
}
